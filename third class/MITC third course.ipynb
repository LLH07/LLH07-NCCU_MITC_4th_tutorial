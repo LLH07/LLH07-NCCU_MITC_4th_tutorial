{
 "cells": [
  {
   "cell_type": "markdown",
   "metadata": {},
   "source": [
    "# 迴圈原理及應用\n",
    "--------\n",
    "林隆鴻 2020/10/29"
   ]
  },
  {
   "cell_type": "markdown",
   "metadata": {},
   "source": [
    "## Outline\n",
    "1. ```if```介紹\n",
    "1. ```for``` 迴圈介紹\n",
    "2. ```while``` 迴圈介紹\n",
    "3. 題目練習"
   ]
  },
  {
   "cell_type": "markdown",
   "metadata": {},
   "source": [
    "## 1. ```if```:"
   ]
  },
  {
   "cell_type": "markdown",
   "metadata": {},
   "source": [
    "(1)基本架構:  \n",
    "```python\n",
    "if (條件):\n",
    "    如果條件成立，執行此區塊。\n",
    "else:\n",
    "    條件不成立，則執行此區塊。\n",
    "```"
   ]
  },
  {
   "cell_type": "markdown",
   "metadata": {},
   "source": [
    "#### EX1: 你今天想用```python```給使用者猜擲一次銅板是正面還是反面，你可以這樣寫(<font color='red'>假設正確答案是```head```</font>):"
   ]
  },
  {
   "cell_type": "code",
   "execution_count": 1,
   "metadata": {},
   "outputs": [],
   "source": [
    "def guess_func(guess):\n",
    "    if guess == \"tail\": # ==: 關係運算子\n",
    "        print(\"You are wrong, guess again!\")\n",
    "    else:\n",
    "        print(\"You are right!\")"
   ]
  },
  {
   "cell_type": "code",
   "execution_count": 2,
   "metadata": {},
   "outputs": [
    {
     "name": "stdout",
     "output_type": "stream",
     "text": [
      "You are wrong, guess again!\n"
     ]
    }
   ],
   "source": [
    "guess_func(\"tail\")"
   ]
  },
  {
   "cell_type": "markdown",
   "metadata": {},
   "source": [
    "* 盲點: 只要你不輸入```tail```，電腦就認定是對的，但這跟遊戲的目的不一樣:"
   ]
  },
  {
   "cell_type": "code",
   "execution_count": 3,
   "metadata": {},
   "outputs": [
    {
     "name": "stdout",
     "output_type": "stream",
     "text": [
      "You are right!\n"
     ]
    }
   ],
   "source": [
    "guess_func(\"aaaaaaaaaaaa\")"
   ]
  },
  {
   "cell_type": "markdown",
   "metadata": {},
   "source": [
    "(2)改善: 使用```elif(else if)```架構:  \n",
    "基本架構:\n",
    "```python\n",
    "if (條件一):\n",
    "    執行結果一\n",
    "elif (條件二):\n",
    "    執行結果二\n",
    "else:\n",
    "    執行結果三\n",
    "```\n",
    "---\n",
    "* 注意: 在一個 ```if-else``` 判斷式裡可以有<font color='red'>無限多個</font>```elif```，但只能有一個```else```。\n",
    "* ```else``` 後面不用加條件: 意思就是只要不符合條件一或條件二，就通通執行 ```else``` 的程式碼。"
   ]
  },
  {
   "cell_type": "markdown",
   "metadata": {},
   "source": [
    "一樣假設正確答案是```head```:"
   ]
  },
  {
   "cell_type": "code",
   "execution_count": 4,
   "metadata": {},
   "outputs": [],
   "source": [
    "def guess_func2(guess):\n",
    "    if guess == \"head\": # 回答 \"head\" 是正確答案\n",
    "        print(\"You are right!\")\n",
    "    elif guess == \"tail\": \n",
    "        print(\"You are wrong, guess again!\")\n",
    "    else: # 如果回答其他答案也是錯\n",
    "        print(\"Not correct syntax, please type 'head' or 'tail'!\")"
   ]
  },
  {
   "cell_type": "code",
   "execution_count": 5,
   "metadata": {},
   "outputs": [
    {
     "name": "stdout",
     "output_type": "stream",
     "text": [
      "Not correct syntax, please type 'head' or 'tail'!\n"
     ]
    }
   ],
   "source": [
    "guess_func2(\"aaaaaaa\")"
   ]
  },
  {
   "cell_type": "markdown",
   "metadata": {},
   "source": [
    "#### Python 的 ```EAFP``` (Easier to Ask Forgivness than Permission)原則:"
   ]
  },
  {
   "cell_type": "markdown",
   "metadata": {},
   "source": [
    "先舉一個反例:   \n",
    "今天我有一個字典(```dict```)，裡面存放不同人的性別，年齡，工作等。  \n",
    "如果某人的所有資料都在這個字典裡，就把他的資料印出來:"
   ]
  },
  {
   "cell_type": "code",
   "execution_count": 6,
   "metadata": {},
   "outputs": [],
   "source": [
    "person = {'name':'Bob', 'age':23, 'job':'developer'}"
   ]
  },
  {
   "cell_type": "code",
   "execution_count": 7,
   "metadata": {
    "scrolled": true
   },
   "outputs": [
    {
     "ename": "NameError",
     "evalue": "name 'people' is not defined",
     "output_type": "error",
     "traceback": [
      "\u001b[1;31m---------------------------------------------------------------------------\u001b[0m",
      "\u001b[1;31mNameError\u001b[0m                                 Traceback (most recent call last)",
      "\u001b[1;32m<ipython-input-7-20080792d777>\u001b[0m in \u001b[0;36m<module>\u001b[1;34m\u001b[0m\n\u001b[1;32m----> 1\u001b[1;33m \u001b[1;32mif\u001b[0m \u001b[1;34m\"name\"\u001b[0m \u001b[1;32min\u001b[0m \u001b[0mpeople\u001b[0m \u001b[1;32mand\u001b[0m \u001b[1;34m'age'\u001b[0m \u001b[1;32min\u001b[0m \u001b[0mpeople\u001b[0m \u001b[1;32mand\u001b[0m \u001b[1;34m'job'\u001b[0m \u001b[1;32min\u001b[0m \u001b[0mpeople\u001b[0m\u001b[1;33m:\u001b[0m\u001b[1;33m\u001b[0m\u001b[1;33m\u001b[0m\u001b[0m\n\u001b[0m\u001b[0;32m      2\u001b[0m     \u001b[0mprint\u001b[0m\u001b[1;33m(\u001b[0m\u001b[1;34m\"I'm {name}. I'm {age} age years old. I am a {job}.\"\u001b[0m\u001b[1;33m.\u001b[0m\u001b[0mformat\u001b[0m\u001b[1;33m(\u001b[0m\u001b[1;33m**\u001b[0m\u001b[0mperson\u001b[0m\u001b[1;33m)\u001b[0m\u001b[1;33m)\u001b[0m\u001b[1;33m\u001b[0m\u001b[1;33m\u001b[0m\u001b[0m\n\u001b[0;32m      3\u001b[0m \u001b[1;32melse\u001b[0m\u001b[1;33m:\u001b[0m\u001b[1;33m\u001b[0m\u001b[1;33m\u001b[0m\u001b[0m\n\u001b[0;32m      4\u001b[0m     \u001b[0mprint\u001b[0m\u001b[1;33m(\u001b[0m\u001b[1;34m\"Missing some keys.\"\u001b[0m\u001b[1;33m)\u001b[0m\u001b[1;33m\u001b[0m\u001b[1;33m\u001b[0m\u001b[0m\n",
      "\u001b[1;31mNameError\u001b[0m: name 'people' is not defined"
     ]
    }
   ],
   "source": [
    "if \"name\" in people and 'age' in people and 'job' in people:\n",
    "    print(\"I'm {name}. I'm {age} age years old. I am a {job}.\".format(**person))\n",
    "else:\n",
    "    print(\"Missing some keys.\")"
   ]
  },
  {
   "cell_type": "markdown",
   "metadata": {},
   "source": [
    "這種寫法沒錯，但不符合 ```python``` 的寫作風格:"
   ]
  },
  {
   "cell_type": "code",
   "execution_count": 8,
   "metadata": {},
   "outputs": [
    {
     "name": "stdout",
     "output_type": "stream",
     "text": [
      "I'm Bob. I'm 23 age years old. I am a developer.\n"
     ]
    }
   ],
   "source": [
    "# EAFP(Pythonic) 的寫作風格:\n",
    "try:\n",
    "    print(\"I'm {name}. I'm {age} age years old. I am a {job}.\".format(**person))\n",
    "except KeyError as e:\n",
    "    print(\"Missing {} key\".format(e))"
   ]
  },
  {
   "cell_type": "markdown",
   "metadata": {},
   "source": [
    "## 2. ```for``` 迴圈"
   ]
  },
  {
   "cell_type": "markdown",
   "metadata": {},
   "source": [
    "### (1)基本架構:\n",
    "```python\n",
    "for 變數 in 可迭代物件:\n",
    "    執行程式碼\n",
    "```"
   ]
  },
  {
   "cell_type": "markdown",
   "metadata": {},
   "source": [
    "* 可迭代物件包括: <font color='green'> 串列，元組，字典，集合，```range()``` </font> 等。"
   ]
  },
  {
   "cell_type": "markdown",
   "metadata": {},
   "source": [
    "#### EX1:列印出一個串列的所有元素。"
   ]
  },
  {
   "cell_type": "code",
   "execution_count": 9,
   "metadata": {},
   "outputs": [
    {
     "name": "stdout",
     "output_type": "stream",
     "text": [
      "apple\n",
      "banana\n",
      "cherry\n",
      "durian\n"
     ]
    }
   ],
   "source": [
    "fruits = ['apple', 'banana', 'cherry', 'durian'] # fruits 是一個 list，可迭代。\n",
    "\n",
    "for i in fruits:\n",
    "    print(i)"
   ]
  },
  {
   "cell_type": "markdown",
   "metadata": {},
   "source": [
    "* ```range()``` 是一個 sequence，但可以把它當作<font color='red'> python 的內建函數，語法:\n",
    "```python\n",
    "range(起始值, 終止值, 間隔值)\n",
    "```"
   ]
  },
  {
   "cell_type": "markdown",
   "metadata": {},
   "source": [
    "> Rather than being a function, range is actually an immutable sequence type, as documented in Ranges and Sequence Types — list, tuple, range.   "
   ]
  },
  {
   "cell_type": "code",
   "execution_count": 10,
   "metadata": {
    "scrolled": true
   },
   "outputs": [
    {
     "data": {
      "text/plain": [
       "[0, 1, 2, 3, 4, 5, 6, 7, 8, 9]"
      ]
     },
     "execution_count": 10,
     "metadata": {},
     "output_type": "execute_result"
    }
   ],
   "source": [
    "a = list(range(10))\n",
    "a"
   ]
  },
  {
   "cell_type": "markdown",
   "metadata": {},
   "source": [
    "#### EX2: 叫 ```python``` 幫我們算 ```0``` 到 ```100``` 相加。"
   ]
  },
  {
   "cell_type": "code",
   "execution_count": 11,
   "metadata": {},
   "outputs": [
    {
     "name": "stdout",
     "output_type": "stream",
     "text": [
      "5050\n"
     ]
    }
   ],
   "source": [
    "ans = 0 # 先將 ans 設為 0。\n",
    "\n",
    "for i in range(101):\n",
    "    ans = ans + i # ans += i\n",
    "print(ans)"
   ]
  },
  {
   "cell_type": "markdown",
   "metadata": {},
   "source": [
    "#### [練習 1]: 算 ```1``` 到 ```100``` 的奇數和。"
   ]
  },
  {
   "cell_type": "code",
   "execution_count": 12,
   "metadata": {},
   "outputs": [
    {
     "name": "stdout",
     "output_type": "stream",
     "text": [
      "2500\n"
     ]
    }
   ],
   "source": [
    "ans2 = 0\n",
    "for i in range(1, 101, 2):\n",
    "    ans2 += i \n",
    "print(ans2)"
   ]
  },
  {
   "cell_type": "markdown",
   "metadata": {},
   "source": [
    "#### EX2.2: 算 ```2``` 到 ```250``` 裡 ```7``` 的倍數和:"
   ]
  },
  {
   "cell_type": "code",
   "execution_count": 14,
   "metadata": {},
   "outputs": [
    {
     "name": "stdout",
     "output_type": "stream",
     "text": [
      "4410\n"
     ]
    }
   ],
   "source": [
    "ans3 = 0\n",
    "\n",
    "for i in range(2, 251):\n",
    "    if i % 7 == 0:\n",
    "        ans3 += i\n",
    "print(ans3)"
   ]
  },
  {
   "cell_type": "markdown",
   "metadata": {},
   "source": [
    "### (2) 巢狀 ```for``` 迴圈:"
   ]
  },
  {
   "cell_type": "markdown",
   "metadata": {},
   "source": [
    "#### EX1: 九九乘法表:"
   ]
  },
  {
   "cell_type": "code",
   "execution_count": 15,
   "metadata": {},
   "outputs": [
    {
     "name": "stdout",
     "output_type": "stream",
     "text": [
      "1 * 1 = 1\n",
      "1 * 2 = 2\n",
      "1 * 3 = 3\n",
      "1 * 4 = 4\n",
      "1 * 5 = 5\n",
      "1 * 6 = 6\n",
      "1 * 7 = 7\n",
      "1 * 8 = 8\n",
      "1 * 9 = 9\n",
      " \n",
      "2 * 1 = 2\n",
      "2 * 2 = 4\n",
      "2 * 3 = 6\n",
      "2 * 4 = 8\n",
      "2 * 5 = 10\n",
      "2 * 6 = 12\n",
      "2 * 7 = 14\n",
      "2 * 8 = 16\n",
      "2 * 9 = 18\n",
      " \n",
      "3 * 1 = 3\n",
      "3 * 2 = 6\n",
      "3 * 3 = 9\n",
      "3 * 4 = 12\n",
      "3 * 5 = 15\n",
      "3 * 6 = 18\n",
      "3 * 7 = 21\n",
      "3 * 8 = 24\n",
      "3 * 9 = 27\n",
      " \n",
      "4 * 1 = 4\n",
      "4 * 2 = 8\n",
      "4 * 3 = 12\n",
      "4 * 4 = 16\n",
      "4 * 5 = 20\n",
      "4 * 6 = 24\n",
      "4 * 7 = 28\n",
      "4 * 8 = 32\n",
      "4 * 9 = 36\n",
      " \n",
      "5 * 1 = 5\n",
      "5 * 2 = 10\n",
      "5 * 3 = 15\n",
      "5 * 4 = 20\n",
      "5 * 5 = 25\n",
      "5 * 6 = 30\n",
      "5 * 7 = 35\n",
      "5 * 8 = 40\n",
      "5 * 9 = 45\n",
      " \n",
      "6 * 1 = 6\n",
      "6 * 2 = 12\n",
      "6 * 3 = 18\n",
      "6 * 4 = 24\n",
      "6 * 5 = 30\n",
      "6 * 6 = 36\n",
      "6 * 7 = 42\n",
      "6 * 8 = 48\n",
      "6 * 9 = 54\n",
      " \n",
      "7 * 1 = 7\n",
      "7 * 2 = 14\n",
      "7 * 3 = 21\n",
      "7 * 4 = 28\n",
      "7 * 5 = 35\n",
      "7 * 6 = 42\n",
      "7 * 7 = 49\n",
      "7 * 8 = 56\n",
      "7 * 9 = 63\n",
      " \n",
      "8 * 1 = 8\n",
      "8 * 2 = 16\n",
      "8 * 3 = 24\n",
      "8 * 4 = 32\n",
      "8 * 5 = 40\n",
      "8 * 6 = 48\n",
      "8 * 7 = 56\n",
      "8 * 8 = 64\n",
      "8 * 9 = 72\n",
      " \n",
      "9 * 1 = 9\n",
      "9 * 2 = 18\n",
      "9 * 3 = 27\n",
      "9 * 4 = 36\n",
      "9 * 5 = 45\n",
      "9 * 6 = 54\n",
      "9 * 7 = 63\n",
      "9 * 8 = 72\n",
      "9 * 9 = 81\n",
      " \n"
     ]
    }
   ],
   "source": [
    "for i in range(1, 10):\n",
    "    for j in range(1, 10):\n",
    "        print(f'{i} * {j} = {i * j}')\n",
    "    print(\" \")"
   ]
  },
  {
   "cell_type": "markdown",
   "metadata": {},
   "source": [
    "* 巢狀迴圈的缺點是閱讀不易。"
   ]
  },
  {
   "cell_type": "markdown",
   "metadata": {},
   "source": [
    "## ```While``` 迴圈"
   ]
  },
  {
   "cell_type": "markdown",
   "metadata": {},
   "source": [
    "```for``` 迴圈的特色之一是有<font color='red'>固定的循環次數</font>，那如果今天想要一個依照條件停止的迴圈，就可以考慮使用 ```while```。"
   ]
  },
  {
   "cell_type": "markdown",
   "metadata": {},
   "source": [
    "(1) 基本架構:\n",
    "```python\n",
    "while (條件判斷):\n",
    "    條件成立，則執行此區域。\n",
    "條件不成立，跳過 block，直接執行此區塊。\n",
    "```"
   ]
  },
  {
   "cell_type": "markdown",
   "metadata": {},
   "source": [
    "#### EX1: 用剛才水果串列的例子。"
   ]
  },
  {
   "cell_type": "code",
   "execution_count": 16,
   "metadata": {},
   "outputs": [],
   "source": [
    "fruits = ['apple', 'banana', 'cherry', 'durian']"
   ]
  },
  {
   "cell_type": "code",
   "execution_count": 17,
   "metadata": {},
   "outputs": [
    {
     "name": "stdout",
     "output_type": "stream",
     "text": [
      "apple\n",
      "banana\n",
      "cherry\n",
      "durian\n"
     ]
    }
   ],
   "source": [
    "i = 0\n",
    "while i < 4: # i 可以等於 0, 1, 2, 3\n",
    "    print(fruits[i])\n",
    "    i += 1"
   ]
  },
  {
   "cell_type": "markdown",
   "metadata": {},
   "source": [
    "小心<font color='red'> 無限迴圈(infinte loop) </font>!!"
   ]
  },
  {
   "cell_type": "markdown",
   "metadata": {},
   "source": [
    "```python\n",
    "i = 0\n",
    "while i < 4:\n",
    "    print(fruits[i])\n",
    "    # i += 1\n",
    "```\n",
    "通常在做迴圈時，都會設定一個指標(這個例子是```i```)，它可以用來幫我們判斷甚麼時候該停止迴圈。  \n",
    "可以自己把 ```i+=1``` comment 掉，就會出現無限迴圈，你的電腦就會變很吵。"
   ]
  },
  {
   "cell_type": "markdown",
   "metadata": {},
   "source": [
    "![infinite loop](data:image/png;base64,iVBORw0KGgoAAAANSUhEUgAABWgAAAIJCAIAAAC3HkNiAAAAAXNSR0IArs4c6QAAAARnQU1BAACxjwv8YQUAAAAJcEhZcwAADsMAAA7DAcdvqGQAAEwpSURBVHhe7d19dKTXXSf40oslt2WVNNhJSskSq/fMjA0L2MyLuwU2o+MsL5PdTvXMxO1SNtvpYRnWOAw5M3FABeMMpJdTFejMnpAXvJCZmEakyt0ZUKV3MjCMvTqxB1WbNzthM23gnJbDOiqDzYDy0iGJqX2ep26VqiSVpZbVbZX0+Rwd+z73uc9Tarf/ud+693f76vV6CgAAAGAj/eHfAAAAAOsIDgAAAICuBAcAAABAV4IDAAAAoCvBAQAAANCV4AAAAADoSnAAAAAAdCU4AAAAALrqq9frocmucfHixRdffPGLX/xiuAYAAIAr6frrrx8YGDh48GC4biM42HUuXrwY/W29+tWvDtcAAABw5f3pn/7piy++uD47sFVh1/n6178uNQAAAOAqi6ai0YQ0XLQRHOw6X/rSl0ILAAAArqINJ6SCAwAAAKArwQEAAADQleAAAAAA6EpwAAAAAHQlOAAAAAC6EhwAAAAAXQkOAAAAgK4EB+v98c9OP/TtzZ+f/WzoXfXni2+f/vVPh4s2cX/rwY9/4s9D9w47f+pA5NjZWrgGAACAK0hwsLHvmH3T7y+ciH7e9c2hJ5X680/8aBIHfMOrJm8fe20q9fyvf/zbP/jH4WbkG6Y+lDzy+x/OhB4AAADocb0aHMST9tWv98PPBqsDdtI3vOnE9f/6Hz+UhAV/+dEffei7i6mfesvfDDevmkP3X4qcufuqhRPnP37gwPvDz7FHLXQAAADYX3o1OLjx+96crAh400/dnkq9+Y51qwOujG/+vviD7kp97Ikv3jwbfeKb3/QN4c4eVTv77w5MP3ty4R2XLkU/333y3GcOyg4AAAD2lb25VeHTH0zWBbQVHdiZxQif/fX4bY+m3nL79U8Xo9duVOngJTR+n/bdDZelUd2g4dT50HlFfXbu+BeOnH7L/Ycal998/8VvPXLuM3NX5bMBAADYFfZujYOPP/7t//gv//dkJcJvzl7/sftefrXCP//EQ1/8qV898ftvGVtKjf3Tn4le+8W3XU4K8PwTz/5W9K+P//HlxQ0tjU0Kly6ePhI6tmbgd3/w2nP/w7qfHxx6Pgzo6vxnH0iN3n3nq8Jl1DH3mXOp1AOPXdktIQAAAOwie7g44vU/9avf921J68bbX/cdqS8+/XKX2H/Dm36muTfhib/8fGO7xA9fRo2D5NdIpd78Nxu/1a5X+9xKKpV+fSim8Gdnj71/OvXdCyejP33NbgUAAID9Yu8GB9Es/QoVIIhPTwiRxOVpHLtwOVnDTnjx7/7CV478v+t+fuGrN4YBm6s9euzAx5555zsu3X+lq0gAAACwy+zhFQfsjPMfP3Bw6e6L72hWOgAAAGA/ERzseduucZB5fTqVenZ6OrVw6fubpz/+2eeeSKVuz1y1syABAAB4hQkOrqKXearCVXfom0+mUkdO/4PVpQa1z5w9lzp5pw0LAAAA+4bg4Op5uacqbNPLqHHwzW89PXru+LmzoRbiZ08d/My5k99tzwIAAMA+0qvBwfO//vFvn37o26c/8a+fSE5ejNsP/ezuPibwZZ6qcP7UgcTB4/GRiNONi1Pnw90rI3P39188nTp+8P0HDkQ/v/nAye9WHxEAAGB/6avX66FJ8Mc/O/340uybPvR92z2V4bO//u33ffGnfrV5duNlevLJJ2+55ZZwAQAAAFfLhQsXbrvttnDRZKsCAAAA0JXgAAAAAOhKcLCx3yp+4rLrJjQOTYh+7gvFBAEAAKDXqXGw66hxAAAAwCtCjQPgynj+8WPveXijIz4unHrPh84+Hy4AAIBeZMXBrmPFAe1qj3/o4KMvhIvN3XD6vrfffWPcih78kdQ9Z+5ILjb2/NkPPZy6J4xvijo//Mwb3n1/5/+D5x9+z/ted1/3t1049Z6n7nz3PYfCZRA9Nf30zQvr+gEAgN1pwxUHgoNdR3DAZXv+8WMPp37u7XdkwnWkPRSIZvVnUsfWZgEbPbVx3BCHF8++4dI9L/G/5QbBQZI1HLv7qUfWZRMAAMAuJTjoDdsIDmq/cezgk+dS37hw6S2X+83u+VPvnX4gtFOp9OmLP3R3+zTyZTp/6kD09iOnL57Zybf2nHje/kDbWoAdt8FsvzMU2HDmH3XO3fj29jQhHrZmdcPNxy7d+tSBM0+Hy6Yjd8WrDzYYH4keueeW1gqFDX43AABgt1LjYH977hP/7NTkgfe+6QP/9Suhh6vj+eefiP914+uv1Nz5+ceeSt19S8fbaxeeSt16SyutydzxhpNPP9JZa+DC3KM33tmZGkQz/EvvPnYyzjjefend8c/F1z1y4Klb4/Z9dx1J3byQdEY/jSAgc8fbk/Gr/fFPW2oQj7nl1tSjj2xU/gAAAOgNgoN97tD9P3bpUvTzxpOhY0cduv9S5KovNzh/6v0HDrz/wLFHd/BczOfPfug9xx5PZt4XHj6wcSHALm6840w8o972Pv/4ow+8Z93Phx4Pf7znL5xN3XpnR26wPkq45c6bXzh7YTU5qD3+yBN3vaH1K0VT/ea6gLaRFx5eXadw4x3vvPnpxy7EzQ4Xnnrg5lvb/mgXTr3nPY/dGpKFWPLg9MPrn1yj/Y+5g/UUV197atNfYas6/kbC/xUvW+3xD7XeuYOvBQCAl09wsG+85k2/eP/SpR/7xD//pmtDz6734srgb/3g8O8/2xeut+b8x9s2X+yUaHL+wg2NqXjt+edTHVPlK+zCI8dTd11s/0r/3e++eNcNR5oLCtYsLohtECWkDt1687lnW3PR5x976sZ3tm0fOHTP6lS/1T7/1NMnb11dkxD1r62SEI95/vQbWr3RjPqRm+5bO+zQPcdOPv3US0Ut8aEMHz5+47Hmny51/MMvPztoTO8fTt3z7oWbo8sbbur8D7JdF06958Nnb72v9Rdx7tEP70gkkSzfaP4VH7s5eq3sAACAXUJw0Au+8ql3vffAgfeeeipcN/3+vzrw3gPHfuOZcJn6q2cW3vWmeD/C5K0//4tPfTH01n7jWDSs9XPqM6F/S75e+1TlnyfvPDB56k3v+o2n/yLc2MT5UwdaTm1rnfrXnr3mU28ZfOG/9P1//+fgfwt9W/BnZ9/3bOrkdy9suIKidvbY9n6faHJ+7obGVDyacr/QPp3uru176c2/b+8qnr2/oaN+YfI7tBYUbL5PIbjlntUaBxceOXvr6nKDjl+17Wf66dQDZ9Z2dsxmn3/8fU+/cPzDrVupu9/+9rtvjN/WOem95f6XWnDx/NmHHz13w10Xm79evLEi1bE+YltuvPvt0SQ8/n0+F79pp7aKRH+W1ZAlc8utR1KpJ57f6Rn+ja+LXgsAALuE4KAXXDv2+oHoX3+xpjhB7U//MPrnTd/wmsZl6k+O/4PzH/zNF59LpZ77w5Ufyf7ap152MYNnzv7i4e+98JHknannXvzNDz55W/bMU1t5bWOTwqWLp7c1/+n7whND//l/HvjixdTgv/j69Kmv/Y3Qv6na2XPHz71u4f5vDtedao+dPRf964HHLiM5OP9wPCWOSwC+8OjBeHr84eMvNKbTm3wlXnv8kdQ94Uvp1Nr6Alt34bGnb26vRBBrX1CwpX0Ka1w4dSbVvtygOcfu/Dl2c1zmcE1n25w5EicUdzW+e48rHTTfeePd99yV2voX5hceif6Ttocj5x8+s6NrRp5/5oVU6obX3RQue8Hzz0b/p95+40v8JQIAwNUjOOgJr7lpJPrnH34uzgTOHnvvgQO/HIcCz33pmVTq214/1tp68NxNr61cfOel//Y97/y26OLzTzRWKGS+90xcxeDHLp5OJ9db9pXf/sV3rTz3bdE73xHXQfhvb6388EDqiYsf+dRfhgFXRt/y/NDCP+3/+lfr6f/ra9/zA18fDf2bqz36I8e/cHLhzd2+287ceXecY5y88zL2GRyKJ//RrDh18lg8bY5TgBsaGwc2OSIhc8c9bQO2+3X32goCsWi6fntzmr3FfQrtoml56tja7//XbLCPf848nXr6TGfnmsoOcXnFEBas+T1vvOPMfVvNDs4/9XT0n/StjXAk3rPwnsdujf+D75ikOGVrZ8fOOv/Io+dWE5MdcuHh6D/+kbvuW78xBAAAXhGCg56QuemG16RSz9T+MvUX//VT8ZfmSSjwla98OpX62zfd0BgTH6Z4+n/9nsxg6trX3rojX64+9Ufvey6V+vTnswffH+9x+Btz2Q++GHV/5NOfa9y/Egb+oDj0Oz/RlxqtZ8597R/c8WK80mKrzs995tyRb33rS6QCmbvPXLp06f7LyA0S0aw41fjaP96ncLlT0GeefWHbX3evqTKQaD8NYSv7FC6capVRjFx4eDp1bP2MtGOD/dqf1rkJnXHDhada5RU3+D1vvOPMsZvPPXVhswKVFx57Ohp8Y/QLx+HFw6mfe/e7778xnurv2PftV+zb++gXnn46dXJdCrNNcdHNENmcPNaxsgMAAF5ZgoPe8Jqx26Mp/F/91Vc+/ScfeU36yJHU2Sf+sPa5+Jv/W1/TCg7GXr+ji7Eb7+8ZcU3E0dM/d9fOf68cfyXe+Dq9rUTiliUb7JOJ8eXbaJ9C+3f7m+1TSPZZPHXn25u7AKKp6SOva5US2KqNVj1EH3T2kdZ+h41+z8gt91xqfXQ3jeUAr0ud/VB8rENjfO3CU+d2rJZh8te3c29rif7bHnw0dXpdJcjti/5zNZKa++564kzbqRkAAPBKExz0hsxrb4/++cTnP/XUc6kj3/TDdw58+twfPfGVv0ql0jddsZ3b46+5Pv7XWw8tJzsdVn/u/9bk/hXx4rfMfvXv/XQ99YW+2pFr/p9PDnwt9G/ms6emnz1y+sjOHvwYnyx4IKkRGBbtf/jRc6mkFuBlTOriDfZHXretaWu80uHp6ca30K2fM6vf7b/EPoXG1oPHbm1bJpAsgG80VyVbAzrev/6nfc9Cs8pj7fGHn3lD681h6UGyZGA7ZSDPPRrXg2h+xx4v60iFUpQv385WRmyIqz9OP33zwmbbVbYpPsAylXrh2VbVUwAAeGUJDnrEN9x0JJV65nNnH3vxyHd903fd/trUY5+bO/dX8SqDHZ0qt7v2b786rggw9+QDZ/9wi2cp7Ij6xNGvTn/0rweH+r74rmv+87+55guh/6Wc/+wD0fTz+McOHHh/4yc+kfHcZw5G7WOPrs7xL/NUhbh+flwjMCzUv+/0DakjjVqAm36R3pJ8o77NdfKtr6A7f5pfcW+8T+FcUsQx/vZ+dWSy9OCpW6OehRsfnWuf2t94x5l17+/8ae1TSH7CaoULc0/dGqoSxEsPnm/8Gpk77jn9/JltfFV+5K62ehDraiWGdGObJ1N0r4y4zdfGxzEmB2R22aGQ7Dh4eScpJmFHb1VzBABgTxMc9IgbXhPNIj7953Pnho/c/prUza/9gdTKuXPRjOuGTSewtbM/3ziI8eDxlfj6gU8mlz9/Np7dfeZUcuvAgU8mZexXjh9MLhtHNmb+wU+cHE6l/uojx39tIgyLfhoPXln10du/+j/+3y9efzD19X87sHD/NZsex3jozZcuvaP9Jz6O8ci3XozaZ1Y3L2zrVIXWPoV4Cnq5+xSih+IN9g21xz+0Iwf+B+v2KSSL519oRBurO+RDucEw5z/0hrueeGSjiX0y3d3g19ton8L5hx+56Z7mxD76NW58Q3Paf+Pdb7/vdOrRg1vPDpJv1889+kj4K0mWRaypC5jsXEilnn7qMv7aWrpXRtzOa+P/mGceuOGui92To2RnRGoLxR26SYKJF25e2Ho4BQAAV5jgoEeEExlTr3n1374plRr/pu9qHHO4ehbjlXDtrff/wJMPf+Nb7xy43E85f+pA4uDxaG72wHTjYsvf9Ceued3XvutjX7/hO+v/3b/4+paPY3xp2zhVIS7dF7YGRFPobayfv+UNp29oHN/4noPPvmHH9sMn8972fQrnH25sTGgvqhevqA/lBlufG03Ub3zqsfVfh8erG+676ZG1X5Wvr3pYe/xDj93aWqL//NmHn7r7De0DmtnBlr/JP3TPfadvaO7IOPP86fvW1gXM3HJr/Nd2Wd/AJzlI/BPvLkmde/TDcbszzrj81144lbyteTBn86fzT3ro1pvjf11GVYvkr2n1hWeeiKOfHSq4CAAAO6GvXq+HJrvDk08+ecstOze/ZO+IZpgfPv5CuIhPhXyJL6Xjr+6jSfhGm/AvPHwqdc9LRRjPP36sMUOO3HysuT0h8fzjpy7ccn80sW+OOXLXfRvV/79w6j2P3LThp29D8lmpjT/oZbhCr00WTZw8tnNFEwEA4Cq6cOHCbbfdFi6aBAe7juAA2lw4tdnugG25Mq9t5Clr0hYAAOgdGwYHtioAu1NjDX+ydH8np/dX6LUX4jM4Pvzo7cdaJSQBAGCPsOJg17HiAAAAgFeEFQcAAADA5REcAAAAAF0JDgAAAICuBAcAAABAV4IDrqDzHztw4L0Hjv1GLVzvqNrZYweOnd3g1fGNlg1HXL7zp3bwZcEmv2e4fep8uG55qee6/kcBAADYJsEBu89zZ4+998Cpz4SrjZ0/dfD4uZPvvHvtcXrRzDm+sXApOLNuxA5LpvHrZ/db1fxNL+P3zNx9pvHMwsnQsypz9ztPnjt+cPu/DwAAwBqCA66gQ2+5dOnHLp353p2eu0eT9ekHjpy+eP+h0NFSe+zsudSR029dd+NlOnR/PFO/4ilEu5APrP8zvrRD9188feSBacsOAACAHSI4oPecnzt+7sjpn+s6i7/99Vdxfr/7ZO7+udNHzh3/EdEBAACwEwQHdBdvGTh29rlQqiD++fnVyWjtN44deO+p86na2Z/f4O7qI+s2HcQPxiPPn2oOaBVBCE89dPxcKvXAJ8Pd6KfjDbWz73sgtcEmhZfS3E+Q/Lth9Sv5dZsN4oIGrduN6gYNHTsAwo2DyS87nbQTa9/UtPU1AG2/5fYKFsQbFlLnjs/ZsAAAALx8ggNe2rnjDx2YTi1c+rFLl35s4eTK8YMfa5+NPjD93oNn//uL6+82NilcOnH6SON6jWjke99304lkzBtPnnvyYCMaaH/q5BuTdvJz/7cmTyWSzQgn71yzgL85Q187jW+fxUfdB8/efTFe/39pYcuVABqbFC5dXPcnab+xWlOhbW9B9DtNP7B6553PbHUNQLOIwQY1DLbq0J3Rsw88JjkAAABeNsEBm/nGhUtvacyFD731tiOpP+mYjUbT+2YJg0N3fmMq9Zef2+IX5CffeObu1yStb43nuE98fovPbZwbNGfx66bxHRUCov5mlYJkYv3EVn/Zbal97onoI1d/00P3X80SCVfhDwgAAOwPggM2cfJbV+femdfeHs9GnwuXqdSRm14dWpF4vcAPbXFufPLOtkUEl+OZZ85Fn3pTuLosHY/FScOVnchnXh/9x3pgunN/w9Vz001HUueeeSZcAQAAbJfgAK6QQ/cnCyCaGyeccwAAAPQkwQFcOc1qBXGAcO74QdkBAADQewQHXIbzn3kglb77zkZtgivnNfEi/y5VD67CCvzzjz0QWluR7EjYrJhA5u4zSXZwFbcOvIw9HQAAAG0EB2zZZ05N/0nq5B1XocLfTTelU+ee3PA0wcyddx/Z4eMCGsUIwiuToxCS1lYlUcYGRx+eP9W+wCAp6ngVJ/JJ+nH7669eNUYAAGCvEhywiQc+eeDAe5OfTz5x+kTHyYjdnT/VeOSh5HTE8IatVwnM3P1DCyfjsx7DRzcOa2y4AsnBofsvnj4SShHER08mRzMEG57z2PEnydx9JvllG7dWbx66/+dSPxL64udvXz3T4aXVzh5rPBMnGOeOH0zal7nLIc4Njpx+69rDJwAAAC5bX71eD012hyeffPKWW24JF6+s584ee+j47W/cYlhw9SSrAk4udJ612HtqZ48lccK2/xjxf4cnTl9cH0e87DcDAAD704ULF2677bZw0WTFAb3n0FuTwwpeoXMOd73a2R85fs5yAwAAYIcIDuhBzd0BTilY7/ypg8fPnVzY2q4IAACATQkO6E1JXYJzZx/r9eSgWRvhMjKQjhoIa9TOvu+BI6cv2qMAAADsGDUOdp1dVOMAAACA/USNAwAAAODyCA4AAACArgQHAAAAQFeCAwAAAKArwQEAAADQleBg1xkZGQktAAAAuIo2nJAKDnadwcHB5557LlwAAADAVRFNRaMJabho01ev10OTXePixYtf//rXv/SlL4VrAAAAuJJGRkYGBwcPHjwYrttsEBx8/vOf/5Vf+ZWnn376mmuuiR6LDAwM9Pf39/X1Nf4ZxrGbfPGzH/9A5XXH81OvCx0dnl0snH42+8/f/M3Xhw4AAAD2ptnZ2dDalnQ6HVpNGwQHhULhmWeeGR4evuaaa4aGhqJ/DiQaqUEjOBAfAAAAwC507733hta2bCk4eMc73jE4ODjc1Fh30MgO+pJFB2EcAAAAsMvkcrnQ2pYtBQf333//gabh4eHGooPBwcH+hBUHAAAAsGt97/d+b2hty5aCgwceeOC6664bGRk5cODAtdde28gOWosOogFSAwAAANidDh06FFrbsqXg4Kd/+qevv/76kZGRRnzQCg5aiw7COPaIF/7Tu974wKca7e86+cmf/Z4bGm0AAAB6zy233BJa27Kl4OB973vf6Ojo9YnrrrvuwIEDjSqJA0l9xIgVB3vTk7/4TTNPve9TH3zjq0IHAAAAPee1r31taG3LloKDD3zgA9G4VnbQ2K3QKpHYlwhD2Ut+78OvP/p7H/ydj7zp1aEDAACAnjM2NhZa27Kl4ODBBx+MxkWfNDo62qh00NqtYMXBXvY773/VP/zdX/iD0//oNaEDAACAnhPN30NrW7YUHHzkIx8ZSzQWHVx33XWtFQcRKw5eWb/9b9Jv+MnQTv3kIyv/8u83ms99fOZv/ft/8kelm36lef9/+nd/VHpzyADip1KPrPwvz8z8re//D0lP26NN8aDfbnuoJX53eKzjrQAAAOw666f57d72trf90i/9UrjYyJaCg49+9KNjY2Pj4+Ot4ODaa69t1DholDkQHLxSamePzb3+zP2NApnRxcHj504uXEquG1dRI3ScP3Vg+oHmzcZV9O8jpy+euTvTGJxqtFfFg55Y29n5oo0fBAAAYNf46le/GlrrvO1tb2s0XiI72FJwcPr06caKg2j09cnxCu0nMgoOdo/zP3PNHT/x049/7UejOX3t4X/yjW/9RLiIJR2HwnUy8k1zf/Lv7wkT/rjjfNt1bKO+jrds2AEAAMBu8uUvfzm0OrVSg4Zu2cFWg4PxRDR6dHS0sVUhMqjGwS5Te/gfv+4th/7Liz92uLPdUH3vwHee/9izvxrnAO3txPrhGwzacNgGowAAANg1vvjFL4ZWmzWpQcOG2cH64KA//LtNXMMgiQZa/2w0Io3UgFfO+fc2dowkXveWSusvqPE3FNoN7T3t7cS6jsj6vmeWok/48e8Mn5f4zh/f4EkAAAB2iWRq12HD1CDSrX+NDVYczM3NjY+PN7YqNA5WsFVhd6gW+6by2dLyfK7xbX+tfHRi5vBifTZecdDWbohHV8Pg9nZi/fANBm08DAAAgF1sZWUltLZlSysO2KWqC/lUqjDbNq9/KfHobG5648G1hXIlVZjeNA7ITEZDqku1cAkAAMC+IzjoHZOT2VQqv1BtXFWLfRMz8VaFDVWLU/muIUOtfO9MJVs6sYVlBIdPlLKVmYli+FAAAAD2G8FB78jk5hcLqfxUY9dKcXJ5uZQNt4Lmvb5kz8GaDQbR/D/cTHYftHYk1MpHG91T+dVBR8thlUH0ofXFwuqLY2IEAACA/UONgz3ipasRbFC+AAAAgL1IjQMAAADg6hEcAAAAAF0JDgAAAICu1DgAAACAvUONAwAAAODqERwAAAAAXQkOAAAAgK4EB9TKR/uajpZroRcAAAAiggMyufl6bLEQOgAAAKBJcAAAAAB0JTgAAAAAuhIc9JhqMVQjiBWrobdRqCAuULB6v71cQdwbDW6rZtD26KYUQQAAANi/BAe9JJrBL0wn9Qgiy6VsfqojAKjMTPRNpRaTu4uF6KojHYgGT5Rzy61HtxgBVIt9EzOHGy+NHkzNTMgOAAAA9hHBQS/J5OZnD4d2dDFbSKXyC+3hQGGxHgYcPlHKrrmZLS3P5zJxK3m0Ul7YPAColYv56K3NT83kHixlKzMPXcZyBQAAAHqa4KCHTU5mQysoTLdihVRmMmpXl1azgWxuOkkNEvGjlaWlcNVVbaFc6Xjr+tcCAACwpwkOektHiYOJmUrovlKWlqJPyE+Fz0tM5cM9AAAA9gPBQQ+pFqNpe7aUlCmILZfWrDjYccmahkIocLAq7HgAAABg7xMc9I7qQj6axc9ucdIej+7YndBu/RaEjdmYAAAAsN8JDnpH8vV/q95hctpB160K1eJUvmvIUCvfO1PJlk5smhs0aiyuPZ4BAACAfURw0DsyufnFQqviQHFyed1WhdVqBFPV0nLzgIUgPqyxITlesbXdoFY+2uiOqxc0B7WOXIw+tL5Y6CxzIEYAAADYP/rq9XpoNs3NzY2Pj4+NjaXT6dHR0ZGRkeHh4aGhocHBwYGBgf7+/mjqGIaya0TT/yQP6AwLmuLqCNXWaYwAAADsWSsrK6G1Lel0OrSarDgAAAAAuhIcAAAAAF0JDgAAAICu1DgAAACAvUONAwAAAODqERwAAAAAXQkOAAAAgK4EB9TKR/uajpZroRcAAAAiggMyufl6bLEQOgAAAKBJcAAAAAB0JTgAAAAAuhIc9JhqMVQjiBWrobdRqCAuULB6v71cQdwbDW6rZtD26KYUQQAAANi/BAe9JJrBL0wn9Qgiy6VsfqojAKjMTPRNpRaTu4uF6KojHYgGT5Rzy61HtxgBVIt9EzOHGy+NHkzNTMgOAAAA9hHBQS/J5OZnD4d2dDFbSKXyC+3hQGGxHgYcPlHKrrmZLS3P5zJxK3m0Ul7YPAColYv56K3NT83kHixlKzMPXcZyBQAAAHqa4KCHTU5mQysoTLdihVRmMmpXl1azgWxuOkkNEvGjlaWlcNVVbaFc6Xjr+tcCAACwpwkOektHiYOJmUrovlKWlqJPyE+Fz0tM5cM9AAAA9gPBQQ+pFqNpe7aUlCmILZfWrDjYccmahkIocLAq7HgAAABg7xMc9I7qQj6axc9ucdIej+7YndBu/RaEjdmYAAAAsN8JDnpH8vV/q95hctpB160K1eJUvmvIUCvfO1PJlk5smhs0aiyuPZ4BAACAfURw0DsyufnFQqviQHFyed1WhdVqBFPV0nLzgIUgPqyxITlesbXdoFY+2uiOqxc0B7WOXIw+tL5Y6CxzIEYAAADYP/rq9XpoNs3NzY2Pj4+NjaXT6dHR0ZGRkeHh4aGhocHBwYGBgf7+/mjqGIaya0TT/yQP6AwLmuLqCNXWaYwAAADsWSsrK6G1Lel0OrSarDgAAAAAuhIcAAAAAF0JDgAAAICu1DgAAACAvUONAwAAAODqERwAAAAAXQkOAAAAgK4EB9TKR/uajpZroRcAAAAiggMyufl6bLEQOgAAAKBJcAAAAAB0JTgAAAAAuhIc9JhqMVQjiBWrobdRqCAuULB6v71cQdwbDW6rZtD26KYUQQAAANi/BAe9JJrBL0wn9Qgiy6VsfqojAKjMTPRNpRaTu4uF6KojHYgGT5Rzy61HtxgBVIt9EzOHGy+NHkzNTMgOAAAA9hHBQS/J5OZnD4d2dDFbSKXyC+3hQGGxHgYcPlHKrrmZLS3P5zJxK3m0Ul7YPAColYv56K3NT83kHixlKzMPXcZyBQAAAHqa4KCHTU5mQysoTLdihVRmMmpXl1azgWxuOkkNEvGjlaWlcNVVbaFc6Xjr+tcCAACwpwkOektHiYOJmUrovlKWlqJPyE+Fz0tM5cM9AAAA9gPBQQ+pFqNpe7aUlCmILZfWrDjYccmahkIocLAq7HgAAABg7xMc9I7qQj6axc9ucdIej+7YndBu/RaEjdmYAAAAsN8JDnpH8vV/q95hctpB160K1eJUvmvIUCvfO1PJlk5smhs0aiyuPZ4BAACAfURw0DsyufnFQqviQHFyed1WhdVqBFPV0nLzgIUgPqyxITlesbXdoFY+2uiOqxc0B7WOXIw+tL5Y6CxzIEYAAADYP/rq9XpoNs3NzY2Pj4+NjaXT6dHR0ZGRkeHh4aGhocHBwYGBgf7+/mjqGIaya0TT/yQP6AwLmuLqCNXWaYwAAADsWSsrK6G1Lel0OrSarDgAAAAAuhIcAAAAAF0JDgAAAICu1DgAAACAvUONAwAAAODqERwAAAAAXQkOAAAAgK4EB9TKR/uajpZroRcAAAAiiiPSVC32TVVLy/O5TOgAAACg5zSKIz755JONy6277bbbon8qjggAAABcBsEBAAAA0JXgoMdUi41iBIliNfQ2ChXEBQpW77eXK4h7o8Ft1QzaHt2UIggAAAD7l+Cgl0Qz+IXperBcyuanOgKAysxE31RqMbm7WIiuOtKBaPBEObfcenSLEUC12Dcxc7jx0ujB1MyE7AAAAGAfERz0kkxufvZwaEcXs4VUKr/QHg4UFuthwOETpeyam9lW4cPk0Up5YfMAoFYu5qO3Nj81k3uwlK3MPHQZyxUAAADoaYKDHjY5mQ2toDDdihVSmcmoXV1azQayuenV4xLiRytLS+Gqq9pCudLx1vWvBQAAYE8THPSWjhIHEzOV0H2lLC1Fn5CfCp+XmMqHewAAAOwHgoMeUi1G0/ZsKSlTEFsurVlxsOOSNQ2FUOBgVdjxAAAAwN4nOOgd1YV8NIuf3eKkPR7dsTuh3fotCBuzMQEAAGC/Exz0juTr/1a9w+S0g65bFarFqXzXkKFWvnemki2d2DQ3aNRYXHs8AwAAAPuI4KB3ZHLzi4VWxYHi5PK6rQqr1QimqqXl5gELQXxYY0NyvGJru0GtfLTRHVcvaA5qHbkYfWh9sdBZ5kCMAAAAsH/01ev10Gyam5sbHx8fGxtLp9Ojo6MjIyPDw8NDQ0ODg4MDAwP9/f3R1DEMZdeIpv9JHtAZFjTF1RGqrdMYAQAA2LNWVlaifz755JONy6277bbbon+m0+nGZYsVBwAAAEBXggMAAACgK8EBAAAA0JXgYI+Iixh2KXAQOTxbX62GCAAAAFsmOAAAAAC6EhwAAAAAXQkOAAAAgK4EB9TKR/uajpZroRcAAAAiffV6PTSb5ubmxsfHx8bG0un06OjoyMjI8PDw0NDQ4ODgwMBAf39/NL8MQ9lLqsW+qWppWRFFAACAHrayshJa25JOp0OryYoDAAAAoCvBAQAAANCV4KDHVIuNYgSJYjX0NgoVxAUKVu+3lyuIe6PBbdUM2h7dlCIIAAAA+5fgoJdEM/iF6XqwXMrmpzoCgMrMRN9UajG5u1iIrjrSgWjwRDm33Hp0ixFAtdg3MXO48dLowdTMhOwAAABgHxEc9JJMbn72cGhHF7OFVCq/0B4OFBbrYcDhE6XsmpvZVuHD5NFKeWHzAKBWLuajtzY/NZN7sJStzDx0GcsVAAAA6GmCgx42OZkNraAw3YoVUpnJqF1dWs0Gsrnp1eMS4kcrS0vhqqvaQrnS8db1rwUAAGBPExz0lo4SBxMzldB9pSwtRZ+Qnwqfl5jKh3sAAADsB4KDHlItRtP2bCkpUxBbLq1ZcbDjkjUNhVDgYFXY8QAAAMDeJzjoHdWFfDSLn93ipD0e3bE7od36LQgbszEBAABgvxMc9I7k6/9WvcPktIOuWxWqxal815ChVr53ppItndg0N2jUWFx7PAMAAAD7iOCgd2Ry84uFVsWB4uTyuq0Kq9UIpqql5eYBC0F8WGNDcrxia7tBrXy00R1XL2gOah25GH1ofbHQWeZAjAAAALB/9NXr9dBsmpubGx8fHxsbS6fTo6OjIyMjw8PDQ0NDg4ODAwMD/f390dQxDGXXiKb/SR7QGRY0xdURqq3TGAEAANizVlZWQmtb0ul0aDVZcQAAAAB0JTgAAAAAuhIcAAAAAF2pcQAAAAB7hxoHAAAAwNUjOAAAAAC6EhwAAAAAXQkOqJWP9jUdLddCLwAAAEQEB2Ry8/XYYiF0AAAAQJPgAAAAAOhKcAAAAAB0JTjoMdViqEYQK1ZDb6NQQVygYPV+e7mCuDca3FbNoO3RTSmCAAAAsH8JDnpJNINfmE7qEUSWS9n8VEcAUJmZ6JtKLSZ3FwvRVUc6EA2eKOeWW49uMQKoFvsmZg43Xho9mJqZkB0AAADsI4KDXpLJzc8eDu3oYraQSuUX2sOBwmI9DDh8opRdczNbWp7PZeJW8milvLB5AFArF/PRW5ufmsk9WMpWZh66jOUKAAAA9DTBQQ+bnMyGVlCYbsUKqcxk1K4urWYD2dx0khok4kcrS0vhqqvaQrnS8db1rwUAAGBPExz0lo4SBxMzldB9pSwtRZ+Qnwqfl5jKh3sAAADsB4KDHlItRtP2bCkpUxBbLq1ZcbDjkjUNhVDgYFXY8QAAAMDeJzjoHdWFfDSLn93ipD0e3bE7od36LQgbszEBAABgvxMc9I7k6/9WvcPktIOuWxWqxal815ChVr53ppItndg0N2jUWFx7PAMAAAD7iOCgd2Ry84uFVsWB4uTyuq0Kq9UIpqql5eYBC0F8WGNDcrxia7tBrXy00R1XL2gOah25GH1ofbHQWeZAjAAAALB/9NXr9dBsmpubGx8fHxsbS6fTo6OjIyMjw8PDQ0NDg4ODAwMD/f390dQxDGXXiKb/SR7QGRY0xdURqq3TGAEAANizVlZWQmtb0ul0aDVZcQAAAAB0JTgAAAAAuhIcAAAAAF2pcQAAAAB7hxoHAAAAwNUjOAAAAAC6EhwAAAAAXQkOqJWP9jUdLddCLwAAAEQEB2Ry8/XYYiF0AAAAQJPgAAAAAOhKcAAAAAB0JTjoMdViqEYQK1ZDb6NQQVygYPV+e7mCuDca3FbNoO3RTSmCAAAAsH8JDnpJNINfmE7qEUSWS9n8VEcAUJmZ6JtKLSZ3FwvRVUc6EA2eKOeWW49uMQKoFvsmZg43Xho9mJqZkB0AAADsI4KDXpLJzc8eDu3oYraQSuUX2sOBwmI9DDh8opRdczNbWp7PZeJW8milvLB5AFArF/PRW5ufmsk9WMpWZh66jOUKAAAA9DTBQQ+bnMyGVlCYbsUKqcxk1K4urWYD2dx0khok4kcrS0vhqqvaQrnS8db1rwUAAGBPExz0lo4SBxMzldB9pSwtRZ+Qnwqfl5jKh3sAAADsB4KDHlItRtP2bCkpUxBbLq1ZcbDjkjUNhVDgYFXY8QAAAMDeJzjoHdWFfDSLn93ipD0e3bE7od36LQgbszEBAABgvxMc9I7k6/9WvcPktIOuWxWqxal815ChVr53ppItndg0N2jUWFx7PAMAAAD7iOCgd2Ry84uFVsWB4uTyuq0Kq9UIpqql5eYBC0F8WGNDcrxia7tBrXy00R1XL2gOah25GH1ofbHQWeZAjAAAALB/9NXr9dBsmpubGx8fHxsbS6fTo6OjIyMjw8PDQ0NDg4ODAwMD/f390dQxDGXXiKb/SR7QGRY0xdURqq3TGAEAANizVlZWQmtb0ul0aDVZcQAAAAB0JTgAAAAAuhIcAAAAAF2pcQAAAAB7hxoHAAAAwNUjOAAAAAC6EhwAAAAAXQkOqJWP9jUdLddCLwAAAEQEB2Ry8/XYYiF0AAAAQJPgAAAAAOhKcAAAAAB0JTjoMdViqEYQK1ZDb6NQQVygYPV+e7mCuDca3FbNoO3RTSmCAAAAsH8JDnpJNINfmE7qEUSWS9n8VEcAUJmZ6JtKLSZ3FwvRVUc6EA2eKOeWW49uMQKoFvsmZg43Xho9mJqZkB0AAADsI4KDXpLJzc8eDu3oYraQSuUX2sOBwmI9DDh8opRdczNbWp7PZeJW8milvLB5AFArF/PRW5ufmsk9WMpWZh66jOUKAAAA9DTBQQ+bnMyGVlCYbsUKqcxk1K4urWYD2dx0khok4kcrS0vhqqvaQrnS8db1rwUAAGBPExz0lo4SBxMzldB9pSwtRZ+Qnwqfl5jKh3sAAADsB4KDHlItRtP2bCkpUxBbLq1ZcbDjkjUNhVDgYFXY8QAAAMDeJzjoHdWFfDSLn93ipD0e3bE7od36LQgbszEBAABgvxMc9I7k6/9WvcPktIOuWxWqxal815ChVr53ppItndg0N2jUWFx7PAMAAAD7iOCgd2Ry84uFVsWB4uTyuq0Kq9UIpqql5eYBC0F8WGNDcrxia7tBrXy00R1XL2gOah25GH1ofbHQWeZAjAAAALB/9NXr9dBsmpubGx8fHxsbS6fTo6OjIyMjw8PDQ0NDg4ODAwMD/f390dQxDGXXiKb/SR7QGRY0xdURqq3TGAEAANizVlZWQmtb0ul0aDVZcQAAAAB0JTgAAAAAuhIcAAAAAF2pcQAAAAB7hxoHAAAAwNUjOAAAAAC6EhwAAAAAXQkOqJWP9jUdLddCLwAAAEQEB2Ry8/XYYiF0AAAAQJPgAAAAAOhKcAAAAAB0JTjoMdViqEYQK1ZDb6NQQVygYPV+e7mCuDca3FbNoO3RTSmCAAAAsH8JDnpJNINfmE7qEUSWS9n8VEcAUJmZ6JtKLSZ3FwvRVUc6EA2eKOeWW49uMQKoFvsmZg43Xho9mJqZkB0AAADsI4KDXpLJzc8eDu3oYraQSuUX2sOBwmI9DDh8opRdczNbWp7PZeJW8milvLB5AFArF/PRW5ufmsk9WMpWZh66jOUKAAAA9DTBQQ+bnMyGVlCYbsUKqcxk1K4urWYD2dx0khok4kcrS0vhqqvaQrnS8db1rwUAAGBPExz0lo4SBxMzldB9pSwtRZ+Qnwqfl5jKh3sAAADsB4KDHlItRtP2bCkpUxBbLq1ZcbDjkjUNhVDgYFXY8QAAAMDeJzjoHdWFfDSLn93ipD0e3bE7od36LQgbszEBAABgvxMc9I7k6/9WvcPktIOuWxWqxal815ChVr53ppItndg0N2jUWFx7PAMAAAD7iOCgd2Ry84uFVsWB4uTyuq0Kq9UIpqql5eYBC0F8WGNDcrxia7tBrXy00R1XL2gOah25GH1ofbHQWeZAjAAAALB/9NXr9dBsmpubGx8fHxsbS6fTo6OjIyMjw8PDQ0NDg4ODAwMD/f390dQxDGXXiKb/SR7QGRY0xdURqq3TGAEAANizVlZWQmtb0ul0aDVZcQAAAAB0JTgAAAAAuhIcAAAAAF2pcQAAAAB7hxoHAAAAwNUjOAAAAAC6EhwAAAAAXQkOqJWP9jUdLddCLwAAAEQEB2Ry8/XYYiF0AAAAQJPgAAAAAOhKcAAAAAB0JTjoMdViqEYQK1ZDb6NQQVygYPV+e7mCuDca3FbNoO3RTSmCAAAAsH8JDnpJNINfmE7qEUSWS9n8VEcAUJmZ6JtKLSZ3FwvRVUc6EA2eKOeWW49uMQKoFvsmZg43Xho9mJqZkB0AAADsI4KDXpLJzc8eDu3oYraQSuUX2sOBwmI9DDh8opRdczNbWp7PZeJW8milvLB5AFArF/PRW5ufmsk9WMpWZh66jOUKAAAA9DTBQQ+bnMyGVlCYbsUKqcxk1K4urWYD2dx0khok4kcrS0vhqqvaQrnS8db1rwUAAGBPExz0lo4SBxMzldB9pSwtRZ+Qnwqfl5jKh3sAAADsB4KDHlItRtP2bCkpUxBbLq1ZcbDjkjUNhVDgYFXY8QAAAMDeJzjoHdWFfDSLn93ipD0e3bE7od36LQgbszEBAABgvxMc9I7k6/9WvcPktIOuWxWqxal815ChVr53ppItndg0N2jUWFx7PAMAAAD7iOCgd2Ry84uFVsWB4uTyuq0Kq9UIpqql5eYBC0F8WGNDcrxia7tBrXy00R1XL2gOah25GH1ofbHQWeZAjAAAALB/9NXr9dBsmpubGx8fHxsbS6fTo6OjIyMjw8PDQ0NDg4ODAwMD/f390dQxDGXXiKb/SR7QGRY0xdURqq3TGAEAANizVlZWQmtb0ul0aDVZcQAAAAB0JTgAAAAAuhIcAAAAAF2pcQAAAAB7hxoHAAAAwNUjOAAAAAC6EhwAAAAAXQkOqJWP9jUdLddCLwAAAEQEB2Ry8/XYYiF0AAAAQJPgAAAAAOhKcAAAAAB0JTjoMdViqEYQK1ZDb6NQQVygYPV+e7mCuDca3FbNoO3RTSmCAAAAsH8JDnpJNINfmE7qEUSWS9n8VEcAUJmZ6JtKLSZ3FwvRVUc6EA2eKOeWW49uMQKoFvsmZg43Xho9mJqZkB0AAADsI4KDXpLJzc8eDu3oYraQSuUX2sOBwmI9DDh8opRdczNbWp7PZeJW8milvLB5AFArF/PRW5ufmsk9WMpWZh66jOUKAAAA9DTBQQ+bnMyGVlCYbsUKqcxk1K4urWYD2dx0khok4kcrS0vhqqvaQrnS8db1rwUAAGBPExz0lo4SBxMzldB9pSwtRZ+Qnwqfl5jKh3sAAADsB4KDHlItRtP2bCkpUxBbLq1ZcbDjkjUNhVDgYFXY8QAAAMDeJzjoHdWFfDSLn93ipD0e3bE7od36LQgbszEBAABgvxMc9I7k6/9WvcPktIOuWxWqxal815ChVr53ppItndg0N2jUWFx7PAMAAAD7iOCgd2Ry84uFVsWB4uTyuq0Kq9UIpqql5eYBC0F8WGNDcrxia7tBrXy00R1XL2gOah25GH1ofbHQWeZAjAAAALB/9NXr9dBsmpubGx8fHxsbS6fTo6OjIyMjw8PDQ0NDg4ODAwMD/f390dQxDGXXiKb/SR7QGRY0xdURqq3TGAEAANizVlZWQmtb0ul0aDVZcQAAAAB0JTgAAAAAuhIcAAAAAF2pcQAAAAB7hxoHAAAAwNUjOAAAAAC6EhwAAAAAXQkOqJWP9jUdLddCLwAAAEQEB2Ry8/XYYiF0AAAAQJPgAAAAAOhKcAAAAAB0JTjoMdViqEYQK1ZDb6NQQVygYPV+e7mCuDca3FbNoO3RTSmCAAAAsH8JDnpJNINfmE7qEUSWS9n8VEcAUJmZ6JtKLSZ3FwvRVUc6EA2eKOeWW49uMQKoFvsmZg43Xho9mJqZkB0AAADsI4KDXpLJzc8eDu3oYraQSuUX2sOBwmI9DDh8opRdczNbWp7PZeJW8milvLB5AFArF/PRW5ufmsk9WMpWZh66jOUKAAAA9DTBQQ+bnMyGVlCYbsUKqcxk1K4urWYD2dx0khok4kcrS0vhqqvaQrnS8db1rwUAAGBPExz0lo4SBxMzldB9pSwtRZ+Qnwqfl5jKh3sAAADsB4KDHlItRtP2bCkpUxBbLq1ZcbDjkjUNhVDgYFXY8QAAAMDeJzjoHdWFfDSLn93ipD0e3bE7od36LQgbszEBAABgvxMc9I7k6/9WvcPktIOuWxWqxal815ChVr53ppItndg0N2jUWFx7PAMAAAD7iOCgd2Ry84uFVsWB4uTyuq0Kq9UIpqql5eYBC0F8WGNDcrxia7tBrXy00R1XL2gOah25GH1ofbHQWeZAjAAAALB/9NXr9dBsmpubGx8fHxsbS6fTo6OjIyMjw8PDQ0NDg4ODAwMD/f390dQxDGXXiKb/SR7QGRY0xdURqq3TGAEAANizVlZWQmtb0ul0aDVZcQAAAAB0JTgAAAAAuhIcAAAAAF2pcQAAAAB7hxoHAAAAwNUjOAAAAAC6EhwAAAAAXQkOqJWP9jUdLddCLwAAAEQEB2Ry8/XYYiF0AAAAQJPgAAAAAOhKcAAAAAB0JTjoMdViqEYQK1ZDb6NQQVygYPV+e7mCuDca3FbNoO3RTSmCAAAAsH8JDnpJNINfmE7qEUSWS9n8VEcAUJmZ6JtKLSZ3FwvRVUc6EA2eKOeWW49uMQKoFvsmZg43Xho9mJqZkB0AAADsI4KDXpLJzc8eDu3oYraQSuUX2sOBwmI9DDh8opRdczNbWp7PZeJW8milvLB5AFArF/PRW5ufmsk9WMpWZh66jOUKAAAA9DTBQQ+bnMyGVlCYbsUKqcxk1K4urWYD2dx0khok4kcrS0vhqqvaQrnS8db1rwUAAGBPExz0lo4SBxMzldB9pSwtRZ+Qnwqfl5jKh3sAAADsB4KDHlItRtP2bCkpUxBbLq1ZcbDjkjUNhVDgYFXY8QAAAMDeJzjoHdWFfDSLn93ipD0e3bE7od36LQgbszEBAABgvxMc9I7k6/9WvcPktIOuWxWqxal815ChVr53ppItndg0N2jUWFx7PAMAAAD7iOCgd2Ry84uFVsWB4uTyuq0Kq9UIpqql5eYBC0F8WGNDcrxia7tBrXy00R1XL2gOah25GH1ofbHQWeZAjAAAALB/9NXr9dBsmpubGx8fHxsbS6fTo6OjIyMjw8PDQ0NDg4ODAwMD/f390dQxDGXXiKb/SR7QGRY0xdURqq3TGAEAANizVlZWQmtb0ul0aDVZcQAAAAB0JTgAAAAAuhIcAAAAAF2pcQAAAAB7hxoHAAAAwNUjOAAAAAC6EhwAAAAAXQkOqJWP9jUdLddCLwAAAEQEB2Ry8/XYYiF0AAAAQJPgAAAAAOhKcAAAAAB0JTjoMdViqEYQK1ZDb6NQQVygYPV+e7mCuDca3FbNoO3RTSmCAAAAsH8JDnpJNINfmE7qEUSWS9n8VEcAUJmZ6JtKLSZ3FwvRVUc6EA2eKOeWW49uMQKoFvsmZg43Xho9mJqZkB0AAADsI4KDXpLJzc8eDu3oYraQSuUX2sOBwmI9DDh8opRdczNbWp7PZeJW8milvLB5AFArF/PRW5ufmsk9WMpWZh66jOUKAAAA9DTBQQ+bnMyGVlCYbsUKqcxk1K4urWYD2dx0khok4kcrS0vhqqvaQrnS8db1rwUAAGBPExz0lo4SBxMzldB9pSwtRZ+Qnwqfl5jKh3sAAADsB4KDHlItRtP2bCkpUxBbLq1ZcbDjkjUNhVDgYFXY8QAAAMDeJzjoHdWFfDSLn93ipD0e3bE7od36LQgbszEBAABgvxMc9I7k6/9WvcPktIOuWxWqxal815ChVr53ppItndg0N2jUWFx7PAMAAAD7iOCgd2Ry84uFVsWB4uTyuq0Kq9UIpqql5eYBC0F8WGNDcrxia7tBrXy00R1XL2gOah25GH1ofbHQWeZAjAAAALB/9NXr9dBsmpubGx8fHxsbS6fTo6OjIyMjw8PDQ0NDg4ODAwMD/f390dQxDGXXiKb/SR7QGRY0xdURqq3TGAEAANizVlZWQmtb0ul0aDVZcQAAAAB0JTgAAAAAuhIcAAAAAF2pcQAAAAB7hxoHAAAAwNUjOAAAAAC6EhwAAAAAXQkOqJWP9jUdLddCLwAAAEQEB2Ry8/XYYiF0AAAAQJPgAAAAAOhKcAAAAAB0JTjoMdViqEYQK1ZDb6NQQVygYPV+e7mCuDca3FbNoO3RTSmCAAAAsH8JDnpJNINfmE7qEUSWS9n8VEcAUJmZ6JtKLSZ3FwvRVUc6EA2eKOeWW49uMQKoFvsmZg43Xho9mJqZkB0AAADsI4KDXpLJzc8eDu3oYraQSuUX2sOBwmI9DDh8opRdczNbWp7PZeJW8milvLB5AFArF/PRW5ufmsk9WMpWZh66jOUKAAAA9DTBQQ+bnMyGVlCYbsUKqcxk1K4urWYD2dx0khok4kcrS0vhqqvaQrnS8db1rwUAAGBPExz0lo4SBxMzldB9pSwtRZ+Qnwqfl5jKh3sAAADsB4KDHlItRtP2bCkpUxBbLq1ZcbDjkjUNhVDgYFXY8QAAAMDeJzjoHdWFfDSLn93ipD0e3bE7od36LQgbszEBAABgvxMc9I7k6/9WvcPktIOuWxWqxal815ChVr53ppItndg0N2jUWFx7PAMAAAD7iOCgd2Ry84uFVsWB4uTyuq0Kq9UIpqql5eYBC0F8WGNDcrxia7tBrXy00R1XL2gOah25GH1ofbHQWeZAjAAAALB/9NXr9dBsmpubGx8fHxsbS6fTo6OjIyMjw8PDQ0NDg4ODAwMD/f390dQxDGXXiKb/SR7QGRY0xdURqq3TGAEAANizVlZWQmtb0ul0aDVZcQAAAAB0JTgAAAAAuhIcAAAAAF2pcQAAAAB7hxoHAAAAwNUjOAAAAAC6EhwAAAAAXQkOqJWP9jUdLddCLwAAAEQEB2Ry8/XYYiF0AAAAQJPgAAAAAOhKcAAAAAB0JTjoMdViqEYQK1ZDb6NQQVygYPV+e7mCuDca3FbNoO3RTSmCAAAAsH8JDnpJNINfmE7qEUSWS9n8VEcAUJmZ6JtKLSZ3FwvRVUc6EA2eKOeWW49uMQKoFvsmZg43Xho9mJqZkB0AAADsI4KDXpLJzc8eDu3oYraQSuUX2sOBwmI9DDh8opRdczNbWp7PZeJW8milvLB5AFArF/PRW5ufmsk9WMpWZh66jOUKAAAA9DTBQQ+bnMyGVlCYbsUKqcxk1K4urWYD2dx0khok4kcrS0vhqqvaQrnS8db1rwUAAGBPExz0lo4SBxMzldB9pSwtRZ+Qnwqfl5jKh3sAAADsB4KDHlItRtP2bCkpUxBbLq1ZcbDjkjUNhVDgYFXY8QAAAMDeJzjoHdWFfDSLn93ipD0e3bE7od36LQgbszEBAABgvxMc9I7k6/9WvcPktIOuWxWqxal815ChVr53ppItndg0N2jUWFx7PAMAAAD7iOCgd2Ry84uFVsWB4uTyuq0Kq9UIpqql5eYBC0F8WGNDcrxia7tBrXy00R1XL2gOah25GH1ofbHQWeZAjAAAALB/9NXr9dBsmpubGx8fHxsbS6fTo6OjIyMjw8PDQ0NDg4ODAwMD/f390dQxDGXXiKb/SR7QGRY0xdURqq3TGAEAANizVlZWQmtb0ul0aDVZcQAAAAB0JTgAAAAAuhIcAAAAAF2pcQAAAAB7hxoHAAAAwNUjOAAAAAC6EhwAAAAAXQkOqJWP9jUdLddCLwAAAEQEB2Ry8/XYYiF0AAAAQJPgAAAAAOhKcAAAAAB0JTjoMdViqEYQK1ZDb6NQQVygYPV+e7mCuDca3FbNoO3RTSmCAAAAsH8JDnpJNINfmE7qEUSWS9n8VEcAUJmZ6JtKLSZ3FwvRVUc6EA2eKOeWW49uMQKoFvsmZg43Xho9mJqZkB0AAADsI4KDXpLJzc8eDu3oYraQSuUX2sOBwmI9DDh8opRdczNbWp7PZeJW8milvLB5AFArF/PRW5ufmsk9WMpWZh66jOUKAAAA9DTBQQ+bnMyGVlCYbsUKqcxk1K4urWYD2dx0khok4kcrS0vhqqvaQrnS8db1rwUAAGBPExz0lo4SBxMzldB9pSwtRZ+Qnwqfl5jKh3sAAADsB4KDHlItRtP2bCkpUxBbLq1ZcbDjkjUNhVDgYFXY8QAAAMDeJzjoHdWFfDSLn93ipD0e3bE7od36LQgbszEBAABgvxMc9I7k6/9WvcPktIOuWxWqxal815ChVr53ppItndg0N2jUWFx7PAMAAAD7iOCgd2Ry84uFVsWB4uTyuq0Kq9UIpqql5eYBC0F8WGNDcrxia7tBrXy00R1XL2gOah25GH1ofbHQWeZAjAAAALB/9NXr9dBsmpubGx8fHxsbS6fTo6OjIyMjw8PDQ0NDg4ODAwMD/f390dQxDGXXiKb/SR7QGRY0xdURqq3TGAEAANizVlZWQmtb0ul0aDVZcQAAAAB0JTgAAAAAuhIcAAAAAF2pcQAAAAB7hxoHAAAAwNUjOAAAAAC6EhwAAAAAXQkOqJWP9jUdLddCLwAAAEQEB2Ry8/XYYiF0AAAAQJPgAAAAAOhKcAAAAAB0JTjoMdViqEYQK1ZDb6NQQVygYPV+e7mCuDca3FbNoO3RTSmCAAAAsH8JDnpJNINfmE7qEUSWS9n8VEcAUJmZ6JtKLSZ3FwvRVUc6EA2eKOeWW49uMQKoFvsmZg43Xho9mJqZkB0AAADsI4KDXpLJzc8eDu3oYraQSuUX2sOBwmI9DDh8opRdczNbWp7PZeJW8milvLB5AFArF/PRW5ufmsk9WMpWZh66jOUKAAAA9DTBQQ+bnMyGVlCYbsUKqcxk1K4urWYD2dx0khok4kcrS0vhqqvaQrnS8db1rwUAAGBPExz0lo4SBxMzldB9pSwtRZ+Qnwqfl5jKh3sAAADsB4KDHlItRtP2bCkpUxBbLq1ZcbDjkjUNhVDgYFXY8QAAAMDeJzjoHdWFfDSLn93ipD0e3bE7od36LQgbszEBAABgvxMc9I7k6/9WvcPktIOuWxWqxal815ChVr53ppItndg0N2jUWFx7PAMAAAD7iOCgd2Ry84uFVsWB4uTyuq0Kq9UIpqql5eYBC0F8WGNDcrxia7tBrXy00R1XL2gOah25GH1ofbHQWeZAjAAAALB/9NXr9dBsmpubGx8fHxsbS6fTo6OjIyMjw8PDQ0NDg4ODAwMD/f390dQxDGXXiKb/SR7QGRY0xdURqq3TGAEAANizVlZWQmtb0ul0aDVZcQAAAAB0JTgAAAAAuhIcAAAAAF2pcQAAAAB7hxoHAAAAwNUjOAAAAAC6EhwAAAAAXQkOqJWP9jUdLddCLwAAAEQEB2Ry8/XYYiF0AAAAQJNTFWiqFvumqqXl+VwmdAAAANBz1p+q8La3vS201vmlX/ql0GpyqgIAAADsL+vTgYZu/WsIDnpMtdgoRpAoVkNvo1BBXKBg9X57uYK4NxrcVs2g7dFNKYIAAADQ29ZnBFtMDSKCg14SzeAXppN6BJHlUjY/1REAVGYm+qZSi8ndxUJ01ZEORIMnyrnl1qNbjACqxb6JmcONl0YPpmYmZAcAAAC9pz0p2HpqEBEc9JJMbn72cGhHF7OFVCq/0B4OFBbrYcDhE6XsmpvZVv2C5NFKeWHzAKBWLuajtzY/NZN7sJStzDx0GcsVAAAA2CUaecFlpQaRDYoj/vIv/3KjOGLk+uuvby+OGGksWA9DeUXVyv/otW859Ft/HU/r29sN1WL/d5z/2Od/Lc4K2tuJ9cM3GLThsA1GAQAAsGt84QtfCK1t2VJxxMai9Eaj/TLy13/9141LXiGLxf5Vr31LpfUX1PgbCu2G9p72dmJdR2R938Wl6BN+/DvC5yW+48c3eBIAAIBdIpna7aQNVhycPn26sdwgnU6vWXHgOMZX1PmfueaOn3jT3J/8+3sa3/bXHv4n3/jWQ49/7UcPdbYb4tHnw+D2dmL98A0GbTwMAACAXezLX/5yaG3L+hUHGwQHH/3oR8fGxsbHx0dHR6+//vrrrrvu2muvHRoaGkgIDl4x508dmH7g5MKl+5uz+NrZYweP397oaG8n4tFPnL545u44Bui4iKwbHVs7KLZRHwAAALvXV7/61dDali0FBx/5yEcaKw5awcHw8PA111yjxsEr7LmPz/yt7/8PP/nIyr/8+9HVb/+b9Bt+Mvp3uE5u/v1wL9xtDm1c/va/+6PSm18TXyVjU63Lps5BQeeHAgAAsMu9zN0KWwoOHnzwwWhcIzgYGRm57rrrhhKDg4PJJncrDl45v/P+V/3D/6PR/Ie/8Ac/m3rXt/zg3/2Pf/aOvxdN8H/t+Lf84H9s3IpFt0//o1YC0PZc4l81HkqsfTLR8fhLPQ0AAMCuEs3fQ2tbthQcfOADH4jGNZYbRK699trWioOBgQErDnanP/3ED/y9H/4785+77++Ejg6/9+HXH/29D/7OR9706tABAADA3jQ2NhZa27Kl4GBubu7LX/5yIzW47rrrDhw4cM011wwlNQ6sONi1/uyTP/xd77y19F//2W2ho8OTv/hNM0+971MffOOrQgcAAAB702tf+9rQ2pYtBQcXL1783d/93b/4i79o7FO49tprr0m0goMwjt3khf/0rjc+8C3/9vzbviV0dPiDXzr0v/3ByU/+7PfcEDoAAADYm2655ZbQ2pYtBQcAAAAADZYPAAAAAF0JDgAAAICuBAcAAABAV4IDAAAAoCvBAQAAANCV4AAAAADoSnAAAAAAdNV31698KTQTPzT0ydACAAAA9rdXvepVa4ODR95yXWgBAAAA+56tCgAAAEBXggMAAACgK8EBAAAA0EUq9f8DfMVyE9PlcT4AAAAASUVORK5CYII=)"
   ]
  },
  {
   "cell_type": "markdown",
   "metadata": {},
   "source": [
    "#### EX2:用 ```python``` 畫直角三角形。"
   ]
  },
  {
   "cell_type": "code",
   "execution_count": 18,
   "metadata": {},
   "outputs": [
    {
     "name": "stdout",
     "output_type": "stream",
     "text": [
      "*\n",
      "**\n",
      "***\n",
      "****\n"
     ]
    }
   ],
   "source": [
    "i = 1\n",
    "while i <= 4:\n",
    "    print(\"*\" * i) \n",
    "    i += 1"
   ]
  },
  {
   "cell_type": "markdown",
   "metadata": {},
   "source": [
    "## 三個搭配語法: ```break``` ,  ```continue```, 與 ```pass```:"
   ]
  },
  {
   "cell_type": "markdown",
   "metadata": {},
   "source": [
    "- 在迴圈內若出現語法```break```，則:  \n",
    "    強制跳出<font color='red'> 整個 </font> 迴圈。\n",
    "- 若出現的是 ```continue```，則:  \n",
    "   強制跳出<font color='red'> 當前這一個 </font> 迴圈。\n",
    "- 若出現的是 ```pass```，則:  \n",
    "    甚麼也不做。"
   ]
  },
  {
   "cell_type": "markdown",
   "metadata": {},
   "source": [
    "#### EX0.1 ```break```:"
   ]
  },
  {
   "cell_type": "markdown",
   "metadata": {},
   "source": [
    "![break 圖解](data:image/jpeg;base64,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)"
   ]
  },
  {
   "cell_type": "code",
   "execution_count": 19,
   "metadata": {},
   "outputs": [
    {
     "name": "stdout",
     "output_type": "stream",
     "text": [
      "c\n",
      "o\n",
      "n\n",
      "\n",
      "結束迴圈\n",
      "共執行 4 次迴圈。\n"
     ]
    }
   ],
   "source": [
    "count = 0 # 指標\n",
    "for char in 'content':\n",
    "    count += 1\n",
    "    if char == 't':\n",
    "        break\n",
    "    print(char)\n",
    "    \n",
    "print(\"\")\n",
    "print(\"結束迴圈\")\n",
    "print(\"共執行 {} 次迴圈。\".format(count))"
   ]
  },
  {
   "cell_type": "markdown",
   "metadata": {},
   "source": [
    "迴圈執行了 4 次，在第 4 次時 ```break``` 掉。"
   ]
  },
  {
   "cell_type": "markdown",
   "metadata": {},
   "source": [
    "#### EX0.2 ```continue```:"
   ]
  },
  {
   "cell_type": "markdown",
   "metadata": {},
   "source": [
    "![continue 圖解](data:image/jpeg;base64,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)"
   ]
  },
  {
   "cell_type": "code",
   "execution_count": 20,
   "metadata": {},
   "outputs": [
    {
     "name": "stdout",
     "output_type": "stream",
     "text": [
      "c\n",
      "o\n",
      "n\n",
      "e\n",
      "n\n",
      "\n",
      "結束迴圈\n",
      "共執行 7 次迴圈。\n"
     ]
    }
   ],
   "source": [
    "count = 0 # 指標\n",
    "for char in 'content':\n",
    "    count += 1\n",
    "    if char == 't':\n",
    "        continue\n",
    "    print(char)\n",
    "    \n",
    "print(\"\")\n",
    "print(\"結束迴圈\")\n",
    "print(\"共執行 {} 次迴圈。\".format(count))"
   ]
  },
  {
   "cell_type": "markdown",
   "metadata": {},
   "source": [
    "在出現 ```t``` 時跳出那次的迴圈，因此不會出現 ```t```。"
   ]
  },
  {
   "cell_type": "code",
   "execution_count": 21,
   "metadata": {},
   "outputs": [
    {
     "name": "stdout",
     "output_type": "stream",
     "text": [
      "c\n",
      "o\n",
      "n\n",
      "t\n",
      "e\n",
      "n\n",
      "t\n",
      "\n",
      "結束迴圈\n",
      "共執行 7 次迴圈。\n"
     ]
    }
   ],
   "source": [
    "count = 0 # 指標\n",
    "for char in 'content':\n",
    "    count += 1\n",
    "    if char == 't':\n",
    "        pass\n",
    "    print(char)\n",
    "    \n",
    "print(\"\")\n",
    "print(\"結束迴圈\")\n",
    "print(\"共執行 {} 次迴圈。\".format(count))"
   ]
  },
  {
   "cell_type": "markdown",
   "metadata": {},
   "source": [
    "----"
   ]
  },
  {
   "cell_type": "markdown",
   "metadata": {},
   "source": [
    "#### [練習 2]\n",
    "孤單的時候，總想要找一個人聊天，你可以寫出一個聊天機器人來幫你排解孤單嗎?  \n",
    "你希望他:  \n",
    "- 在你輸入任何話時，都輸出```\"你是最棒的!\"```\n",
    "- 在你輸入 ```\"讓我一個人靜一靜~\"```後，不輸出任何話，等你準備好了，再說話。\n",
    "- 在你輸入 ```\"我好多了，掰掰。\"```時，結束這個機器人。"
   ]
  },
  {
   "cell_type": "code",
   "execution_count": null,
   "metadata": {},
   "outputs": [],
   "source": [
    "s = \"\"\n",
    "\n",
    "while s != \"我好多了，掰掰。\":\n",
    "    s = input()\n",
    "    if s == \"讓我一個人靜一靜~\":\n",
    "        s = \"\"\n",
    "        continue\n",
    "    print(\"你是最棒的!\")"
   ]
  },
  {
   "cell_type": "markdown",
   "metadata": {},
   "source": [
    "#### [練習 3]  \n",
    "給定一個串列```l```，裡面有 ```10``` 個元素。  \n",
    "目標是將裡面的元素由<font color='red'>小到大</font>排列:"
   ]
  },
  {
   "cell_type": "markdown",
   "metadata": {},
   "source": [
    "[提示]  \n",
    "如果在```l```的第```a```個元素，知道```a```右邊(下一個)的元素比```a```小，那我就把這兩個元素對調。  \n",
    "一直這樣兩兩相比，總共要比幾次?  \n",
    "總共要比幾輪?"
   ]
  },
  {
   "cell_type": "code",
   "execution_count": 24,
   "metadata": {},
   "outputs": [],
   "source": [
    "l = [2, 5, 10, 7, 1, 8, 6, 4, 3, 9]"
   ]
  },
  {
   "cell_type": "code",
   "execution_count": 25,
   "metadata": {},
   "outputs": [
    {
     "name": "stdout",
     "output_type": "stream",
     "text": [
      "[1, 2, 3, 4, 5, 6, 7, 8, 9, 10]\n"
     ]
    }
   ],
   "source": [
    "# bubble sort\n",
    "for i in range(10):\n",
    "    p = 0\n",
    "    while p < 9:\n",
    "        if l[p + 1] < l[p]:\n",
    "            temp = l[p]\n",
    "            l[p] = l[p + 1]\n",
    "            l[p + 1] = temp\n",
    "        p += 1\n",
    "print(l)\n",
    "        "
   ]
  },
  {
   "cell_type": "markdown",
   "metadata": {},
   "source": [
    "---"
   ]
  },
  {
   "cell_type": "markdown",
   "metadata": {},
   "source": [
    "[補充] \n",
    "List comprehension:\n",
    "- 今天想要一個內容物是 ```1-10``` 的 ```list```，可以這樣寫:\n",
    "```python\n",
    "def gen_list(max):\n",
    "    l = []\n",
    "    count = 1\n",
    "    for i in range(max):\n",
    "        l.append(count)\n",
    "        count += 1\n",
    "```\n",
    "但是為了一個小小的 ```list``` 寫這麼多 code很費時，而且如果 code 很多，會造成閱讀不易。此時我們可以用 list comprehension:\n",
    "```python\n",
    "l = [x + 1 for x in range(10)]\n",
    "```"
   ]
  },
  {
   "cell_type": "markdown",
   "metadata": {},
   "source": [
    "## References:"
   ]
  },
  {
   "cell_type": "markdown",
   "metadata": {},
   "source": [
    "- https://www.programiz.com/python-programming/break-continue\n"
   ]
  },
  {
   "cell_type": "code",
   "execution_count": null,
   "metadata": {},
   "outputs": [],
   "source": []
  }
 ],
 "metadata": {
  "kernelspec": {
   "display_name": "Python 3",
   "language": "python",
   "name": "python3"
  },
  "language_info": {
   "codemirror_mode": {
    "name": "ipython",
    "version": 3
   },
   "file_extension": ".py",
   "mimetype": "text/x-python",
   "name": "python",
   "nbconvert_exporter": "python",
   "pygments_lexer": "ipython3",
   "version": "3.7.9"
  }
 },
 "nbformat": 4,
 "nbformat_minor": 4
}
