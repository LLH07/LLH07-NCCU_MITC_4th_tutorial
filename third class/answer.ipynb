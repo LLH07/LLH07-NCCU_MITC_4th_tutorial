{
 "cells": [
  {
   "cell_type": "markdown",
   "metadata": {},
   "source": [
    "#### 練習 1 (```for```)"
   ]
  },
  {
   "cell_type": "code",
   "execution_count": 8,
   "metadata": {},
   "outputs": [
    {
     "name": "stdout",
     "output_type": "stream",
     "text": [
      "4410\n"
     ]
    }
   ],
   "source": [
    "ans3 = 0\n",
    "for i in range(2, 251):\n",
    "    if i % 7 == 0:\n",
    "        ans3 += i\n",
    "print(ans3)"
   ]
  },
  {
   "cell_type": "markdown",
   "metadata": {},
   "source": [
    "#### 練習 2"
   ]
  },
  {
   "cell_type": "code",
   "execution_count": null,
   "metadata": {},
   "outputs": [],
   "source": [
    "s = \"\"\n",
    "while s != \"我好多了，掰掰\":\n",
    "    s = input()\n",
    "    if s == \"讓我一個人靜一靜~\":\n",
    "        s = \"\"\n",
    "        continue\n",
    "    print(\"你是最棒的!\")"
   ]
  },
  {
   "cell_type": "markdown",
   "metadata": {},
   "source": [
    "#### 練習 3"
   ]
  },
  {
   "cell_type": "code",
   "execution_count": 1,
   "metadata": {},
   "outputs": [],
   "source": [
    "l = [4, 3, 6, 23, 9, 67, 2, 44, 10, 12 ]"
   ]
  },
  {
   "cell_type": "code",
   "execution_count": 4,
   "metadata": {},
   "outputs": [
    {
     "name": "stdout",
     "output_type": "stream",
     "text": [
      "[2, 3, 4, 6, 9, 10, 12, 23, 44, 67]\n"
     ]
    }
   ],
   "source": [
    "for i in range(10):\n",
    "    p = 0\n",
    "    while p < 9:\n",
    "        if l[p+1] < l[p]:\n",
    "            temp = l[p]\n",
    "            l[p] = l[p+1]\n",
    "            l[p+1] = temp\n",
    "        p += 1\n",
    "print(l)\n"
   ]
  },
  {
   "cell_type": "code",
   "execution_count": null,
   "metadata": {},
   "outputs": [],
   "source": []
  }
 ],
 "metadata": {
  "kernelspec": {
   "display_name": "Python 3",
   "language": "python",
   "name": "python3"
  },
  "language_info": {
   "codemirror_mode": {
    "name": "ipython",
    "version": 3
   },
   "file_extension": ".py",
   "mimetype": "text/x-python",
   "name": "python",
   "nbconvert_exporter": "python",
   "pygments_lexer": "ipython3",
   "version": "3.7.9"
  }
 },
 "nbformat": 4,
 "nbformat_minor": 4
}
