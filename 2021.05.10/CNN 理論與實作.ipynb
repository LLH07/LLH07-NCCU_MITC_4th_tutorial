{
 "cells": [
  {
   "cell_type": "markdown",
   "metadata": {},
   "source": [
    "CNN 理論與實作 LLH @NCCU MITC 2021.05.10"
   ]
  },
  {
   "cell_type": "markdown",
   "metadata": {},
   "source": [
    "# ```TensorFlow``` 與 ```Keras```"
   ]
  },
  {
   "cell_type": "markdown",
   "metadata": {},
   "source": [
    "- Kera 的創建者: Google AI 開發人員 Francois Chollet (2015.03.27 發布) \n",
    "- TensorFlow 的創建者: Google 大腦 (Google Brain) (2015.11.09 發布)"
   ]
  },
  {
   "cell_type": "markdown",
   "metadata": {},
   "source": [
    "## TensorFlow 與 Kera 的關係:"
   ]
  },
  {
   "cell_type": "markdown",
   "metadata": {},
   "source": [
    "參考資料: [TensorFlow 2.0中的tf.keras和Keras有何區別？為什麼以後一定要用tf.keras？](https://www.jiqizhixin.com/articles/2019-12-09-10) "
   ]
  },
  {
   "cell_type": "markdown",
   "metadata": {},
   "source": [
    "- 後端是一個計算引擎: 它可以構建網絡的圖和拓撲結構，運行優化器，並執行具體的數字運算。  \n",
    "- 試想你需要從頭開始構建一個網站。你可以使用 PHP 編程語言和 SQL 數據庫。這個 SQL 數據庫就是是後端。你可以使用MySQL，PostgreSQL 或者 SQL Server 作為你的數據庫。\n",
    "---\n",
    "- TensorFlow 從 Keras v1.1.0 發行版開始成為 Keras 的默認後端。\n",
    "- Google 於 2019 年 6 月發布 TensorFlow 2.0 並宣布 Keras 現在是 TensorFlow 的官方高級API，用於快速簡單的模型設計和訓練。"
   ]
  },
  {
   "cell_type": "markdown",
   "metadata": {},
   "source": [
    "TensorFlow 2.0 特性:  \n",
    "- Sessions 和eager execution\n",
    "- 自動求導\n",
    "- 模型和層的子類化\n",
    "- 更好的多GPU /分佈式訓練支持"
   ]
  },
  {
   "cell_type": "markdown",
   "metadata": {},
   "source": [
    "安裝 ```tensorflow```: ```conda install tensorflow```"
   ]
  },
  {
   "cell_type": "markdown",
   "metadata": {},
   "source": [
    "# CNN:"
   ]
  },
  {
   "cell_type": "markdown",
   "metadata": {},
   "source": [
    "### 1. What is CNN?"
   ]
  },
  {
   "cell_type": "markdown",
   "metadata": {},
   "source": [
    "- 由法裔計算機科學家 楊立昆（法語：Yann Le Cun) 提出。\n",
    "- 做影像辨識最好的工具之一。"
   ]
  },
  {
   "cell_type": "markdown",
   "metadata": {},
   "source": [
    "###  CNN 的模型想法:"
   ]
  },
  {
   "cell_type": "markdown",
   "metadata": {},
   "source": [
    "- 上禮拜教的 NN 都是 fully-connected layers (一個對一個)，但 CNN 新增的 layers (Convolution 與 Pooling) 不是 fully-connected layer。 \n",
    "- 影像辨識: 只需讓機器學習圖片中的重點特徵。舉例 (見下圖):\n",
    "- 因此，如果能夠創造一個過濾器，用來掃描整張圖片，並把重點記錄下來，就可以節省所需的參數。"
   ]
  },
  {
   "cell_type": "markdown",
   "metadata": {},
   "source": [
    "![alt text](https://img.webmd.com/dtmcms/live/webmd/consumer_assets/site_images/article_thumbnails/reference_guide/cat_weight_ref_guide/1800x1200_cat_weight_ref_guide.jpg)"
   ]
  },
  {
   "cell_type": "markdown",
   "metadata": {},
   "source": [
    "![alt text](https://drive.google.com/uc?export=view&id=1M7v7S-b-zisFLI_G4ZY_RdUJQrGpJ3zt)"
   ]
  },
  {
   "cell_type": "markdown",
   "metadata": {},
   "source": [
    "###  CNN 模型架構"
   ]
  },
  {
   "cell_type": "markdown",
   "metadata": {},
   "source": [
    "#### <font color='red'>Convolution Layer (卷積層)</font>: 指定 ```filter``` 的 ```kernel```、```padding```、```stride```。\n",
    "- ```Kernel```: \n",
    "    - 卷積核。又稱為 filter、features dectectors。\n",
    "    - 一個 kernel 代表一個我們想要觀察的特徵，通常一層 CNN 會有 32 個 filters。  \n",
    "- ```Padding```: \n",
    "    - 目的: 確保經過 CNN 後的 output (稱為 ```response map```)大小跟原來的 input 一樣。  \n",
    "    - 原因: 圖片再經過 filter 後會變小 (可以自己畫畫看)，如果要做很多層 CNN，可能到最後無法做 filter。\n",
    "    - 做法: 決定一個填充值 (通常機器會自己判斷)，機器將圖片填滿 (填入的數字均為 0)使得最後的 feature map 大小與 input 相同。\n",
    "- ```Stride```: \n",
    "    - 目的: 做完一次 filter 後，要繼續往右邊走來讀取整張圖片。\n",
    "    - 做法: 通常是 1。\n",
    "- 最終 feature map 的大小取決於 ```Padding``` 與 ```Stride```。"
   ]
  },
  {
   "cell_type": "markdown",
   "metadata": {},
   "source": [
    "#### <font color='red'>Pooling Layer (池化層) </font>: 指定 ```pool size```。"
   ]
  },
  {
   "cell_type": "markdown",
   "metadata": {},
   "source": [
    "再經過 Convolution Layer 後，會得到太多 feature maps (如果有 32 個 filters，就會有 32 張 feature maps，稱為 depth = 32)。 \n",
    "太多資料會讓機器學習的效率變差，因此資料每通過一層 feature map，會再通過 pooling layer 讓 output 變小。"
   ]
  },
  {
   "cell_type": "markdown",
   "metadata": {},
   "source": [
    "- 做法: 把 feature map 分割成數個區域，再依據選擇的是 Max、Min、Average Pooling... (通常是用 Max Pooling) 決定每個區域的代表值。   "
   ]
  },
  {
   "cell_type": "markdown",
   "metadata": {},
   "source": [
    "做完 Convoluation layers 與 Pooling layers 後，最終的產物是許多的 feature maps (2*2 的 <font color='blue'> 矩陣 </font>)。  \n",
    "但不要忘記影像辨識最終的目的是要判斷該圖片為何種物件。因此要把 <font color='blue'> 矩陣 </font> 轉為 <font color='blue'> 向量 </font>。<font color='green'> 做法是再加一層 FC (Fully Connected) layer。"
   ]
  },
  {
   "cell_type": "markdown",
   "metadata": {},
   "source": [
    "### 補充: 關於圖片..."
   ]
  },
  {
   "cell_type": "markdown",
   "metadata": {},
   "source": [
    "圖片是三維資料，三維分別指的是:   \n",
    "- 影像的長\n",
    "- 影像的寬\n",
    "- color channel(位元色板) [參考資料](https://www.oxxostudio.tw/articles/201406/color-channel.html)\n",
    "---\n",
    "![alt text](http://xrds.acm.org/blog/wp-content/uploads/2016/06/Figure1.png)\n",
    "如此圖所示，一張照片有其長和寬，而一層 (depth=1)代表一個 pixel，一個 pixel 是一個介於 0-255 的數字。  \n",
    "三層 (一般 RGB 照片, depth=3) 則代表每一個 pixel 有三個數字 (其中每個數字都介於 0-255)。"
   ]
  },
  {
   "cell_type": "markdown",
   "metadata": {},
   "source": [
    "---"
   ]
  },
  {
   "cell_type": "markdown",
   "metadata": {},
   "source": [
    "# CNN 實作:"
   ]
  },
  {
   "cell_type": "markdown",
   "metadata": {},
   "source": [
    "[資料來源: **CIFAR Image Dataset**](https://www.cs.toronto.edu/~kriz/cifar.html)  \n",
    "說明:  \n",
    "共有 60000 筆 32*32 的彩色圖片，圖片的內容是 10 個日常生活中的物件 (每個物件有 6000 筆資料)，這 10 個物件包含:  \n",
    "- Airplane\n",
    "- Automobile\n",
    "- Bird\n",
    "- Cat\n",
    "- Deer\n",
    "- Dog\n",
    "- Frog\n",
    "- Horse\n",
    "- Ship\n",
    "- Truck"
   ]
  },
  {
   "cell_type": "markdown",
   "metadata": {},
   "source": [
    "## 1. import 相關套件:"
   ]
  },
  {
   "cell_type": "code",
   "execution_count": 23,
   "metadata": {},
   "outputs": [],
   "source": [
    "import tensorflow as tf\n",
    "from tensorflow.keras import datasets, layers, models"
   ]
  },
  {
   "cell_type": "code",
   "execution_count": 24,
   "metadata": {},
   "outputs": [],
   "source": [
    "import numpy as np\n",
    "import pandas as pd\n",
    "import matplotlib.pyplot as plt"
   ]
  },
  {
   "cell_type": "markdown",
   "metadata": {},
   "source": [
    "## 2. 把資料讀入:"
   ]
  },
  {
   "cell_type": "code",
   "execution_count": 25,
   "metadata": {},
   "outputs": [],
   "source": [
    "(train_images, train_labels), (test_images, test_labels) = datasets.cifar10.load_data()"
   ]
  },
  {
   "cell_type": "code",
   "execution_count": 30,
   "metadata": {
    "scrolled": true
   },
   "outputs": [
    {
     "data": {
      "text/plain": [
       "(50000, 1)"
      ]
     },
     "execution_count": 30,
     "metadata": {},
     "output_type": "execute_result"
    }
   ],
   "source": [
    "train_labels.shape"
   ]
  },
  {
   "cell_type": "code",
   "execution_count": 5,
   "metadata": {},
   "outputs": [
    {
     "data": {
      "text/plain": [
       "array([[[244, 244, 244],\n",
       "        [243, 243, 243],\n",
       "        [243, 243, 243],\n",
       "        ...,\n",
       "        [117, 117, 117],\n",
       "        [131, 131, 131],\n",
       "        [138, 138, 138]],\n",
       "\n",
       "       [[244, 244, 244],\n",
       "        [242, 242, 242],\n",
       "        [242, 242, 242],\n",
       "        ...,\n",
       "        [123, 123, 123],\n",
       "        [134, 134, 134],\n",
       "        [138, 138, 138]],\n",
       "\n",
       "       [[248, 248, 248],\n",
       "        [243, 243, 243],\n",
       "        [243, 243, 243],\n",
       "        ...,\n",
       "        [121, 121, 121],\n",
       "        [125, 125, 125],\n",
       "        [127, 127, 127]],\n",
       "\n",
       "       ...,\n",
       "\n",
       "       [[133, 133, 133],\n",
       "        [125, 125, 125],\n",
       "        [122, 122, 122],\n",
       "        ...,\n",
       "        [ 41,  41,  41],\n",
       "        [ 62,  62,  62],\n",
       "        [ 74,  74,  74]],\n",
       "\n",
       "       [[132, 132, 132],\n",
       "        [128, 128, 128],\n",
       "        [127, 127, 127],\n",
       "        ...,\n",
       "        [ 45,  45,  45],\n",
       "        [ 60,  60,  60],\n",
       "        [ 70,  70,  70]],\n",
       "\n",
       "       [[134, 134, 134],\n",
       "        [130, 130, 130],\n",
       "        [128, 128, 128],\n",
       "        ...,\n",
       "        [ 53,  53,  53],\n",
       "        [ 62,  62,  62],\n",
       "        [ 68,  68,  68]]], dtype=uint8)"
      ]
     },
     "execution_count": 5,
     "metadata": {},
     "output_type": "execute_result"
    }
   ],
   "source": [
    "train_images[9487]"
   ]
  },
  {
   "cell_type": "markdown",
   "metadata": {},
   "source": [
    "## 3. 資料處理:"
   ]
  },
  {
   "cell_type": "code",
   "execution_count": 31,
   "metadata": {},
   "outputs": [
    {
     "data": {
      "text/plain": [
       "array([[[196, 194, 188],\n",
       "        [136, 126, 105],\n",
       "        [143, 114,  79],\n",
       "        ...,\n",
       "        [126,  50,  39],\n",
       "        [126,  51,  39],\n",
       "        [126,  55,  41]],\n",
       "\n",
       "       [[154, 142, 122],\n",
       "        [153, 111,  77],\n",
       "        [165,  95,  58],\n",
       "        ...,\n",
       "        [152,  85,  66],\n",
       "        [158,  93,  74],\n",
       "        [155,  98,  80]],\n",
       "\n",
       "       [[196, 131, 117],\n",
       "        [197, 101,  81],\n",
       "        [182,  93,  71],\n",
       "        ...,\n",
       "        [145,  94,  75],\n",
       "        [135,  84,  66],\n",
       "        [124,  78,  64]],\n",
       "\n",
       "       ...,\n",
       "\n",
       "       [[ 50,  62,  69],\n",
       "        [ 49,  61,  68],\n",
       "        [ 46,  58,  65],\n",
       "        ...,\n",
       "        [102, 104, 103],\n",
       "        [106, 107, 107],\n",
       "        [104, 104, 104]],\n",
       "\n",
       "       [[ 52,  65,  71],\n",
       "        [ 53,  66,  72],\n",
       "        [ 56,  69,  75],\n",
       "        ...,\n",
       "        [103, 109, 110],\n",
       "        [104, 109, 110],\n",
       "        [104, 106, 108]],\n",
       "\n",
       "       [[ 78,  91,  97],\n",
       "        [ 82,  95, 101],\n",
       "        [ 84,  97, 103],\n",
       "        ...,\n",
       "        [ 96, 105, 108],\n",
       "        [ 93, 102, 105],\n",
       "        [ 96, 102, 106]]], dtype=uint8)"
      ]
     },
     "execution_count": 31,
     "metadata": {},
     "output_type": "execute_result"
    }
   ],
   "source": [
    "train_images[900]"
   ]
  },
  {
   "cell_type": "code",
   "execution_count": 32,
   "metadata": {},
   "outputs": [],
   "source": [
    "# normalize pixel values to 0~1:\n",
    "train_images, test_images = train_images / 255.0, test_images / 255.0\n",
    "\n",
    "# create classes for the images\n",
    "class_names = ['airplane', 'automobile', 'bird', 'cat', 'deer',\n",
    "               'dog', 'frog', 'horse', 'ship', 'truck']"
   ]
  },
  {
   "cell_type": "code",
   "execution_count": 33,
   "metadata": {},
   "outputs": [
    {
     "data": {
      "text/plain": [
       "array([[[0.76862745, 0.76078431, 0.7372549 ],\n",
       "        [0.53333333, 0.49411765, 0.41176471],\n",
       "        [0.56078431, 0.44705882, 0.30980392],\n",
       "        ...,\n",
       "        [0.49411765, 0.19607843, 0.15294118],\n",
       "        [0.49411765, 0.2       , 0.15294118],\n",
       "        [0.49411765, 0.21568627, 0.16078431]],\n",
       "\n",
       "       [[0.60392157, 0.55686275, 0.47843137],\n",
       "        [0.6       , 0.43529412, 0.30196078],\n",
       "        [0.64705882, 0.37254902, 0.22745098],\n",
       "        ...,\n",
       "        [0.59607843, 0.33333333, 0.25882353],\n",
       "        [0.61960784, 0.36470588, 0.29019608],\n",
       "        [0.60784314, 0.38431373, 0.31372549]],\n",
       "\n",
       "       [[0.76862745, 0.51372549, 0.45882353],\n",
       "        [0.77254902, 0.39607843, 0.31764706],\n",
       "        [0.71372549, 0.36470588, 0.27843137],\n",
       "        ...,\n",
       "        [0.56862745, 0.36862745, 0.29411765],\n",
       "        [0.52941176, 0.32941176, 0.25882353],\n",
       "        [0.48627451, 0.30588235, 0.25098039]],\n",
       "\n",
       "       ...,\n",
       "\n",
       "       [[0.19607843, 0.24313725, 0.27058824],\n",
       "        [0.19215686, 0.23921569, 0.26666667],\n",
       "        [0.18039216, 0.22745098, 0.25490196],\n",
       "        ...,\n",
       "        [0.4       , 0.40784314, 0.40392157],\n",
       "        [0.41568627, 0.41960784, 0.41960784],\n",
       "        [0.40784314, 0.40784314, 0.40784314]],\n",
       "\n",
       "       [[0.20392157, 0.25490196, 0.27843137],\n",
       "        [0.20784314, 0.25882353, 0.28235294],\n",
       "        [0.21960784, 0.27058824, 0.29411765],\n",
       "        ...,\n",
       "        [0.40392157, 0.42745098, 0.43137255],\n",
       "        [0.40784314, 0.42745098, 0.43137255],\n",
       "        [0.40784314, 0.41568627, 0.42352941]],\n",
       "\n",
       "       [[0.30588235, 0.35686275, 0.38039216],\n",
       "        [0.32156863, 0.37254902, 0.39607843],\n",
       "        [0.32941176, 0.38039216, 0.40392157],\n",
       "        ...,\n",
       "        [0.37647059, 0.41176471, 0.42352941],\n",
       "        [0.36470588, 0.4       , 0.41176471],\n",
       "        [0.37647059, 0.4       , 0.41568627]]])"
      ]
     },
     "execution_count": 33,
     "metadata": {},
     "output_type": "execute_result"
    }
   ],
   "source": [
    "train_images[900]"
   ]
  },
  {
   "cell_type": "code",
   "execution_count": 43,
   "metadata": {
    "scrolled": true
   },
   "outputs": [
    {
     "data": {
      "image/png": "[encoded data removed]",
      "text/plain": [
       "<Figure size 432x288 with 1 Axes>"
      ]
     },
     "metadata": {
      "needs_background": "light"
     },
     "output_type": "display_data"
    }
   ],
   "source": [
    "# check the image\n",
    "IMG_INDEX = 600\n",
    "plt.imshow(train_images[IMG_INDEX] ,cmap=plt.cm.binary)\n",
    "plt.xlabel(class_names[train_labels[IMG_INDEX][0]])\n",
    "plt.show()"
   ]
  },
  {
   "cell_type": "markdown",
   "metadata": {},
   "source": [
    "## 4. 規劃神經網路"
   ]
  },
  {
   "cell_type": "markdown",
   "metadata": {},
   "source": [
    "本例使用:  \n",
    "1. 一層 Convolution (filter 大小: 3*3、數量: 32)\n",
    "2. 一層 Max Pooling (2*2、stride = 2)\n",
    "3. 一層 Convolution (filter 大小: 3*3、數量: 64)\n",
    "4. 一層 Max Pooling (2*2、stride = 2)\n",
    "5. 一層 Fully connected NN"
   ]
  },
  {
   "cell_type": "code",
   "execution_count": 44,
   "metadata": {},
   "outputs": [],
   "source": [
    "model = models.Sequential() # create a blank model"
   ]
  },
  {
   "cell_type": "code",
   "execution_count": 45,
   "metadata": {},
   "outputs": [],
   "source": [
    "# 第一次 Convolution + Max Pooling\n",
    "model.add(layers.Conv2D(32, (3, 3), activation='softmax', input_shape=(32, 32, 3)))\n",
    "model.add(layers.MaxPooling2D((2, 2)))\n",
    "\n",
    "# 第二次 Convolution + Max Pooling\n",
    "model.add(layers.Conv2D(64, (3, 3), activation='relu'))\n",
    "model.add(layers.MaxPooling2D((2, 2)))"
   ]
  },
  {
   "cell_type": "markdown",
   "metadata": {},
   "source": [
    "## 5. 查看初步模型情況 ( <font color='green'>.summary()</font> )"
   ]
  },
  {
   "cell_type": "code",
   "execution_count": 46,
   "metadata": {},
   "outputs": [
    {
     "name": "stdout",
     "output_type": "stream",
     "text": [
      "Model: \"sequential_1\"\n",
      "_________________________________________________________________\n",
      "Layer (type)                 Output Shape              Param #   \n",
      "=================================================================\n",
      "conv2d_2 (Conv2D)            (None, 30, 30, 32)        896       \n",
      "_________________________________________________________________\n",
      "max_pooling2d_2 (MaxPooling2 (None, 15, 15, 32)        0         \n",
      "_________________________________________________________________\n",
      "conv2d_3 (Conv2D)            (None, 13, 13, 64)        18496     \n",
      "_________________________________________________________________\n",
      "max_pooling2d_3 (MaxPooling2 (None, 6, 6, 64)          0         \n",
      "=================================================================\n",
      "Total params: 19,392\n",
      "Trainable params: 19,392\n",
      "Non-trainable params: 0\n",
      "_________________________________________________________________\n"
     ]
    }
   ],
   "source": [
    "model.summary()"
   ]
  },
  {
   "cell_type": "markdown",
   "metadata": {},
   "source": [
    "觀察 ```Output Shape```，你是否可以解釋結果?"
   ]
  },
  {
   "cell_type": "markdown",
   "metadata": {},
   "source": [
    "## 6. 新增 FC (Fully Connected) layer ( <font color='green'>.add()</font> )"
   ]
  },
  {
   "cell_type": "code",
   "execution_count": 47,
   "metadata": {},
   "outputs": [],
   "source": [
    "model.add(layers.Flatten()) # 將 6*6*64 拉成單維。\n",
    "model.add(layers.Dense(64, activation='relu')) # fully dense\n",
    "model.add(layers.Dense(10)) # output 必須是 10。"
   ]
  },
  {
   "cell_type": "markdown",
   "metadata": {},
   "source": [
    "## 7. Compile the model ( <font color='green'>.compile()</font> )"
   ]
  },
  {
   "cell_type": "code",
   "execution_count": 48,
   "metadata": {},
   "outputs": [],
   "source": [
    "model.compile(optimizer='adam',\n",
    "              loss=tf.keras.losses.SparseCategoricalCrossentropy(from_logits=True),\n",
    "              metrics=['accuracy'])"
   ]
  },
  {
   "cell_type": "markdown",
   "metadata": {},
   "source": [
    "## 8. Fit (the data to) the model  (<font color='green'> .fit() </font>)"
   ]
  },
  {
   "cell_type": "markdown",
   "metadata": {},
   "source": [
    "參數說明:  \n",
    "```epochs```: 訓練過程中數據被「輪」多少次。  \n",
    "```validation_data```: 訓練過程中用給定的資料 evaluate。"
   ]
  },
  {
   "cell_type": "code",
   "execution_count": 62,
   "metadata": {},
   "outputs": [
    {
     "name": "stdout",
     "output_type": "stream",
     "text": [
      "Train on 50000 samples, validate on 10000 samples\n",
      "Epoch 1/10\n",
      "50000/50000 [==============================] - 64s 1ms/sample - loss: 1.8752 - acc: 0.3189 - val_loss: 1.6168 - val_acc: 0.4184\n",
      "Epoch 2/10\n",
      "50000/50000 [==============================] - 62s 1ms/sample - loss: 1.5336 - acc: 0.4447 - val_loss: 1.4627 - val_acc: 0.4718\n",
      "Epoch 3/10\n",
      "50000/50000 [==============================] - 62s 1ms/sample - loss: 1.4488 - acc: 0.4810 - val_loss: 1.4117 - val_acc: 0.4949\n",
      "Epoch 4/10\n",
      "50000/50000 [==============================] - 62s 1ms/sample - loss: 1.3907 - acc: 0.5019 - val_loss: 1.4198 - val_acc: 0.4876\n",
      "Epoch 5/10\n",
      "50000/50000 [==============================] - 67s 1ms/sample - loss: 1.3416 - acc: 0.5186 - val_loss: 1.3419 - val_acc: 0.5190\n",
      "Epoch 6/10\n",
      "50000/50000 [==============================] - 56s 1ms/sample - loss: 1.3061 - acc: 0.5339 - val_loss: 1.3056 - val_acc: 0.5358\n",
      "Epoch 7/10\n",
      "50000/50000 [==============================] - 135s 3ms/sample - loss: 1.2762 - acc: 0.5448 - val_loss: 1.2843 - val_acc: 0.5458\n",
      "Epoch 8/10\n",
      "50000/50000 [==============================] - 60s 1ms/sample - loss: 1.2509 - acc: 0.5565 - val_loss: 1.2883 - val_acc: 0.5401\n",
      "Epoch 9/10\n",
      "50000/50000 [==============================] - 63s 1ms/sample - loss: 1.2275 - acc: 0.5651 - val_loss: 1.2447 - val_acc: 0.5556\n",
      "Epoch 10/10\n",
      "50000/50000 [==============================] - 65s 1ms/sample - loss: 1.2032 - acc: 0.5761 - val_loss: 1.2199 - val_acc: 0.5660\n"
     ]
    }
   ],
   "source": [
    "history = model.fit(train_images, train_labels, epochs=10, validation_data=(test_images, test_labels))"
   ]
  },
  {
   "cell_type": "code",
   "execution_count": 49,
   "metadata": {},
   "outputs": [
    {
     "data": {
      "text/plain": [
       "<tensorflow.python.keras.callbacks.History at 0x1a9ebe74788>"
      ]
     },
     "execution_count": 49,
     "metadata": {},
     "output_type": "execute_result"
    }
   ],
   "source": [
    "history"
   ]
  },
  {
   "cell_type": "markdown",
   "metadata": {},
   "source": [
    "## 9. 查看模型的準確度  (<font color='green'> .evaluate() </font>):"
   ]
  },
  {
   "cell_type": "code",
   "execution_count": 51,
   "metadata": {},
   "outputs": [
    {
     "name": "stdout",
     "output_type": "stream",
     "text": [
      "10000/10000 - 4s - loss: 2.3028 - acc: 0.1017\n",
      "0.1017\n"
     ]
    }
   ],
   "source": [
    "test_loss, test_acc = model.evaluate(test_images,  test_labels, verbose=2)\n",
    "print(test_acc)"
   ]
  },
  {
   "cell_type": "code",
   "execution_count": 52,
   "metadata": {},
   "outputs": [],
   "source": [
    "predictions = model.predict(test_images)"
   ]
  },
  {
   "cell_type": "code",
   "execution_count": 61,
   "metadata": {},
   "outputs": [
    {
     "data": {
      "text/plain": [
       "array([ 0.01681134, -0.0302102 ,  0.00428864,  0.0116974 , -0.01027543,\n",
       "       -0.002516  ,  0.01255328,  0.01789701, -0.0128179 , -0.00728659],\n",
       "      dtype=float32)"
      ]
     },
     "execution_count": 61,
     "metadata": {},
     "output_type": "execute_result"
    }
   ],
   "source": [
    "predictions[1000]"
   ]
  },
  {
   "cell_type": "markdown",
   "metadata": {},
   "source": [
    "```predicitions``` 是一個 ```numpy arrary```    \n",
    "這 10 個數字代表的是 <font color='red'> probability distribution </font>。"
   ]
  },
  {
   "cell_type": "code",
   "execution_count": 59,
   "metadata": {},
   "outputs": [
    {
     "data": {
      "text/plain": [
       "7"
      ]
     },
     "execution_count": 59,
     "metadata": {},
     "output_type": "execute_result"
    }
   ],
   "source": [
    "np.argmax(predictions[9000]) "
   ]
  },
  {
   "cell_type": "markdown",
   "metadata": {},
   "source": [
    "```.argmax()``` 回傳 array 的最大值。因此經由我們的神經網路訓練後，機器認為第 9487 筆 testing data，是編號 ```1``` 的物件。  \n",
    "來看看第 ```1``` 個 index 是甚麼:\n",
    "```python\n",
    "class_names = ['airplane', 'automobile', 'bird', 'cat', 'deer',\n",
    "               'dog', 'frog', 'horse', 'ship', 'truck']\n",
    "```\n",
    "把圖畫出來:"
   ]
  },
  {
   "cell_type": "code",
   "execution_count": 55,
   "metadata": {},
   "outputs": [],
   "source": [
    "%matplotlib inline"
   ]
  },
  {
   "cell_type": "code",
   "execution_count": 56,
   "metadata": {},
   "outputs": [
    {
     "data": {
      "image/png": "[encoded data removed]",
      "text/plain": [
       "<Figure size 432x288 with 1 Axes>"
      ]
     },
     "metadata": {
      "needs_background": "light"
     },
     "output_type": "display_data"
    }
   ],
   "source": [
    "plt.figure()\n",
    "plt.imshow(test_images[900]) \n",
    "plt.grid(False)\n",
    "plt.show()"
   ]
  },
  {
   "cell_type": "code",
   "execution_count": 21,
   "metadata": {
    "scrolled": true
   },
   "outputs": [
    {
     "data": {
      "text/plain": [
       "array([1], dtype=uint8)"
      ]
     },
     "execution_count": 21,
     "metadata": {},
     "output_type": "execute_result"
    }
   ],
   "source": [
    "test_labels[1564] # 機器判斷正確!"
   ]
  },
  {
   "cell_type": "markdown",
   "metadata": {},
   "source": [
    "## 10. 改善模型的準確度:"
   ]
  },
  {
   "cell_type": "markdown",
   "metadata": {},
   "source": [
    "試著套用不同的 activation functions、loss function、optimizer，看看哪一種組合可以得到最好的學習效果:"
   ]
  },
  {
   "cell_type": "code",
   "execution_count": null,
   "metadata": {},
   "outputs": [],
   "source": []
  },
  {
   "cell_type": "markdown",
   "metadata": {},
   "source": [
    "## 補充: Data Augmentation(增廣)"
   ]
  },
  {
   "cell_type": "markdown",
   "metadata": {},
   "source": [
    "上到這邊可以發現，CNN 要 train 的好，關鍵是讓電腦學習 input data 的 features。如果 input data (i.e. images) 太少，那機器可能就無法分辨不同物體。但有時資料就是這麼少，這時就可以用 data augmentation。  \n",
    "所謂的 data augmentation，就是 <font color='red'> 把原始圖片做處理 (eg 旋轉、壓縮、拉長) 使資料量變大，同時不會導致 overfitting 的問題。</font>"
   ]
  },
  {
   "cell_type": "code",
   "execution_count": 22,
   "metadata": {
    "scrolled": true
   },
   "outputs": [
    {
     "name": "stderr",
     "output_type": "stream",
     "text": [
      "Using TensorFlow backend.\n"
     ]
    },
    {
     "data": {
      "image/png": "[encoded data removed]",
      "text/plain": [
       "<Figure size 432x288 with 1 Axes>"
      ]
     },
     "metadata": {
      "needs_background": "light"
     },
     "output_type": "display_data"
    },
    {
     "data": {
      "image/png": "[encoded data removed]",
      "text/plain": [
       "<Figure size 432x288 with 1 Axes>"
      ]
     },
     "metadata": {
      "needs_background": "light"
     },
     "output_type": "display_data"
    },
    {
     "data": {
      "image/png": "[encoded data removed]",
      "text/plain": [
       "<Figure size 432x288 with 1 Axes>"
      ]
     },
     "metadata": {
      "needs_background": "light"
     },
     "output_type": "display_data"
    },
    {
     "data": {
      "image/png": "[encoded data removed]",
      "text/plain": [
       "<Figure size 432x288 with 1 Axes>"
      ]
     },
     "metadata": {
      "needs_background": "light"
     },
     "output_type": "display_data"
    },
    {
     "data": {
      "image/png": "[encoded data removed]",
      "text/plain": [
       "<Figure size 432x288 with 1 Axes>"
      ]
     },
     "metadata": {
      "needs_background": "light"
     },
     "output_type": "display_data"
    }
   ],
   "source": [
    "from keras.preprocessing import image\n",
    "from keras.preprocessing.image import ImageDataGenerator\n",
    "\n",
    "# creates a data generator object that transforms images\n",
    "# 將 input data(圖片)做一些處理。\n",
    "datagen = ImageDataGenerator(\n",
    "rotation_range=40,\n",
    "width_shift_range=0.2,\n",
    "height_shift_range=0.2,\n",
    "shear_range=0.2,\n",
    "zoom_range=0.2,\n",
    "horizontal_flip=True,\n",
    "fill_mode='nearest')\n",
    "#-------------------------------------------------------------------------------------------------------------------------\n",
    "\n",
    "# 隨便挑一張來測試:\n",
    "test_img = train_images[20]\n",
    "img = image.img_to_array(test_img)  # convert image to numpy arry\n",
    "img = img.reshape((1,) + img.shape)  # reshape image\n",
    "\n",
    "i = 0\n",
    "# this loops runs forever until we break, saving images to current directory with specified prefix\n",
    "for batch in datagen.flow(img, save_prefix='test', save_format='jpeg'):  \n",
    "    plt.figure(i)\n",
    "    plot = plt.imshow(image.img_to_array(batch[0]))\n",
    "    i += 1\n",
    "    if i > 4:  # show 4 images\n",
    "        break\n",
    "\n",
    "plt.show()"
   ]
  },
  {
   "cell_type": "markdown",
   "metadata": {},
   "source": [
    "# Terms"
   ]
  },
  {
   "cell_type": "markdown",
   "metadata": {},
   "source": [
    "## Cross Entropy"
   ]
  },
  {
   "cell_type": "markdown",
   "metadata": {},
   "source": [
    "公式:  \n",
    "$$H(p, q) = -\\sum_{x}p(x)\\ log(q(x))$$  \n",
    "$$p = 真實分布, q = 模型預測的分布$$"
   ]
  },
  {
   "cell_type": "markdown",
   "metadata": {},
   "source": [
    "Cross Entropy vs MSE:\n",
    "![CE vs MSE](data:image/png;base64,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)"
   ]
  },
  {
   "cell_type": "markdown",
   "metadata": {},
   "source": [
    "使用 Cross Entropy 會將模型預測誤差極大的部分放大，使之後做 back propagation 時能學習的更有效率。"
   ]
  },
  {
   "cell_type": "code",
   "execution_count": null,
   "metadata": {},
   "outputs": [],
   "source": []
  }
 ],
 "metadata": {
  "kernelspec": {
   "display_name": "Python 3",
   "language": "python",
   "name": "python3"
  },
  "language_info": {
   "codemirror_mode": {
    "name": "ipython",
    "version": 3
   },
   "file_extension": ".py",
   "mimetype": "text/x-python",
   "name": "python",
   "nbconvert_exporter": "python",
   "pygments_lexer": "ipython3",
   "version": "3.7.9"
  }
 },
 "nbformat": 4,
 "nbformat_minor": 4
}
