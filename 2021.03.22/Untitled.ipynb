{
 "cells": [
  {
   "cell_type": "code",
   "execution_count": null,
   "metadata": {},
   "outputs": [],
   "source": [
    "df = pd.read_csv(\"survey_results_public.csv\")\n",
    "df_schema = pd.read_csv(\"survey_results_schema.csv\")\n",
    "\n",
    "df_schema.set_index('Column', inplace=True)\n",
    "df_schema.loc['YearsCode', 'QuestionText']\n",
    "\n",
    "df['YearsCode'].replace('Less than 1 year', 1, inplace=True)\n",
    "df['YearsCode'].replace('More than 50 years', 51, inplace=True)\n",
    "\n",
    "df['YearsCode'] = df['YearsCode'].astype(float)\n",
    "df['YearsCode'].mean()"
   ]
  },
  {
   "cell_type": "code",
   "execution_count": null,
   "metadata": {},
   "outputs": [],
   "source": [
    "country_grp.get_group(\"Germany\").loc[:, 'CompTotal'].median()\n",
    "\n",
    "country_grp['CompTotal'].median().loc['Germany']"
   ]
  },
  {
   "cell_type": "code",
   "execution_count": null,
   "metadata": {},
   "outputs": [],
   "source": [
    "\n",
    "country_grp['ConvertedComp'].agg(['mean', 'median'])"
   ]
  },
  {
   "cell_type": "code",
   "execution_count": null,
   "metadata": {},
   "outputs": [],
   "source": [
    "country_res = df['Country'].value_counts()\n",
    "workedwithpython = country_grp['LanguageWorkedWith'].apply(lambda x: x.str.contains(\"Python\").sum())\n",
    "python_df = pd.concat([country_res, workedwithpython], axis='columns')\n",
    "python_df.rename(columns = {'Country':'NumRespondents', 'LanguageWorkedWith':'NumKnowsPython'}, inplace = True) \n",
    "python_df['pctKnowsPython'] = python_df['NumKnowsPython'] / python_df['NumRespondents'] * 100"
   ]
  }
 ],
 "metadata": {
  "kernelspec": {
   "display_name": "Python 3",
   "language": "python",
   "name": "python3"
  },
  "language_info": {
   "codemirror_mode": {
    "name": "ipython",
    "version": 3
   },
   "file_extension": ".py",
   "mimetype": "text/x-python",
   "name": "python",
   "nbconvert_exporter": "python",
   "pygments_lexer": "ipython3",
   "version": "3.7.9"
  }
 },
 "nbformat": 4,
 "nbformat_minor": 4
}
