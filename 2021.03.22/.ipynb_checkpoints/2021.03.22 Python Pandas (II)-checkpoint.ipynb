{
 "cells": [
  {
   "cell_type": "markdown",
   "metadata": {},
   "source": [
    "LLH, 2021.03.22 @NCCU MITC"
   ]
  },
  {
   "cell_type": "markdown",
   "metadata": {},
   "source": [
    "### 9. ```NaN``` 處理:"
   ]
  },
  {
   "cell_type": "code",
   "execution_count": null,
   "metadata": {},
   "outputs": [],
   "source": [
    "import pandas as pd\n",
    "import numpy as np\n",
    "import matplotlib.pyplot as plt"
   ]
  },
  {
   "cell_type": "code",
   "execution_count": null,
   "metadata": {},
   "outputs": [],
   "source": [
    "%matplotlib inline"
   ]
  },
  {
   "cell_type": "code",
   "execution_count": null,
   "metadata": {},
   "outputs": [],
   "source": [
    "people = {\n",
    "    'first': ['Mark', 'Jane', 'John', 'Amber', np.nan, None, 'NA', 'Mike'], \n",
    "    'last': ['Davis', 'Lin', 'Cena', 'Chang', np.nan, np.nan, 'Missing', np.nan], \n",
    "    'email': ['markdavis@gmail.com', 'janelin@gmail.com', 'johncena@gmail.com', None, np.nan, 'Anonymous@gmail.com', 'NA', 'NA'],\n",
    "    'age': ['33', '55', '63', '36', None, None, np.nan, '29']\n",
    "}"
   ]
  },
  {
   "cell_type": "code",
   "execution_count": null,
   "metadata": {},
   "outputs": [],
   "source": [
    "ppl = pd.DataFrame(people)"
   ]
  },
  {
   "cell_type": "code",
   "execution_count": null,
   "metadata": {},
   "outputs": [],
   "source": [
    "ppl"
   ]
  },
  {
   "cell_type": "markdown",
   "metadata": {},
   "source": [
    "#### 我們發現這個 ```Data Frame``` 裡有許多 ```NaN``` (Not a Number)。如果不對這些 ```NaN``` 做處理的話，後續作數據分析時會出問題:"
   ]
  },
  {
   "cell_type": "markdown",
   "metadata": {},
   "source": [
    "#### - ```drop.na()```:"
   ]
  },
  {
   "cell_type": "code",
   "execution_count": null,
   "metadata": {},
   "outputs": [],
   "source": [
    "ppl.dropna()"
   ]
  },
  {
   "cell_type": "markdown",
   "metadata": {},
   "source": [
    "注意到第 ```6``` row 的資料沒有被刪除，因為這裡的 NA 是字串的形式，既非 ```np.nan``` 的 ```float```，也非 ```None``` 的 ```NoneType```。"
   ]
  },
  {
   "cell_type": "code",
   "execution_count": null,
   "metadata": {},
   "outputs": [],
   "source": []
  },
  {
   "cell_type": "markdown",
   "metadata": {},
   "source": [
    "如果不給 ```np.nan()``` 任何參數，則預設參數值為: ```axis='index'```, ```how='any'```:"
   ]
  },
  {
   "cell_type": "code",
   "execution_count": null,
   "metadata": {},
   "outputs": [],
   "source": [
    "ppl.dropna(axis='index', how='any') # axis=0 also works"
   ]
  },
  {
   "cell_type": "markdown",
   "metadata": {},
   "source": [
    "在 ```python``` 的 ```Data Frame``` 裡:\n",
    "- ```axis``` 值為 ```0``` 代表 <font color='red'> row (橫的) </font>\n",
    "- ```axis``` 值為 ```1``` 代表 <font color='red'> column (直的) </font>\n",
    "---\n",
    "```pd.concat()```:"
   ]
  },
  {
   "cell_type": "code",
   "execution_count": null,
   "metadata": {},
   "outputs": [],
   "source": [
    "group1 = {\n",
    "    'first':['Mark', 'Jane', 'John'], \n",
    "    'last':['Davis', 'Lin', 'Cena'], \n",
    "    'age':[12, 31, 20]\n",
    "}\n",
    "\n",
    "group2 = {\n",
    "    'first':['Kevin', 'Mike', 'Mary'], \n",
    "    'last':['Lewis', 'Pence', 'Chung'], \n",
    "    'age':[15, 46, 8]\n",
    "}\n",
    "\n",
    "ex1 = pd.DataFrame(group1)\n",
    "ex2 = pd.DataFrame(group2)"
   ]
  },
  {
   "cell_type": "code",
   "execution_count": null,
   "metadata": {},
   "outputs": [],
   "source": [
    "pd.concat([ex1, ex2], axis=1)"
   ]
  },
  {
   "cell_type": "markdown",
   "metadata": {},
   "source": [
    "---"
   ]
  },
  {
   "cell_type": "code",
   "execution_count": null,
   "metadata": {},
   "outputs": [],
   "source": [
    "ppl.dropna(axis=0, how='all') # all: 所有資料都是 NaN 才會刪除"
   ]
  },
  {
   "cell_type": "code",
   "execution_count": null,
   "metadata": {},
   "outputs": [],
   "source": [
    "df"
   ]
  },
  {
   "cell_type": "markdown",
   "metadata": {},
   "source": [
    "更多客製化:"
   ]
  },
  {
   "cell_type": "code",
   "execution_count": null,
   "metadata": {
    "scrolled": true
   },
   "outputs": [],
   "source": [
    "ppl.dropna(axis='index', how='any', subset=['last', 'email'])"
   ]
  },
  {
   "cell_type": "markdown",
   "metadata": {},
   "source": [
    "在第 ```7``` row，NA 跟 Missing 是直接用 string 表示的，我們想要換成 ```numpy``` 的 ```NaN```。"
   ]
  },
  {
   "cell_type": "code",
   "execution_count": null,
   "metadata": {},
   "outputs": [],
   "source": [
    "ppl.iloc[6]"
   ]
  },
  {
   "cell_type": "code",
   "execution_count": null,
   "metadata": {},
   "outputs": [],
   "source": [
    "type(ppl.iloc[6][1])"
   ]
  },
  {
   "cell_type": "markdown",
   "metadata": {},
   "source": [
    "#### ```df.replace()```:"
   ]
  },
  {
   "cell_type": "code",
   "execution_count": null,
   "metadata": {},
   "outputs": [],
   "source": [
    "ppl.replace('NA', np.nan) # remember to add \"inplace\" parameter"
   ]
  },
  {
   "cell_type": "code",
   "execution_count": null,
   "metadata": {},
   "outputs": [],
   "source": [
    "type(ppl.iloc[6][1])"
   ]
  },
  {
   "cell_type": "markdown",
   "metadata": {},
   "source": [
    "- ```df.isna()``` \n",
    "- ```df.fillna()```"
   ]
  },
  {
   "cell_type": "code",
   "execution_count": null,
   "metadata": {},
   "outputs": [],
   "source": [
    "ppl.isna()"
   ]
  },
  {
   "cell_type": "code",
   "execution_count": null,
   "metadata": {},
   "outputs": [],
   "source": [
    "ppl.fillna('Missing data') # remember to add \"inplace\" parameter"
   ]
  },
  {
   "cell_type": "code",
   "execution_count": null,
   "metadata": {},
   "outputs": [],
   "source": [
    "ppl"
   ]
  },
  {
   "cell_type": "code",
   "execution_count": null,
   "metadata": {},
   "outputs": [],
   "source": []
  },
  {
   "cell_type": "markdown",
   "metadata": {},
   "source": [
    "#### 計算年齡平均:"
   ]
  },
  {
   "cell_type": "code",
   "execution_count": null,
   "metadata": {},
   "outputs": [],
   "source": [
    "ppl['age'].mean()"
   ]
  },
  {
   "cell_type": "markdown",
   "metadata": {},
   "source": [
    "如果發現無法計算各種統計值，很有可能是你的資料中有<font color='blue'> 非數值 </font> 的資料，因此可以用 ```df.astype()``` 將所有資料轉換成統一的資料型態:"
   ]
  },
  {
   "cell_type": "code",
   "execution_count": null,
   "metadata": {},
   "outputs": [],
   "source": [
    "ppl['age'] = ppl['age'].astype(float)"
   ]
  },
  {
   "cell_type": "code",
   "execution_count": null,
   "metadata": {},
   "outputs": [],
   "source": [
    "ppl['age'].mean()"
   ]
  },
  {
   "cell_type": "markdown",
   "metadata": {},
   "source": [
    "### 練習:    "
   ]
  },
  {
   "cell_type": "markdown",
   "metadata": {},
   "source": [
    "Stack Overflow 是一個著名的問問題網站，只要是有關程式的任何問題，非常大的機率你最後會在這邊找到答案。  \n",
    "總共有兩份檔案: [資料來源](https://insights.stackoverflow.com/survey)  \n",
    "- ```survey_results_public.csv```: 針對 Stack Overflow 使用者所發放的問卷  \n",
    "- ```survey_results_schema.csv```: 針對 ```survey_results_public.csv``` 裡的提問進行說明  \n",
    "---\n",
    "首先先觀察資料，了解每一個 column 代表的意義。其中，```YearsCode``` 代表填答者寫程式的時間長短，你可以算出這份問卷填答者平均寫程式的資歷嗎?"
   ]
  },
  {
   "cell_type": "code",
   "execution_count": null,
   "metadata": {},
   "outputs": [],
   "source": []
  },
  {
   "cell_type": "markdown",
   "metadata": {},
   "source": [
    "[這個網站](https://insights.stackoverflow.com/survey/2020) 提供問卷經視覺化後的分析結果"
   ]
  },
  {
   "cell_type": "markdown",
   "metadata": {},
   "source": [
    "### 10. 將 ```Data Frame``` 以不同格式輸出:"
   ]
  },
  {
   "cell_type": "markdown",
   "metadata": {},
   "source": [
    "- csv\n",
    "- xlsx\n",
    "- json"
   ]
  },
  {
   "cell_type": "code",
   "execution_count": null,
   "metadata": {},
   "outputs": [],
   "source": [
    "df = pd.read_csv(r\"C:\\Users\\User\\MITC_lecture_notes\\2021.03.22\\survey_results_public.csv\")"
   ]
  },
  {
   "cell_type": "markdown",
   "metadata": {},
   "source": [
    "假設我們只想分析台灣填答者的資料:"
   ]
  },
  {
   "cell_type": "code",
   "execution_count": null,
   "metadata": {},
   "outputs": [],
   "source": [
    "filt = (df['Country'] == 'Taiwan')"
   ]
  },
  {
   "cell_type": "code",
   "execution_count": null,
   "metadata": {},
   "outputs": [],
   "source": [
    "tw_df = df.loc[filt]"
   ]
  },
  {
   "cell_type": "code",
   "execution_count": null,
   "metadata": {
    "scrolled": true
   },
   "outputs": [],
   "source": [
    "tw_df"
   ]
  },
  {
   "cell_type": "markdown",
   "metadata": {},
   "source": [
    "#### 將資料存成 ```csv``` 檔:"
   ]
  },
  {
   "cell_type": "code",
   "execution_count": null,
   "metadata": {},
   "outputs": [],
   "source": [
    "ex = pd.read_csv(r\"survey_results_public.csv\")"
   ]
  },
  {
   "cell_type": "code",
   "execution_count": null,
   "metadata": {},
   "outputs": [],
   "source": [
    "tw_df.to_csv(r\"C:\\Users\\User\\MITC_lecture_notes\\2021.03.22\\tw_df.csv\")"
   ]
  },
  {
   "cell_type": "markdown",
   "metadata": {},
   "source": [
    "#### 將資料存成 ```xlsx``` 檔:"
   ]
  },
  {
   "cell_type": "markdown",
   "metadata": {},
   "source": [
    "需要先安裝以下套件:  \n",
    "- ```xlwt``` (write to excel file)\n",
    "- ```openpyxl``` (open excel file)\n",
    "- ```xlrd``` (read excel file)\n",
    "---\n",
    "可以直接用一個 ```pip``` 指令安裝三個套件: ```pip install xlwt openpyxl xlrd``` "
   ]
  },
  {
   "cell_type": "code",
   "execution_count": null,
   "metadata": {},
   "outputs": [],
   "source": [
    "tw_df.to_excel(r'C:\\Users\\User\\MITC_lecture_notes\\2021.03.22\\tw_df.xlsx')"
   ]
  },
  {
   "cell_type": "code",
   "execution_count": null,
   "metadata": {},
   "outputs": [],
   "source": [
    "tw_df"
   ]
  },
  {
   "cell_type": "code",
   "execution_count": null,
   "metadata": {},
   "outputs": [],
   "source": [
    "tw_df.to_excel(r\"C:\\Users\\User\\MITC_lecture_notes\\2021.03.22\\tw_df.xlsx\", \n",
    "               index='Respondent', sheet_name='Taiwan survey data')"
   ]
  },
  {
   "cell_type": "markdown",
   "metadata": {},
   "source": [
    "- ```df.to_excel()``` 提供了許多不同的參數，有興趣的話可以到 [官方 documentation](https://pandas.pydata.org/docs/reference/api/pandas.DataFrame.to_excel.html) 查看"
   ]
  },
  {
   "cell_type": "markdown",
   "metadata": {},
   "source": [
    "#### 將資料存成 ```json``` 檔:"
   ]
  },
  {
   "cell_type": "code",
   "execution_count": null,
   "metadata": {},
   "outputs": [],
   "source": [
    "tw_df.to_json(r\"C:\\Users\\User\\MITC_lecture_notes\\2021.03.22\\tw_df.json\", orient='records', lines=True)"
   ]
  },
  {
   "cell_type": "code",
   "execution_count": null,
   "metadata": {},
   "outputs": [],
   "source": [
    "jsn = pd.read_json(r\"C:\\Users\\User\\MITC_lecture_notes\\2021.03.22\\tw_df.json\", orient='records', lines=True)"
   ]
  },
  {
   "cell_type": "code",
   "execution_count": null,
   "metadata": {},
   "outputs": [],
   "source": [
    "jsn"
   ]
  },
  {
   "cell_type": "markdown",
   "metadata": {},
   "source": [
    "- ```df.to_json()``` 提供了許多不同的參數，有興趣的話可以到 [官方 documentation](https://pandas.pydata.org/docs/reference/api/pandas.DataFrame.to_json.html) 查看"
   ]
  },
  {
   "cell_type": "markdown",
   "metadata": {},
   "source": [
    "### 11. 進階技巧 groupby:"
   ]
  },
  {
   "cell_type": "code",
   "execution_count": null,
   "metadata": {},
   "outputs": [],
   "source": [
    "df = pd.read_csv(r\"C:\\Users\\User\\MITC_lecture_notes\\2021.03.22\\survey_results_public.csv\")\n",
    "schema_df = pd.read_csv(r\"C:\\Users\\User\\MITC_lecture_notes\\2021.03.22\\survey_results_schema.csv\")"
   ]
  },
  {
   "cell_type": "code",
   "execution_count": null,
   "metadata": {},
   "outputs": [],
   "source": [
    "schema_df"
   ]
  },
  {
   "cell_type": "code",
   "execution_count": null,
   "metadata": {
    "scrolled": true
   },
   "outputs": [],
   "source": [
    "schema_df.loc[6, 'QuestionText']"
   ]
  },
  {
   "cell_type": "code",
   "execution_count": null,
   "metadata": {},
   "outputs": [],
   "source": [
    "schema_df['Column'].head(60)"
   ]
  },
  {
   "cell_type": "code",
   "execution_count": null,
   "metadata": {},
   "outputs": [],
   "source": [
    "df['EdLevel'].value_counts(normalize=True)"
   ]
  },
  {
   "cell_type": "markdown",
   "metadata": {},
   "source": [
    "假設我們現在想探討不同國家寫程式的人，他們的最高學歷之差異:"
   ]
  },
  {
   "cell_type": "code",
   "execution_count": null,
   "metadata": {
    "scrolled": true
   },
   "outputs": [],
   "source": [
    "df['Country'].value_counts()"
   ]
  },
  {
   "cell_type": "markdown",
   "metadata": {},
   "source": [
    "#### ```df.groupby()```"
   ]
  },
  {
   "cell_type": "code",
   "execution_count": null,
   "metadata": {},
   "outputs": [],
   "source": [
    "country_grp = df.groupby('Country')"
   ]
  },
  {
   "cell_type": "code",
   "execution_count": null,
   "metadata": {},
   "outputs": [],
   "source": [
    "type(country_grp)"
   ]
  },
  {
   "cell_type": "markdown",
   "metadata": {},
   "source": [
    "#### ```df.get_group()```:"
   ]
  },
  {
   "cell_type": "code",
   "execution_count": null,
   "metadata": {},
   "outputs": [],
   "source": [
    "country_grp.get_group('Taiwan')"
   ]
  },
  {
   "cell_type": "code",
   "execution_count": null,
   "metadata": {},
   "outputs": [],
   "source": [
    "country_grp['EdLevel'].value_counts().head(50)"
   ]
  },
  {
   "cell_type": "code",
   "execution_count": null,
   "metadata": {},
   "outputs": [],
   "source": [
    "type(country_grp['EdLevel'].value_counts())"
   ]
  },
  {
   "cell_type": "markdown",
   "metadata": {},
   "source": [
    "小練習: 找出德國填答者薪資 (```CompTotal```)的中位數:"
   ]
  },
  {
   "cell_type": "code",
   "execution_count": null,
   "metadata": {},
   "outputs": [],
   "source": []
  },
  {
   "cell_type": "markdown",
   "metadata": {},
   "source": [
    "對 groupby 物件查詢多個統計值 ```.agg()```"
   ]
  },
  {
   "cell_type": "code",
   "execution_count": null,
   "metadata": {},
   "outputs": [],
   "source": []
  },
  {
   "cell_type": "code",
   "execution_count": null,
   "metadata": {},
   "outputs": [],
   "source": [
    "country_grp['LanguageWorkedWith'].value_counts().loc['Taiwan']"
   ]
  },
  {
   "cell_type": "markdown",
   "metadata": {},
   "source": [
    "現在想要找出各國填答者使用 ```python``` 的比例:"
   ]
  },
  {
   "cell_type": "code",
   "execution_count": null,
   "metadata": {
    "scrolled": true
   },
   "outputs": [],
   "source": [
    "country_grp['LanguageWorkedWith'].str.contains('Python')"
   ]
  },
  {
   "cell_type": "code",
   "execution_count": null,
   "metadata": {},
   "outputs": [],
   "source": [
    "country_grp['LanguageWorkedWith'].apply(lambda x: x.str.contains(\"Python\"))"
   ]
  },
  {
   "cell_type": "code",
   "execution_count": null,
   "metadata": {},
   "outputs": [],
   "source": [
    "l = ['cpp', 'java', 'python']\n",
    "s = pd.Series(l)\n",
    "\n",
    "def containsP(x):\n",
    "    return x.str.contains(\"p\")\n",
    "\n",
    "res = containsP(s)\n",
    "res"
   ]
  },
  {
   "cell_type": "code",
   "execution_count": null,
   "metadata": {},
   "outputs": [],
   "source": [
    "country_grp['LanguageWorkedWith'].apply(lambda x: x.str.contains(\"Python\").sum())"
   ]
  },
  {
   "cell_type": "markdown",
   "metadata": {},
   "source": [
    "### 練習: 創一個 ```Data Frame```，裡面的資料有 \"所有國家\"，\"各國家填答者使用 python 的人數\"，\"各國家填答者使用 python 的比例\":"
   ]
  },
  {
   "cell_type": "code",
   "execution_count": null,
   "metadata": {},
   "outputs": [],
   "source": []
  }
 ],
 "metadata": {
  "kernelspec": {
   "display_name": "Python 3",
   "language": "python",
   "name": "python3"
  },
  "language_info": {
   "codemirror_mode": {
    "name": "ipython",
    "version": 3
   },
   "file_extension": ".py",
   "mimetype": "text/x-python",
   "name": "python",
   "nbconvert_exporter": "python",
   "pygments_lexer": "ipython3",
   "version": "3.7.9"
  }
 },
 "nbformat": 4,
 "nbformat_minor": 4
}
