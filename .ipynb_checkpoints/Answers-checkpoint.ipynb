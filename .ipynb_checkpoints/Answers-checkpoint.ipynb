{
 "cells": [
  {
   "cell_type": "code",
   "execution_count": null,
   "metadata": {},
   "outputs": [],
   "source": [
    "fig, axes = plt.subplots(1, 2, figsize=(14, 3))\n",
    "x = tw['Date'].values\n",
    "y = tw['Confirmed'].values\n",
    "axes[0].plot(x, y, label='Taiwan', color='red')\n",
    "axes[0].set_xlabel('Date')\n",
    "axes[0].set_title('Cumulative COVID-19 confirmed cases')\n",
    "axes[0].legend(loc='upper left')\n",
    "axes[1].bar(x[1:], daily_increase, label='Taiwan', color='darkorange') # 因為是每日新增，要扣除資料的第一天 2020-01-22\n",
    "axes[1].set_title('Daily COVID-19 confirmed cases')\n",
    "axes[1].set_xlabel('Date')\n",
    "axes[1].set_ylabel('Daily Increase')\n",
    "axes[1].set_ylim(0, None)\n",
    "axes[1].legend(loc='upper left')\n",
    "plt.show()"
   ]
  }
 ],
 "metadata": {
  "kernelspec": {
   "display_name": "Python 3",
   "language": "python",
   "name": "python3"
  },
  "language_info": {
   "codemirror_mode": {
    "name": "ipython",
    "version": 3
   },
   "file_extension": ".py",
   "mimetype": "text/x-python",
   "name": "python",
   "nbconvert_exporter": "python",
   "pygments_lexer": "ipython3",
   "version": "3.7.4"
  }
 },
 "nbformat": 4,
 "nbformat_minor": 4
}
