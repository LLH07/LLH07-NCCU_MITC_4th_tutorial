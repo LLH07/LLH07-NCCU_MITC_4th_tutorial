{
 "cells": [
  {
   "cell_type": "markdown",
   "metadata": {},
   "source": [
    "2020/10/15 林隆鴻@政大數理資訊社"
   ]
  },
  {
   "cell_type": "markdown",
   "metadata": {},
   "source": [
    "# Python 是甚麼?\n",
    "1. 直譯式，物件導向的程式語言。\n",
    "2. 語法簡潔。\n",
    "3. 1989 年由 Guido van Rossum 創造。\n",
    "4. 最新版本: 3.9.0 (10/5 released)"
   ]
  },
  {
   "cell_type": "markdown",
   "metadata": {},
   "source": [
    "# 資料型態"
   ]
  },
  {
   "cell_type": "markdown",
   "metadata": {},
   "source": [
    "- Numeric type(數值型態)\n",
    "    - 整數(Int)\n",
    "    - 浮點數(Float)\n",
    "    - 布林值(Boolean)\n",
    "- Text Sequence Type(字串)\n",
    "    - 字串(string)\n",
    "- Sequence Type(序列型態)：串列(List)、元組(Tuple)\n",
    "- Mapping Type(對映型態)：字典(Dict)\n",
    "- Set Type(集合型態)：集合(Set)"
   ]
  },
  {
   "cell_type": "markdown",
   "metadata": {},
   "source": [
    "## 整數:"
   ]
  },
  {
   "cell_type": "code",
   "execution_count": null,
   "metadata": {},
   "outputs": [],
   "source": [
    "a = 5\n",
    "type(a) # print(type(a)) also works"
   ]
  },
  {
   "cell_type": "markdown",
   "metadata": {},
   "source": [
    "```type()``` 是一個內建的```function```(函數)。    \n",
    "其功能是回傳 ```parameter```(參數)的資料型態。"
   ]
  },
  {
   "cell_type": "code",
   "execution_count": null,
   "metadata": {},
   "outputs": [],
   "source": [
    "a = 5\n",
    "type(a)"
   ]
  },
  {
   "cell_type": "markdown",
   "metadata": {},
   "source": [
    "## 浮點數:"
   ]
  },
  {
   "cell_type": "code",
   "execution_count": null,
   "metadata": {},
   "outputs": [],
   "source": [
    "a = 5.3\n",
    "b = 9.\n",
    "\n",
    "type(a)\n",
    "type(b)"
   ]
  },
  {
   "cell_type": "code",
   "execution_count": null,
   "metadata": {},
   "outputs": [],
   "source": [
    "int(a + b)"
   ]
  },
  {
   "cell_type": "markdown",
   "metadata": {},
   "source": [
    "## 布林值:"
   ]
  },
  {
   "cell_type": "code",
   "execution_count": null,
   "metadata": {},
   "outputs": [],
   "source": [
    "a = True\n",
    "type(a)"
   ]
  },
  {
   "cell_type": "code",
   "execution_count": null,
   "metadata": {},
   "outputs": [],
   "source": [
    "b = False\n",
    "a + b"
   ]
  },
  {
   "cell_type": "markdown",
   "metadata": {},
   "source": [
    "布林值可以相加? \n",
    "在 Python 裡:\n",
    "```python \n",
    "False 代表數字 0。\n",
    "True 代表不是 0 的所有數字。Python 預設為 1 。\n",
    "```"
   ]
  },
  {
   "cell_type": "code",
   "execution_count": null,
   "metadata": {},
   "outputs": [],
   "source": [
    "a = True\n",
    "b = False\n",
    "# b - a"
   ]
  },
  {
   "cell_type": "markdown",
   "metadata": {},
   "source": [
    "### Builtin Functions for data types:"
   ]
  },
  {
   "cell_type": "code",
   "execution_count": null,
   "metadata": {},
   "outputs": [],
   "source": [
    "float(5)"
   ]
  },
  {
   "cell_type": "code",
   "execution_count": null,
   "metadata": {},
   "outputs": [],
   "source": [
    "bool(5)"
   ]
  },
  {
   "cell_type": "code",
   "execution_count": null,
   "metadata": {
    "scrolled": true
   },
   "outputs": [],
   "source": [
    "int(True)"
   ]
  },
  {
   "cell_type": "markdown",
   "metadata": {},
   "source": [
    "### 基本數值運算(算術運算子):\n",
    "```python\n",
    "+, -, *, **, /, //, %\n",
    "```"
   ]
  },
  {
   "cell_type": "code",
   "execution_count": null,
   "metadata": {},
   "outputs": [],
   "source": [
    "5 - 2"
   ]
  },
  {
   "cell_type": "code",
   "execution_count": null,
   "metadata": {},
   "outputs": [],
   "source": [
    "5 * 2"
   ]
  },
  {
   "cell_type": "code",
   "execution_count": null,
   "metadata": {},
   "outputs": [],
   "source": [
    "5 ** 2"
   ]
  },
  {
   "cell_type": "code",
   "execution_count": null,
   "metadata": {},
   "outputs": [],
   "source": [
    "5 / 2"
   ]
  },
  {
   "cell_type": "code",
   "execution_count": null,
   "metadata": {
    "scrolled": true
   },
   "outputs": [],
   "source": [
    "5 // 2 # // 代表取商。"
   ]
  },
  {
   "cell_type": "code",
   "execution_count": null,
   "metadata": {},
   "outputs": [],
   "source": [
    "5 % 2 # 原來 % 代表取餘數。"
   ]
  },
  {
   "cell_type": "code",
   "execution_count": null,
   "metadata": {},
   "outputs": [],
   "source": [
    "a = 17 // 3\n",
    "a"
   ]
  },
  {
   "cell_type": "code",
   "execution_count": null,
   "metadata": {
    "scrolled": true
   },
   "outputs": [],
   "source": [
    "a = a + 3 * 2\n",
    "a"
   ]
  },
  {
   "cell_type": "markdown",
   "metadata": {},
   "source": [
    "Why?   \n",
    "Python 裡的 ```=``` 代表<font color='red'>賦值運算子 </font>(Assignment Operator)。\n",
    "\n",
    "規則是: 將右邊的算式運算完後指派給左邊。*"
   ]
  },
  {
   "cell_type": "markdown",
   "metadata": {},
   "source": [
    "## 字串(```\"\"``` and `''`):"
   ]
  },
  {
   "cell_type": "code",
   "execution_count": null,
   "metadata": {},
   "outputs": [],
   "source": [
    "s = \"I love python.\"\n",
    "print(s)"
   ]
  },
  {
   "cell_type": "code",
   "execution_count": null,
   "metadata": {},
   "outputs": [],
   "source": [
    "# '' also works\n",
    "s = 'I love python.'\n",
    "print(s)"
   ]
  },
  {
   "cell_type": "code",
   "execution_count": null,
   "metadata": {
    "scrolled": true
   },
   "outputs": [],
   "source": [
    "s = 'I love python's icon!'"
   ]
  },
  {
   "cell_type": "markdown",
   "metadata": {},
   "source": [
    "如果我們就是想打```'``` 呢?  \n",
    "使用 <font color='red'> 逸出字元(Escape character) </font>(```\\```):"
   ]
  },
  {
   "cell_type": "code",
   "execution_count": null,
   "metadata": {
    "scrolled": false
   },
   "outputs": [],
   "source": [
    "s = 'I love python\\'s icon!'\n",
    "print(s)"
   ]
  },
  {
   "cell_type": "markdown",
   "metadata": {},
   "source": [
    "讀入檔案路徑:"
   ]
  },
  {
   "cell_type": "code",
   "execution_count": null,
   "metadata": {},
   "outputs": [],
   "source": [
    "directory = 'C:\\Users\\User\\'"
   ]
  },
  {
   "cell_type": "code",
   "execution_count": null,
   "metadata": {
    "scrolled": true
   },
   "outputs": [],
   "source": [
    "directory = r'C:\\Users\\User'\n",
    "print(directory)"
   ]
  },
  {
   "cell_type": "markdown",
   "metadata": {},
   "source": [
    "### 如果想要印出多行的字串呢? (```'''```)"
   ]
  },
  {
   "cell_type": "code",
   "execution_count": null,
   "metadata": {},
   "outputs": [],
   "source": [
    "s1 = 'I love\n",
    "python'\n",
    "print(s1)"
   ]
  },
  {
   "cell_type": "code",
   "execution_count": null,
   "metadata": {},
   "outputs": [],
   "source": [
    "s2 = '''\n",
    "This is a paragraph.\n",
    "I love python.\n",
    "'''"
   ]
  },
  {
   "cell_type": "code",
   "execution_count": null,
   "metadata": {
    "scrolled": false
   },
   "outputs": [],
   "source": [
    "print(s2)"
   ]
  },
  {
   "cell_type": "markdown",
   "metadata": {},
   "source": [
    "### 計算 ```string``` 的長度:"
   ]
  },
  {
   "cell_type": "code",
   "execution_count": null,
   "metadata": {
    "scrolled": true
   },
   "outputs": [],
   "source": [
    "len(s)"
   ]
  },
  {
   "cell_type": "markdown",
   "metadata": {},
   "source": [
    "### 字串連接(`+`)"
   ]
  },
  {
   "cell_type": "code",
   "execution_count": null,
   "metadata": {},
   "outputs": [],
   "source": [
    "s3 = 'I ' + 'love ' + 'python' + '!'\n",
    "print(s3)"
   ]
  },
  {
   "cell_type": "markdown",
   "metadata": {},
   "source": [
    "直覺來說，這樣的作法很合理。  \n",
    "但事實上，是 python 給我們這個方便:  \n",
    "在其他語言，需要用到 ```operator overloading``` 的技術*。     \n",
    "以 C++ 為例子:\n",
    "```C++\n",
    "class AddString { \n",
    "  \n",
    "public:  \n",
    "    char s1[25], s2[25]; \n",
    "    AddString(char str1[], char str2[]) \n",
    "    { \n",
    "        strcpy(this->s1, str1); \n",
    "        strcpy(this->s2, str2); \n",
    "    } \n",
    "\n",
    "    void operator+() \n",
    "    { \n",
    "        cout << \"\\nConcatenation: \" << strcat(s1, s2); \n",
    "    } \n",
    "}; \n",
    "```"
   ]
  },
  {
   "cell_type": "markdown",
   "metadata": {},
   "source": [
    "同理，如果將```*```operator，套用在 ```string```上:"
   ]
  },
  {
   "cell_type": "code",
   "execution_count": null,
   "metadata": {},
   "outputs": [],
   "source": [
    "s3 = \"I love python!\"\n",
    "print(s3 * 4)"
   ]
  },
  {
   "cell_type": "markdown",
   "metadata": {},
   "source": [
    "### 字串分割(```.split()```):"
   ]
  },
  {
   "cell_type": "markdown",
   "metadata": {},
   "source": [
    "```.split()```是 ```string``` 這個 ```class```(類別) 裡的一個 ```method```(方法)。"
   ]
  },
  {
   "cell_type": "markdown",
   "metadata": {},
   "source": [
    "在下面的程式碼，我們創造一個 ```string``` 的```Object```(物件)。  \n",
    "```s``` 是這個物件的名稱。     \n",
    "可以使用 ```isinstance()``` 做確認。"
   ]
  },
  {
   "cell_type": "code",
   "execution_count": null,
   "metadata": {
    "scrolled": true
   },
   "outputs": [],
   "source": [
    "s = 'I love python!'"
   ]
  },
  {
   "cell_type": "code",
   "execution_count": null,
   "metadata": {},
   "outputs": [],
   "source": [
    "isinstance(s, str) # s 的確是 string 的一個 instance。"
   ]
  },
  {
   "cell_type": "code",
   "execution_count": null,
   "metadata": {},
   "outputs": [],
   "source": [
    "s.split(' ')"
   ]
  },
  {
   "cell_type": "markdown",
   "metadata": {},
   "source": [
    "### 更多字串相關方法(method):"
   ]
  },
  {
   "cell_type": "code",
   "execution_count": null,
   "metadata": {},
   "outputs": [],
   "source": [
    "s = 'python'\n",
    "s.upper()"
   ]
  },
  {
   "cell_type": "code",
   "execution_count": null,
   "metadata": {},
   "outputs": [],
   "source": [
    "s = 'I LOVE CODING'\n",
    "s.lower()"
   ]
  },
  {
   "cell_type": "code",
   "execution_count": null,
   "metadata": {},
   "outputs": [],
   "source": [
    "s = '   Today is a good day.   '\n",
    "s.strip()"
   ]
  },
  {
   "cell_type": "markdown",
   "metadata": {},
   "source": [
    "### 格式化字串(```str.format()```):"
   ]
  },
  {
   "cell_type": "code",
   "execution_count": null,
   "metadata": {},
   "outputs": [],
   "source": [
    "greeting = \"Hello, my name is Kevin Durant from USA.\"\n",
    "print(greeting)"
   ]
  },
  {
   "cell_type": "code",
   "execution_count": null,
   "metadata": {},
   "outputs": [],
   "source": [
    "greeting2 = \"Hello, my name is Lionel Messi from Argentina.\"\n",
    "print(greeting2)"
   ]
  },
  {
   "cell_type": "markdown",
   "metadata": {},
   "source": [
    "好像有一點麻煩，這時候可以考慮將字串格式化:"
   ]
  },
  {
   "cell_type": "code",
   "execution_count": null,
   "metadata": {},
   "outputs": [],
   "source": [
    "first_name = \"Kevin\"\n",
    "last_name = \"Durant\"\n",
    "nation = \"USA\"\n",
    "\n",
    "greeting = \"Hello, my name is {} {} from {}.\".format(first_name, last_name, nation)\n",
    "print(greeting)"
   ]
  },
  {
   "cell_type": "markdown",
   "metadata": {},
   "source": [
    "優點: \n",
    "- Code 看起相對乾淨。\n",
    "- 將你要打出的內容存為變數，以後要修改就容易了。    \n",
    "\n",
    "缺點:\n",
    "- 如果字串太長，閱讀起來仍很吃力。"
   ]
  },
  {
   "cell_type": "markdown",
   "metadata": {},
   "source": [
    "### 更好的方法: ```fstirng```"
   ]
  },
  {
   "cell_type": "code",
   "execution_count": null,
   "metadata": {},
   "outputs": [],
   "source": [
    "greeting = f\"Hello, my name is {first_name} {last_name}.\"\n",
    "print(greeting)"
   ]
  },
  {
   "cell_type": "markdown",
   "metadata": {},
   "source": [
    "也可以加入不同方法:"
   ]
  },
  {
   "cell_type": "code",
   "execution_count": null,
   "metadata": {
    "scrolled": true
   },
   "outputs": [],
   "source": [
    "greeting = f\"Hello, my name is {first_name.upper()} {last_name.upper()}.\"\n",
    "print(greeting)"
   ]
  },
  {
   "cell_type": "markdown",
   "metadata": {},
   "source": [
    "---\n",
    "### 題目練習:"
   ]
  },
  {
   "cell_type": "markdown",
   "metadata": {},
   "source": [
    "在一個荒島上，住著```123``` 隻猴子，島上一共有 ```4567``` 根香蕉。  \n",
    "猴王決定每隻猴子一天可以吃一根香蕉，且每隻猴子每天一定要吃香蕉。\n",
    "你可以用 ```python``` 幫忙猴子們計算出:\n",
    "1. 島上的香蕉足夠吃幾天?\n",
    "2. 到數量不夠的那天會少幾根香蕉?"
   ]
  },
  {
   "cell_type": "markdown",
   "metadata": {},
   "source": [
    "## References:\n",
    "1. 關於運算子與運算元:  \n",
    "```python\n",
    "a = a + 3 * 2\n",
    "```\n",
    "在這個算式裡，右邊的```a, 3, 2```稱為<font color='red'>operand </font>(運算元)。    \n",
    "這三個運算元藉由 ```+```與```*``` 兩個 <font color='red'>operator </font>(運算子)來連接。  \n",
    "而由運算元與運算子結合者，稱為 <font color='red'>expression </font>(表達式)。 舉例來說: ```3 * 2``` 是一個 expression， ```a + 3 * 2``` 是另一個 expression。\n",
    "2. 關於 Operator Overloading:\n",
    "> Different operators have different implementations depending on their arguments.   \n",
    "Operator overloading is generally defined by a programming language, a programmer, or both. (from wikipedia) \n",
    ">\n",
    "簡單來說，一個 ```operator```可以有自己定義的功能。"
   ]
  }
 ],
 "metadata": {
  "kernelspec": {
   "display_name": "Python 3",
   "language": "python",
   "name": "python3"
  },
  "language_info": {
   "codemirror_mode": {
    "name": "ipython",
    "version": 3
   },
   "file_extension": ".py",
   "mimetype": "text/x-python",
   "name": "python",
   "nbconvert_exporter": "python",
   "pygments_lexer": "ipython3",
   "version": "3.7.4"
  }
 },
 "nbformat": 4,
 "nbformat_minor": 4
}
