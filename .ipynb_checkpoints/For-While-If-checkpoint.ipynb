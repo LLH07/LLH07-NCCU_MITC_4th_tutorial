{
 "cells": [
  {
   "cell_type": "markdown",
   "metadata": {},
   "source": [
    "# 迴圈原理及應用\n",
    "--------\n",
    "林隆鴻 2020/10/29"
   ]
  },
  {
   "cell_type": "markdown",
   "metadata": {},
   "source": [
    "## Outline\n",
    "1. ```if```介紹\n",
    "1. 甚麼是迴圈?\n",
    "1. ```for``` 迴圈介紹\n",
    "2. ```while``` 迴圈介紹\n",
    "3. 題目練習"
   ]
  },
  {
   "cell_type": "markdown",
   "metadata": {},
   "source": [
    "## 1. ```if```:"
   ]
  },
  {
   "cell_type": "markdown",
   "metadata": {},
   "source": [
    "(1)基本架構:  \n",
    "```python\n",
    "if (條件):\n",
    "    如果條件成立，執行此區塊。\n",
    "else:\n",
    "    條件不成立，則執行此區塊。\n",
    "```"
   ]
  },
  {
   "cell_type": "markdown",
   "metadata": {},
   "source": [
    "#### EX1: 你今天想用```python```給使用者猜擲一次銅板是正面還是反面，你可以這樣寫(<font color='red'>假設正確答案是```head```</font>):"
   ]
  },
  {
   "cell_type": "code",
   "execution_count": null,
   "metadata": {},
   "outputs": [],
   "source": [
    "def guess_func(guess):\n",
    "    if guess == \"tail\": # ==: 關係運算子\n",
    "        print(\"You are wrong, guess again!\")\n",
    "    else:\n",
    "        print(\"You are right!\")"
   ]
  },
  {
   "cell_type": "code",
   "execution_count": null,
   "metadata": {},
   "outputs": [],
   "source": [
    "guess_func(\"tail\")"
   ]
  },
  {
   "cell_type": "markdown",
   "metadata": {},
   "source": [
    "* 盲點: 只要你不輸入```tail```，電腦就認定是對的，但這跟遊戲的目的不一樣:"
   ]
  },
  {
   "cell_type": "code",
   "execution_count": null,
   "metadata": {},
   "outputs": [],
   "source": [
    "guess_func(\"aaaaaaaaaaaa\")"
   ]
  },
  {
   "cell_type": "markdown",
   "metadata": {},
   "source": [
    "(2)改善: 使用```elif(else if)```架構:  \n",
    "基本架構:\n",
    "```python\n",
    "if (條件一):\n",
    "    執行結果一\n",
    "elif (條件二):\n",
    "    執行結果二\n",
    "else:\n",
    "    執行結果三\n",
    "```\n",
    "---\n",
    "* 注意: 在一個 ```if-else``` 判斷式裡可以有<font color='red'>無限多個</font>```elif```，但只能有一個```else```。\n",
    "* ```else``` 後面不用加條件: 意思就是只要不符合條件一或條件二，就通通執行 ```else``` 的程式碼。"
   ]
  },
  {
   "cell_type": "markdown",
   "metadata": {},
   "source": [
    "一樣假設正確答案是```head```:"
   ]
  },
  {
   "cell_type": "code",
   "execution_count": null,
   "metadata": {},
   "outputs": [],
   "source": [
    "def guess_func2(guess):\n",
    "    if guess == \"head\": # 回答 \"head\" 是正確答案\n",
    "        print(\"You are right!\")\n",
    "    elif guess == \"tail\": \n",
    "        print(\"You are wrong, guess again!\")\n",
    "    else: # 如果回答其他答案也是錯\n",
    "        print(\"Not correct syntax, please type 'head' or 'coin'!\")"
   ]
  },
  {
   "cell_type": "code",
   "execution_count": null,
   "metadata": {},
   "outputs": [],
   "source": [
    "guess_func2(\"aaaaaaa\")"
   ]
  },
  {
   "cell_type": "markdown",
   "metadata": {},
   "source": [
    "## 2. ```for``` 迴圈"
   ]
  },
  {
   "cell_type": "markdown",
   "metadata": {},
   "source": [
    "### (1)基本架構:\n",
    "```python\n",
    "for 變數 in 可迭代物件:\n",
    "    執行程式碼\n",
    "```"
   ]
  },
  {
   "cell_type": "markdown",
   "metadata": {},
   "source": [
    "* 可迭代物件包括: <font color='green'> 串列，元組，字典，集合，```range()``` </font> 等。"
   ]
  },
  {
   "cell_type": "markdown",
   "metadata": {},
   "source": [
    "#### EX1:列印出一個串列的所有元素。"
   ]
  },
  {
   "cell_type": "code",
   "execution_count": null,
   "metadata": {},
   "outputs": [],
   "source": [
    "fruits = ['apple', 'banana', 'cherry', 'durian'] # fruits 是一個 list，可迭代。\n",
    "\n",
    "for i in fruits:\n",
    "    print(i)"
   ]
  },
  {
   "cell_type": "markdown",
   "metadata": {},
   "source": [
    "* ```range()``` 是一個 sequence，但可以把它當作<font color='red'> python 的內建函數，語法:\n",
    "```python\n",
    "range(期始值, 終止值, 間隔值)\n",
    "```"
   ]
  },
  {
   "cell_type": "markdown",
   "metadata": {},
   "source": [
    "[補]在```C++```要使用```range()```寫```for```迴圈，需要寫這麼多:\n",
    "```C++\n",
    "for(int i = 0; i < 10; i ++){\n",
    "    cout << i << endl;\n",
    "};\n",
    "```"
   ]
  },
  {
   "cell_type": "markdown",
   "metadata": {},
   "source": [
    "> Rather than being a function, range is actually an immutable sequence type, as documented in Ranges and Sequence Types — list, tuple, range.   "
   ]
  },
  {
   "cell_type": "code",
   "execution_count": null,
   "metadata": {},
   "outputs": [],
   "source": [
    "a = list(range(10))\n",
    "a"
   ]
  },
  {
   "cell_type": "markdown",
   "metadata": {},
   "source": [
    "#### EX2: 叫 ```python``` 幫我們算 ```0``` 到 ```100``` 相加。"
   ]
  },
  {
   "cell_type": "code",
   "execution_count": null,
   "metadata": {},
   "outputs": [],
   "source": [
    "ans = 0 # 先將 ans 設為 0。\n",
    "\n",
    "for i in range(101):\n",
    "    ans = ans + i # ans += i\n",
    "print(ans)"
   ]
  },
  {
   "cell_type": "markdown",
   "metadata": {},
   "source": [
    "#### EX2.1: 算 ```1``` 到 ```100``` 的奇數和。"
   ]
  },
  {
   "cell_type": "code",
   "execution_count": null,
   "metadata": {},
   "outputs": [],
   "source": [
    "ans2 = 0\n",
    "for i in range(1, 101, 2):\n",
    "    ans2 += i \n",
    "print(ans2)"
   ]
  },
  {
   "cell_type": "markdown",
   "metadata": {},
   "source": [
    "#### EX2.2: 算 ```2``` 到 ```250``` 裡 ```7``` 的倍數和:"
   ]
  },
  {
   "cell_type": "code",
   "execution_count": null,
   "metadata": {},
   "outputs": [],
   "source": [
    "ans3 = 0\n",
    "'''\n",
    "輸入你的程式碼\n",
    "'''\n",
    "print(ans3)"
   ]
  },
  {
   "cell_type": "markdown",
   "metadata": {},
   "source": [
    "### (2) 巢狀 ```for``` 迴圈:"
   ]
  },
  {
   "cell_type": "markdown",
   "metadata": {},
   "source": [
    "#### EX1: 九九乘法表:"
   ]
  },
  {
   "cell_type": "code",
   "execution_count": null,
   "metadata": {},
   "outputs": [],
   "source": [
    "for i in range(1, 10):\n",
    "    for j in range(1, 10):\n",
    "        print(f'{i} * {j} = {i * j}')\n",
    "    print(\" \")"
   ]
  },
  {
   "cell_type": "markdown",
   "metadata": {},
   "source": [
    "* 巢狀迴圈的缺點是閱讀不易。"
   ]
  },
  {
   "cell_type": "markdown",
   "metadata": {},
   "source": [
    "## ```While``` 迴圈"
   ]
  },
  {
   "cell_type": "markdown",
   "metadata": {},
   "source": [
    "```for``` 迴圈的特色之一是有<font color='red'>固定的循環次數</font>，那如果今天想要一個依照條件停止的迴圈，就可以考慮使用 ```while```。"
   ]
  },
  {
   "cell_type": "markdown",
   "metadata": {},
   "source": [
    "(1) 基本架構:\n",
    "```python\n",
    "while (條件判斷):\n",
    "    條件成立，則執行此區域。\n",
    "條件不成立，跳過 block，直接執行此區塊。\n",
    "```"
   ]
  },
  {
   "cell_type": "markdown",
   "metadata": {},
   "source": [
    "#### EX1: 用剛才水果串列的例子。"
   ]
  },
  {
   "cell_type": "code",
   "execution_count": null,
   "metadata": {},
   "outputs": [],
   "source": [
    "fruits = ['apple', 'banana', 'cherry', 'durian']"
   ]
  },
  {
   "cell_type": "code",
   "execution_count": null,
   "metadata": {},
   "outputs": [],
   "source": [
    "i = 0\n",
    "while i < 4: # i 可以等於 0, 1, 2, 3\n",
    "    print(fruits[i])\n",
    "    i += 1"
   ]
  },
  {
   "cell_type": "markdown",
   "metadata": {},
   "source": [
    "小心<font color='red'> 無限迴圈(infinte loop) </font>!!"
   ]
  },
  {
   "cell_type": "markdown",
   "metadata": {},
   "source": [
    "```python\n",
    "i = 0\n",
    "while i < 4:\n",
    "    print(fruits[i])\n",
    "    # i += 1\n",
    "```\n",
    "通常在做迴圈時，都會設定一個指標(這個例子是```i```)，它可以用來幫我們判斷甚麼時候該停止迴圈。  \n",
    "可以自己把 ```i+=1``` comment 掉，就會出現無限迴圈，你的電腦就會變很吵。"
   ]
  },
  {
   "cell_type": "markdown",
   "metadata": {},
   "source": [
    "![infinite loop](data:image/png;base64,iVBORw0KGgoAAAANSUhEUgAABWgAAAIJCAIAAAC3HkNiAAAAAXNSR0IArs4c6QAAAARnQU1BAACxjwv8YQUAAAAJcEhZcwAADsMAAA7DAcdvqGQAAEwpSURBVHhe7d19dKTXXSf40oslt2WVNNhJSskSq/fMjA0L2MyLuwU2o+MsL5PdTvXMxO1SNtvpYRnWOAw5M3FABeMMpJdTFejMnpAXvJCZmEakyt0ZUKV3MjCMvTqxB1WbNzthM23gnJbDOiqDzYDy0iGJqX2ep26VqiSVpZbVbZX0+Rwd+z73uc9Tarf/ud+693f76vV6CgAAAGAj/eHfAAAAAOsIDgAAAICuBAcAAABAV4IDAAAAoCvBAQAAANCV4AAAAADoSnAAAAAAdCU4AAAAALrqq9frocmucfHixRdffPGLX/xiuAYAAIAr6frrrx8YGDh48GC4biM42HUuXrwY/W29+tWvDtcAAABw5f3pn/7piy++uD47sFVh1/n6178uNQAAAOAqi6ai0YQ0XLQRHOw6X/rSl0ILAAAArqINJ6SCAwAAAKArwQEAAADQleAAAAAA6EpwAAAAAHQlOAAAAAC6EhwAAAAAXQkOAAAAgK4EB+v98c9OP/TtzZ+f/WzoXfXni2+f/vVPh4s2cX/rwY9/4s9D9w47f+pA5NjZWrgGAACAK0hwsLHvmH3T7y+ciH7e9c2hJ5X680/8aBIHfMOrJm8fe20q9fyvf/zbP/jH4WbkG6Y+lDzy+x/OhB4AAADocb0aHMST9tWv98PPBqsDdtI3vOnE9f/6Hz+UhAV/+dEffei7i6mfesvfDDevmkP3X4qcufuqhRPnP37gwPvDz7FHLXQAAADYX3o1OLjx+96crAh400/dnkq9+Y51qwOujG/+vviD7kp97Ikv3jwbfeKb3/QN4c4eVTv77w5MP3ty4R2XLkU/333y3GcOyg4AAAD2lb25VeHTH0zWBbQVHdiZxQif/fX4bY+m3nL79U8Xo9duVOngJTR+n/bdDZelUd2g4dT50HlFfXbu+BeOnH7L/Ycal998/8VvPXLuM3NX5bMBAADYFfZujYOPP/7t//gv//dkJcJvzl7/sftefrXCP//EQ1/8qV898ftvGVtKjf3Tn4le+8W3XU4K8PwTz/5W9K+P//HlxQ0tjU0Kly6ePhI6tmbgd3/w2nP/w7qfHxx6Pgzo6vxnH0iN3n3nq8Jl1DH3mXOp1AOPXdktIQAAAOwie7g44vU/9avf921J68bbX/cdqS8+/XKX2H/Dm36muTfhib/8fGO7xA9fRo2D5NdIpd78Nxu/1a5X+9xKKpV+fSim8Gdnj71/OvXdCyejP33NbgUAAID9Yu8GB9Es/QoVIIhPTwiRxOVpHLtwOVnDTnjx7/7CV478v+t+fuGrN4YBm6s9euzAx5555zsu3X+lq0gAAACwy+zhFQfsjPMfP3Bw6e6L72hWOgAAAGA/ERzseduucZB5fTqVenZ6OrVw6fubpz/+2eeeSKVuz1y1syABAAB4hQkOrqKXearCVXfom0+mUkdO/4PVpQa1z5w9lzp5pw0LAAAA+4bg4Op5uacqbNPLqHHwzW89PXru+LmzoRbiZ08d/My5k99tzwIAAMA+0qvBwfO//vFvn37o26c/8a+fSE5ejNsP/ezuPibwZZ6qcP7UgcTB4/GRiNONi1Pnw90rI3P39188nTp+8P0HDkQ/v/nAye9WHxEAAGB/6avX66FJ8Mc/O/340uybPvR92z2V4bO//u33ffGnfrV5duNlevLJJ2+55ZZwAQAAAFfLhQsXbrvttnDRZKsCAAAA0JXgAAAAAOhKcLCx3yp+4rLrJjQOTYh+7gvFBAEAAKDXqXGw66hxAAAAwCtCjQPgynj+8WPveXijIz4unHrPh84+Hy4AAIBeZMXBrmPFAe1qj3/o4KMvhIvN3XD6vrfffWPcih78kdQ9Z+5ILjb2/NkPPZy6J4xvijo//Mwb3n1/5/+D5x9+z/ted1/3t1049Z6n7nz3PYfCZRA9Nf30zQvr+gEAgN1pwxUHgoNdR3DAZXv+8WMPp37u7XdkwnWkPRSIZvVnUsfWZgEbPbVx3BCHF8++4dI9L/G/5QbBQZI1HLv7qUfWZRMAAMAuJTjoDdsIDmq/cezgk+dS37hw6S2X+83u+VPvnX4gtFOp9OmLP3R3+zTyZTp/6kD09iOnL57Zybf2nHje/kDbWoAdt8FsvzMU2HDmH3XO3fj29jQhHrZmdcPNxy7d+tSBM0+Hy6Yjd8WrDzYYH4keueeW1gqFDX43AABgt1LjYH977hP/7NTkgfe+6QP/9Suhh6vj+eefiP914+uv1Nz5+ceeSt19S8fbaxeeSt16SyutydzxhpNPP9JZa+DC3KM33tmZGkQz/EvvPnYyzjjefend8c/F1z1y4Klb4/Z9dx1J3byQdEY/jSAgc8fbk/Gr/fFPW2oQj7nl1tSjj2xU/gAAAOgNgoN97tD9P3bpUvTzxpOhY0cduv9S5KovNzh/6v0HDrz/wLFHd/BczOfPfug9xx5PZt4XHj6wcSHALm6840w8o972Pv/4ow+8Z93Phx4Pf7znL5xN3XpnR26wPkq45c6bXzh7YTU5qD3+yBN3vaH1K0VT/ea6gLaRFx5eXadw4x3vvPnpxy7EzQ4Xnnrg5lvb/mgXTr3nPY/dGpKFWPLg9MPrn1yj/Y+5g/UUV197atNfYas6/kbC/xUvW+3xD7XeuYOvBQCAl09wsG+85k2/eP/SpR/7xD//pmtDz6734srgb/3g8O8/2xeut+b8x9s2X+yUaHL+wg2NqXjt+edTHVPlK+zCI8dTd11s/0r/3e++eNcNR5oLCtYsLohtECWkDt1687lnW3PR5x976sZ3tm0fOHTP6lS/1T7/1NMnb11dkxD1r62SEI95/vQbWr3RjPqRm+5bO+zQPcdOPv3US0Ut8aEMHz5+47Hmny51/MMvPztoTO8fTt3z7oWbo8sbbur8D7JdF06958Nnb72v9Rdx7tEP70gkkSzfaP4VH7s5eq3sAACAXUJw0Au+8ql3vffAgfeeeipcN/3+vzrw3gPHfuOZcJn6q2cW3vWmeD/C5K0//4tPfTH01n7jWDSs9XPqM6F/S75e+1TlnyfvPDB56k3v+o2n/yLc2MT5UwdaTm1rnfrXnr3mU28ZfOG/9P1//+fgfwt9W/BnZ9/3bOrkdy9suIKidvbY9n6faHJ+7obGVDyacr/QPp3uru176c2/b+8qnr2/oaN+YfI7tBYUbL5PIbjlntUaBxceOXvr6nKDjl+17Wf66dQDZ9Z2dsxmn3/8fU+/cPzDrVupu9/+9rtvjN/WOem95f6XWnDx/NmHHz13w10Xm79evLEi1bE+YltuvPvt0SQ8/n0+F79pp7aKRH+W1ZAlc8utR1KpJ57f6Rn+ja+LXgsAALuE4KAXXDv2+oHoX3+xpjhB7U//MPrnTd/wmsZl6k+O/4PzH/zNF59LpZ77w5Ufyf7ap152MYNnzv7i4e+98JHknannXvzNDz55W/bMU1t5bWOTwqWLp7c1/+n7whND//l/HvjixdTgv/j69Kmv/Y3Qv6na2XPHz71u4f5vDtedao+dPRf964HHLiM5OP9wPCWOSwC+8OjBeHr84eMvNKbTm3wlXnv8kdQ94Uvp1Nr6Alt34bGnb26vRBBrX1CwpX0Ka1w4dSbVvtygOcfu/Dl2c1zmcE1n25w5EicUdzW+e48rHTTfeePd99yV2voX5hceif6Ttocj5x8+s6NrRp5/5oVU6obX3RQue8Hzz0b/p95+40v8JQIAwNUjOOgJr7lpJPrnH34uzgTOHnvvgQO/HIcCz33pmVTq214/1tp68NxNr61cfOel//Y97/y26OLzTzRWKGS+90xcxeDHLp5OJ9db9pXf/sV3rTz3bdE73xHXQfhvb6388EDqiYsf+dRfhgFXRt/y/NDCP+3/+lfr6f/ra9/zA18fDf2bqz36I8e/cHLhzd2+287ceXecY5y88zL2GRyKJ//RrDh18lg8bY5TgBsaGwc2OSIhc8c9bQO2+3X32goCsWi6fntzmr3FfQrtoml56tja7//XbLCPf848nXr6TGfnmsoOcXnFEBas+T1vvOPMfVvNDs4/9XT0n/StjXAk3rPwnsdujf+D75ikOGVrZ8fOOv/Io+dWE5MdcuHh6D/+kbvuW78xBAAAXhGCg56QuemG16RSz9T+MvUX//VT8ZfmSSjwla98OpX62zfd0BgTH6Z4+n/9nsxg6trX3rojX64+9Ufvey6V+vTnswffH+9x+Btz2Q++GHV/5NOfa9y/Egb+oDj0Oz/RlxqtZ8597R/c8WK80mKrzs995tyRb33rS6QCmbvPXLp06f7LyA0S0aw41fjaP96ncLlT0GeefWHbX3evqTKQaD8NYSv7FC6capVRjFx4eDp1bP2MtGOD/dqf1rkJnXHDhada5RU3+D1vvOPMsZvPPXVhswKVFx57Ohp8Y/QLx+HFw6mfe/e7778xnurv2PftV+zb++gXnn46dXJdCrNNcdHNENmcPNaxsgMAAF5ZgoPe8Jqx26Mp/F/91Vc+/ScfeU36yJHU2Sf+sPa5+Jv/W1/TCg7GXr+ji7Eb7+8ZcU3E0dM/d9fOf68cfyXe+Dq9rUTiliUb7JOJ8eXbaJ9C+3f7m+1TSPZZPHXn25u7AKKp6SOva5US2KqNVj1EH3T2kdZ+h41+z8gt91xqfXQ3jeUAr0ud/VB8rENjfO3CU+d2rJZh8te3c29rif7bHnw0dXpdJcjti/5zNZKa++564kzbqRkAAPBKExz0hsxrb4/++cTnP/XUc6kj3/TDdw58+twfPfGVv0ql0jddsZ3b46+5Pv7XWw8tJzsdVn/u/9bk/hXx4rfMfvXv/XQ99YW+2pFr/p9PDnwt9G/ms6emnz1y+sjOHvwYnyx4IKkRGBbtf/jRc6mkFuBlTOriDfZHXretaWu80uHp6ca30K2fM6vf7b/EPoXG1oPHbm1bJpAsgG80VyVbAzrev/6nfc9Cs8pj7fGHn3lD681h6UGyZGA7ZSDPPRrXg2h+xx4v60iFUpQv385WRmyIqz9OP33zwmbbVbYpPsAylXrh2VbVUwAAeGUJDnrEN9x0JJV65nNnH3vxyHd903fd/trUY5+bO/dX8SqDHZ0qt7v2b786rggw9+QDZ/9wi2cp7Ij6xNGvTn/0rweH+r74rmv+87+55guh/6Wc/+wD0fTz+McOHHh/4yc+kfHcZw5G7WOPrs7xL/NUhbh+flwjMCzUv+/0DakjjVqAm36R3pJ8o77NdfKtr6A7f5pfcW+8T+FcUsQx/vZ+dWSy9OCpW6OehRsfnWuf2t94x5l17+/8ae1TSH7CaoULc0/dGqoSxEsPnm/8Gpk77jn9/JltfFV+5K62ehDraiWGdGObJ1N0r4y4zdfGxzEmB2R22aGQ7Dh4eScpJmFHb1VzBABgTxMc9IgbXhPNIj7953Pnho/c/prUza/9gdTKuXPRjOuGTSewtbM/3ziI8eDxlfj6gU8mlz9/Np7dfeZUcuvAgU8mZexXjh9MLhtHNmb+wU+cHE6l/uojx39tIgyLfhoPXln10du/+j/+3y9efzD19X87sHD/NZsex3jozZcuvaP9Jz6O8ci3XozaZ1Y3L2zrVIXWPoV4Cnq5+xSih+IN9g21xz+0Iwf+B+v2KSSL519oRBurO+RDucEw5z/0hrueeGSjiX0y3d3g19ton8L5hx+56Z7mxD76NW58Q3Paf+Pdb7/vdOrRg1vPDpJv1889+kj4K0mWRaypC5jsXEilnn7qMv7aWrpXRtzOa+P/mGceuOGui92To2RnRGoLxR26SYKJF25e2Ho4BQAAV5jgoEeEExlTr3n1374plRr/pu9qHHO4ehbjlXDtrff/wJMPf+Nb7xy43E85f+pA4uDxaG72wHTjYsvf9Ceued3XvutjX7/hO+v/3b/4+paPY3xp2zhVIS7dF7YGRFPobayfv+UNp29oHN/4noPPvmHH9sMn8972fQrnH25sTGgvqhevqA/lBlufG03Ub3zqsfVfh8erG+676ZG1X5Wvr3pYe/xDj93aWqL//NmHn7r7De0DmtnBlr/JP3TPfadvaO7IOPP86fvW1gXM3HJr/Nd2Wd/AJzlI/BPvLkmde/TDcbszzrj81144lbyteTBn86fzT3ro1pvjf11GVYvkr2n1hWeeiKOfHSq4CAAAO6GvXq+HJrvDk08+ecstOze/ZO+IZpgfPv5CuIhPhXyJL6Xjr+6jSfhGm/AvPHwqdc9LRRjPP36sMUOO3HysuT0h8fzjpy7ccn80sW+OOXLXfRvV/79w6j2P3LThp29D8lmpjT/oZbhCr00WTZw8tnNFEwEA4Cq6cOHCbbfdFi6aBAe7juAA2lw4tdnugG25Mq9t5Clr0hYAAOgdGwYHtioAu1NjDX+ydH8np/dX6LUX4jM4Pvzo7cdaJSQBAGCPsOJg17HiAAAAgFeEFQcAAADA5REcAAAAAF0JDgAAAICuBAcAAABAV4IDrqDzHztw4L0Hjv1GLVzvqNrZYweOnd3g1fGNlg1HXL7zp3bwZcEmv2e4fep8uG55qee6/kcBAADYJsEBu89zZ4+998Cpz4SrjZ0/dfD4uZPvvHvtcXrRzDm+sXApOLNuxA5LpvHrZ/db1fxNL+P3zNx9pvHMwsnQsypz9ztPnjt+cPu/DwAAwBqCA66gQ2+5dOnHLp353p2eu0eT9ekHjpy+eP+h0NFSe+zsudSR029dd+NlOnR/PFO/4ilEu5APrP8zvrRD9188feSBacsOAACAHSI4oPecnzt+7sjpn+s6i7/99Vdxfr/7ZO7+udNHzh3/EdEBAACwEwQHdBdvGTh29rlQqiD++fnVyWjtN44deO+p86na2Z/f4O7qI+s2HcQPxiPPn2oOaBVBCE89dPxcKvXAJ8Pd6KfjDbWz73sgtcEmhZfS3E+Q/Lth9Sv5dZsN4oIGrduN6gYNHTsAwo2DyS87nbQTa9/UtPU1AG2/5fYKFsQbFlLnjs/ZsAAAALx8ggNe2rnjDx2YTi1c+rFLl35s4eTK8YMfa5+NPjD93oNn//uL6+82NilcOnH6SON6jWjke99304lkzBtPnnvyYCMaaH/q5BuTdvJz/7cmTyWSzQgn71yzgL85Q187jW+fxUfdB8/efTFe/39pYcuVABqbFC5dXPcnab+xWlOhbW9B9DtNP7B6553PbHUNQLOIwQY1DLbq0J3Rsw88JjkAAABeNsEBm/nGhUtvacyFD731tiOpP+mYjUbT+2YJg0N3fmMq9Zef2+IX5CffeObu1yStb43nuE98fovPbZwbNGfx66bxHRUCov5mlYJkYv3EVn/Zbal97onoI1d/00P3X80SCVfhDwgAAOwPggM2cfJbV+femdfeHs9GnwuXqdSRm14dWpF4vcAPbXFufPLOtkUEl+OZZ85Fn3pTuLosHY/FScOVnchnXh/9x3pgunN/w9Vz001HUueeeSZcAQAAbJfgAK6QQ/cnCyCaGyeccwAAAPQkwQFcOc1qBXGAcO74QdkBAADQewQHXIbzn3kglb77zkZtgivnNfEi/y5VD67CCvzzjz0QWluR7EjYrJhA5u4zSXZwFbcOvIw9HQAAAG0EB2zZZ05N/0nq5B1XocLfTTelU+ee3PA0wcyddx/Z4eMCGsUIwiuToxCS1lYlUcYGRx+eP9W+wCAp6ngVJ/JJ+nH7669eNUYAAGCvEhywiQc+eeDAe5OfTz5x+kTHyYjdnT/VeOSh5HTE8IatVwnM3P1DCyfjsx7DRzcOa2y4AsnBofsvnj4SShHER08mRzMEG57z2PEnydx9JvllG7dWbx66/+dSPxL64udvXz3T4aXVzh5rPBMnGOeOH0zal7nLIc4Njpx+69rDJwAAAC5bX71eD012hyeffPKWW24JF6+s584ee+j47W/cYlhw9SSrAk4udJ612HtqZ48lccK2/xjxf4cnTl9cH0e87DcDAAD704ULF2677bZw0WTFAb3n0FuTwwpeoXMOd73a2R85fs5yAwAAYIcIDuhBzd0BTilY7/ypg8fPnVzY2q4IAACATQkO6E1JXYJzZx/r9eSgWRvhMjKQjhoIa9TOvu+BI6cv2qMAAADsGDUOdp1dVOMAAACA/USNAwAAAODyCA4AAACArgQHAAAAQFeCAwAAAKArwQEAAADQleBg1xkZGQktAAAAuIo2nJAKDnadwcHB5557LlwAAADAVRFNRaMJabho01ev10OTXePixYtf//rXv/SlL4VrAAAAuJJGRkYGBwcPHjwYrttsEBx8/vOf/5Vf+ZWnn376mmuuiR6LDAwM9Pf39/X1Nf4ZxrGbfPGzH/9A5XXH81OvCx0dnl0snH42+8/f/M3Xhw4AAAD2ptnZ2dDalnQ6HVpNGwQHhULhmWeeGR4evuaaa4aGhqJ/DiQaqUEjOBAfAAAAwC507733hta2bCk4eMc73jE4ODjc1Fh30MgO+pJFB2EcAAAAsMvkcrnQ2pYtBQf333//gabh4eHGooPBwcH+hBUHAAAAsGt97/d+b2hty5aCgwceeOC6664bGRk5cODAtdde28gOWosOogFSAwAAANidDh06FFrbsqXg4Kd/+qevv/76kZGRRnzQCg5aiw7COPaIF/7Tu974wKca7e86+cmf/Z4bGm0AAAB6zy233BJa27Kl4OB973vf6Ojo9YnrrrvuwIEDjSqJA0l9xIgVB3vTk7/4TTNPve9TH3zjq0IHAAAAPee1r31taG3LloKDD3zgA9G4VnbQ2K3QKpHYlwhD2Ut+78OvP/p7H/ydj7zp1aEDAACAnjM2NhZa27Kl4ODBBx+MxkWfNDo62qh00NqtYMXBXvY773/VP/zdX/iD0//oNaEDAACAnhPN30NrW7YUHHzkIx8ZSzQWHVx33XWtFQcRKw5eWb/9b9Jv+MnQTv3kIyv/8u83ms99fOZv/ft/8kelm36lef9/+nd/VHpzyADip1KPrPwvz8z8re//D0lP26NN8aDfbnuoJX53eKzjrQAAAOw666f57d72trf90i/9UrjYyJaCg49+9KNjY2Pj4+Ot4ODaa69t1DholDkQHLxSamePzb3+zP2NApnRxcHj504uXEquG1dRI3ScP3Vg+oHmzcZV9O8jpy+euTvTGJxqtFfFg55Y29n5oo0fBAAAYNf46le/GlrrvO1tb2s0XiI72FJwcPr06caKg2j09cnxCu0nMgoOdo/zP3PNHT/x049/7UejOX3t4X/yjW/9RLiIJR2HwnUy8k1zf/Lv7wkT/rjjfNt1bKO+jrds2AEAAMBu8uUvfzm0OrVSg4Zu2cFWg4PxRDR6dHS0sVUhMqjGwS5Te/gfv+4th/7Liz92uLPdUH3vwHee/9izvxrnAO3txPrhGwzacNgGowAAANg1vvjFL4ZWmzWpQcOG2cH64KA//LtNXMMgiQZa/2w0Io3UgFfO+fc2dowkXveWSusvqPE3FNoN7T3t7cS6jsj6vmeWok/48e8Mn5f4zh/f4EkAAAB2iWRq12HD1CDSrX+NDVYczM3NjY+PN7YqNA5WsFVhd6gW+6by2dLyfK7xbX+tfHRi5vBifTZecdDWbohHV8Pg9nZi/fANBm08DAAAgF1sZWUltLZlSysO2KWqC/lUqjDbNq9/KfHobG5648G1hXIlVZjeNA7ITEZDqku1cAkAAMC+IzjoHZOT2VQqv1BtXFWLfRMz8VaFDVWLU/muIUOtfO9MJVs6sYVlBIdPlLKVmYli+FAAAAD2G8FB78jk5hcLqfxUY9dKcXJ5uZQNt4Lmvb5kz8GaDQbR/D/cTHYftHYk1MpHG91T+dVBR8thlUH0ofXFwuqLY2IEAACA/UONgz3ipasRbFC+AAAAgL1IjQMAAADg6hEcAAAAAF0JDgAAAICu1DgAAACAvUONAwAAAODqERwAAAAAXQkOAAAAgK4EB9TKR/uajpZroRcAAAAiggMyufl6bLEQOgAAAKBJcAAAAAB0JTgAAAAAuhIc9JhqMVQjiBWrobdRqCAuULB6v71cQdwbDW6rZtD26KYUQQAAANi/BAe9JJrBL0wn9Qgiy6VsfqojAKjMTPRNpRaTu4uF6KojHYgGT5Rzy61HtxgBVIt9EzOHGy+NHkzNTMgOAAAA9hHBQS/J5OZnD4d2dDFbSKXyC+3hQGGxHgYcPlHKrrmZLS3P5zJxK3m0Ul7YPAColYv56K3NT83kHixlKzMPXcZyBQAAAHqa4KCHTU5mQysoTLdihVRmMmpXl1azgWxuOkkNEvGjlaWlcNVVbaFc6Xjr+tcCAACwpwkOektHiYOJmUrovlKWlqJPyE+Fz0tM5cM9AAAA9gPBQQ+pFqNpe7aUlCmILZfWrDjYccmahkIocLAq7HgAAABg7xMc9I7qQj6axc9ucdIej+7YndBu/RaEjdmYAAAAsN8JDnpH8vV/q95hctpB160K1eJUvmvIUCvfO1PJlk5smhs0aiyuPZ4BAACAfURw0DsyufnFQqviQHFyed1WhdVqBFPV0nLzgIUgPqyxITlesbXdoFY+2uiOqxc0B7WOXIw+tL5Y6CxzIEYAAADYP/rq9XpoNs3NzY2Pj4+NjaXT6dHR0ZGRkeHh4aGhocHBwYGBgf7+/mjqGIaya0TT/yQP6AwLmuLqCNXWaYwAAADsWSsrK6G1Lel0OrSarDgAAAAAuhIcAAAAAF0JDgAAAICu1DgAAACAvUONAwAAAODqERwAAAAAXQkOAAAAgK4EB9TKR/uajpZroRcAAAAiggMyufl6bLEQOgAAAKBJcAAAAAB0JTgAAAAAuhIc9JhqMVQjiBWrobdRqCAuULB6v71cQdwbDW6rZtD26KYUQQAAANi/BAe9JJrBL0wn9Qgiy6VsfqojAKjMTPRNpRaTu4uF6KojHYgGT5Rzy61HtxgBVIt9EzOHGy+NHkzNTMgOAAAA9hHBQS/J5OZnD4d2dDFbSKXyC+3hQGGxHgYcPlHKrrmZLS3P5zJxK3m0Ul7YPAColYv56K3NT83kHixlKzMPXcZyBQAAAHqa4KCHTU5mQysoTLdihVRmMmpXl1azgWxuOkkNEvGjlaWlcNVVbaFc6Xjr+tcCAACwpwkOektHiYOJmUrovlKWlqJPyE+Fz0tM5cM9AAAA9gPBQQ+pFqNpe7aUlCmILZfWrDjYccmahkIocLAq7HgAAABg7xMc9I7qQj6axc9ucdIej+7YndBu/RaEjdmYAAAAsN8JDnpH8vV/q95hctpB160K1eJUvmvIUCvfO1PJlk5smhs0aiyuPZ4BAACAfURw0DsyufnFQqviQHFyed1WhdVqBFPV0nLzgIUgPqyxITlesbXdoFY+2uiOqxc0B7WOXIw+tL5Y6CxzIEYAAADYP/rq9XpoNs3NzY2Pj4+NjaXT6dHR0ZGRkeHh4aGhocHBwYGBgf7+/mjqGIaya0TT/yQP6AwLmuLqCNXWaYwAAADsWSsrK6G1Lel0OrSarDgAAAAAuhIcAAAAAF0JDgAAAICu1DgAAACAvUONAwAAAODqERwAAAAAXQkOAAAAgK4EB9TKR/uajpZroRcAAAAiggMyufl6bLEQOgAAAKBJcAAAAAB0JTgAAAAAuhIc9JhqMVQjiBWrobdRqCAuULB6v71cQdwbDW6rZtD26KYUQQAAANi/BAe9JJrBL0wn9Qgiy6VsfqojAKjMTPRNpRaTu4uF6KojHYgGT5Rzy61HtxgBVIt9EzOHGy+NHkzNTMgOAAAA9hHBQS/J5OZnD4d2dDFbSKXyC+3hQGGxHgYcPlHKrrmZLS3P5zJxK3m0Ul7YPAColYv56K3NT83kHixlKzMPXcZyBQAAAHqa4KCHTU5mQysoTLdihVRmMmpXl1azgWxuOkkNEvGjlaWlcNVVbaFc6Xjr+tcCAACwpwkOektHiYOJmUrovlKWlqJPyE+Fz0tM5cM9AAAA9gPBQQ+pFqNpe7aUlCmILZfWrDjYccmahkIocLAq7HgAAABg7xMc9I7qQj6axc9ucdIej+7YndBu/RaEjdmYAAAAsN8JDnpH8vV/q95hctpB160K1eJUvmvIUCvfO1PJlk5smhs0aiyuPZ4BAACAfURw0DsyufnFQqviQHFyed1WhdVqBFPV0nLzgIUgPqyxITlesbXdoFY+2uiOqxc0B7WOXIw+tL5Y6CxzIEYAAADYP/rq9XpoNs3NzY2Pj4+NjaXT6dHR0ZGRkeHh4aGhocHBwYGBgf7+/mjqGIaya0TT/yQP6AwLmuLqCNXWaYwAAADsWSsrK6G1Lel0OrSarDgAAAAAuhIcAAAAAF0JDgAAAICu1DgAAACAvUONAwAAAODqERwAAAAAXQkOAAAAgK4EB9TKR/uajpZroRcAAAAiiiPSVC32TVVLy/O5TOgAAACg5zSKIz755JONy6277bbbon8qjggAAABcBsEBAAAA0JXgoMdUi41iBIliNfQ2ChXEBQpW77eXK4h7o8Ft1QzaHt2UIggAAAD7l+Cgl0Qz+IXperBcyuanOgKAysxE31RqMbm7WIiuOtKBaPBEObfcenSLEUC12Dcxc7jx0ujB1MyE7AAAAGAfERz0kkxufvZwaEcXs4VUKr/QHg4UFuthwOETpeyam9lW4cPk0Up5YfMAoFYu5qO3Nj81k3uwlK3MPHQZyxUAAADoaYKDHjY5mQ2toDDdihVSmcmoXV1azQayuenV4xLiRytLS+Gqq9pCudLx1vWvBQAAYE8THPSWjhIHEzOV0H2lLC1Fn5CfCp+XmMqHewAAAOwHgoMeUi1G0/ZsKSlTEFsurVlxsOOSNQ2FUOBgVdjxAAAAwN4nOOgd1YV8NIuf3eKkPR7dsTuh3fotCBuzMQEAAGC/Exz0juTr/1a9w+S0g65bFarFqXzXkKFWvnemki2d2DQ3aNRYXHs8AwAAAPuI4KB3ZHLzi4VWxYHi5PK6rQqr1QimqqXl5gELQXxYY0NyvGJru0GtfLTRHVcvaA5qHbkYfWh9sdBZ5kCMAAAAsH/01ev10Gyam5sbHx8fGxtLp9Ojo6MjIyPDw8NDQ0ODg4MDAwP9/f3R1DEMZdeIpv9JHtAZFjTF1RGqrdMYAQAA2LNWVlaifz755JONy6277bbbon+m0+nGZYsVBwAAAEBXggMAAACgK8EBAAAA0JXgYI+Iixh2KXAQOTxbX62GCAAAAFsmOAAAAAC6EhwAAAAAXQkOAAAAgK4EB9TKR/uajpZroRcAAAAiffV6PTSb5ubmxsfHx8bG0un06OjoyMjI8PDw0NDQ4ODgwMBAf39/NL8MQ9lLqsW+qWppWRFFAACAHrayshJa25JOp0OryYoDAAAAoCvBAQAAANCV4KDHVIuNYgSJYjX0NgoVxAUKVu+3lyuIe6PBbdUM2h7dlCIIAAAA+5fgoJdEM/iF6XqwXMrmpzoCgMrMRN9UajG5u1iIrjrSgWjwRDm33Hp0ixFAtdg3MXO48dLowdTMhOwAAABgHxEc9JJMbn72cGhHF7OFVCq/0B4OFBbrYcDhE6XsmpvZVuHD5NFKeWHzAKBWLuajtzY/NZN7sJStzDx0GcsVAAAA6GmCgx42OZkNraAw3YoVUpnJqF1dWs0Gsrnp1eMS4kcrS0vhqqvaQrnS8db1rwUAAGBPExz0lo4SBxMzldB9pSwtRZ+Qnwqfl5jKh3sAAADsB4KDHlItRtP2bCkpUxBbLq1ZcbDjkjUNhVDgYFXY8QAAAMDeJzjoHdWFfDSLn93ipD0e3bE7od36LQgbszEBAABgvxMc9I7k6/9WvcPktIOuWxWqxal815ChVr53ppItndg0N2jUWFx7PAMAAAD7iOCgd2Ry84uFVsWB4uTyuq0Kq9UIpqql5eYBC0F8WGNDcrxia7tBrXy00R1XL2gOah25GH1ofbHQWeZAjAAAALB/9NXr9dBsmpubGx8fHxsbS6fTo6OjIyMjw8PDQ0NDg4ODAwMD/f390dQxDGXXiKb/SR7QGRY0xdURqq3TGAEAANizVlZWQmtb0ul0aDVZcQAAAAB0JTgAAAAAuhIcAAAAAF2pcQAAAAB7hxoHAAAAwNUjOAAAAAC6EhwAAAAAXQkOqJWP9jUdLddCLwAAAEQEB2Ry8/XYYiF0AAAAQJPgAAAAAOhKcAAAAAB0JTjoMdViqEYQK1ZDb6NQQVygYPV+e7mCuDca3FbNoO3RTSmCAAAAsH8JDnpJNINfmE7qEUSWS9n8VEcAUJmZ6JtKLSZ3FwvRVUc6EA2eKOeWW49uMQKoFvsmZg43Xho9mJqZkB0AAADsI4KDXpLJzc8eDu3oYraQSuUX2sOBwmI9DDh8opRdczNbWp7PZeJW8milvLB5AFArF/PRW5ufmsk9WMpWZh66jOUKAAAA9DTBQQ+bnMyGVlCYbsUKqcxk1K4urWYD2dx0khok4kcrS0vhqqvaQrnS8db1rwUAAGBPExz0lo4SBxMzldB9pSwtRZ+Qnwqfl5jKh3sAAADsB4KDHlItRtP2bCkpUxBbLq1ZcbDjkjUNhVDgYFXY8QAAAMDeJzjoHdWFfDSLn93ipD0e3bE7od36LQgbszEBAABgvxMc9I7k6/9WvcPktIOuWxWqxal815ChVr53ppItndg0N2jUWFx7PAMAAAD7iOCgd2Ry84uFVsWB4uTyuq0Kq9UIpqql5eYBC0F8WGNDcrxia7tBrXy00R1XL2gOah25GH1ofbHQWeZAjAAAALB/9NXr9dBsmpubGx8fHxsbS6fTo6OjIyMjw8PDQ0NDg4ODAwMD/f390dQxDGXXiKb/SR7QGRY0xdURqq3TGAEAANizVlZWQmtb0ul0aDVZcQAAAAB0JTgAAAAAuhIcAAAAAF2pcQAAAAB7hxoHAAAAwNUjOAAAAAC6EhwAAAAAXQkOqJWP9jUdLddCLwAAAEQEB2Ry8/XYYiF0AAAAQJPgAAAAAOhKcAAAAAB0JTjoMdViqEYQK1ZDb6NQQVygYPV+e7mCuDca3FbNoO3RTSmCAAAAsH8JDnpJNINfmE7qEUSWS9n8VEcAUJmZ6JtKLSZ3FwvRVUc6EA2eKOeWW49uMQKoFvsmZg43Xho9mJqZkB0AAADsI4KDXpLJzc8eDu3oYraQSuUX2sOBwmI9DDh8opRdczNbWp7PZeJW8milvLB5AFArF/PRW5ufmsk9WMpWZh66jOUKAAAA9DTBQQ+bnMyGVlCYbsUKqcxk1K4urWYD2dx0khok4kcrS0vhqqvaQrnS8db1rwUAAGBPExz0lo4SBxMzldB9pSwtRZ+Qnwqfl5jKh3sAAADsB4KDHlItRtP2bCkpUxBbLq1ZcbDjkjUNhVDgYFXY8QAAAMDeJzjoHdWFfDSLn93ipD0e3bE7od36LQgbszEBAABgvxMc9I7k6/9WvcPktIOuWxWqxal815ChVr53ppItndg0N2jUWFx7PAMAAAD7iOCgd2Ry84uFVsWB4uTyuq0Kq9UIpqql5eYBC0F8WGNDcrxia7tBrXy00R1XL2gOah25GH1ofbHQWeZAjAAAALB/9NXr9dBsmpubGx8fHxsbS6fTo6OjIyMjw8PDQ0NDg4ODAwMD/f390dQxDGXXiKb/SR7QGRY0xdURqq3TGAEAANizVlZWQmtb0ul0aDVZcQAAAAB0JTgAAAAAuhIcAAAAAF2pcQAAAAB7hxoHAAAAwNUjOAAAAAC6EhwAAAAAXQkOqJWP9jUdLddCLwAAAEQEB2Ry8/XYYiF0AAAAQJPgAAAAAOhKcAAAAAB0JTjoMdViqEYQK1ZDb6NQQVygYPV+e7mCuDca3FbNoO3RTSmCAAAAsH8JDnpJNINfmE7qEUSWS9n8VEcAUJmZ6JtKLSZ3FwvRVUc6EA2eKOeWW49uMQKoFvsmZg43Xho9mJqZkB0AAADsI4KDXpLJzc8eDu3oYraQSuUX2sOBwmI9DDh8opRdczNbWp7PZeJW8milvLB5AFArF/PRW5ufmsk9WMpWZh66jOUKAAAA9DTBQQ+bnMyGVlCYbsUKqcxk1K4urWYD2dx0khok4kcrS0vhqqvaQrnS8db1rwUAAGBPExz0lo4SBxMzldB9pSwtRZ+Qnwqfl5jKh3sAAADsB4KDHlItRtP2bCkpUxBbLq1ZcbDjkjUNhVDgYFXY8QAAAMDeJzjoHdWFfDSLn93ipD0e3bE7od36LQgbszEBAABgvxMc9I7k6/9WvcPktIOuWxWqxal815ChVr53ppItndg0N2jUWFx7PAMAAAD7iOCgd2Ry84uFVsWB4uTyuq0Kq9UIpqql5eYBC0F8WGNDcrxia7tBrXy00R1XL2gOah25GH1ofbHQWeZAjAAAALB/9NXr9dBsmpubGx8fHxsbS6fTo6OjIyMjw8PDQ0NDg4ODAwMD/f390dQxDGXXiKb/SR7QGRY0xdURqq3TGAEAANizVlZWQmtb0ul0aDVZcQAAAAB0JTgAAAAAuhIcAAAAAF2pcQAAAAB7hxoHAAAAwNUjOAAAAAC6EhwAAAAAXQkOqJWP9jUdLddCLwAAAEQEB2Ry8/XYYiF0AAAAQJPgAAAAAOhKcAAAAAB0JTjoMdViqEYQK1ZDb6NQQVygYPV+e7mCuDca3FbNoO3RTSmCAAAAsH8JDnpJNINfmE7qEUSWS9n8VEcAUJmZ6JtKLSZ3FwvRVUc6EA2eKOeWW49uMQKoFvsmZg43Xho9mJqZkB0AAADsI4KDXpLJzc8eDu3oYraQSuUX2sOBwmI9DDh8opRdczNbWp7PZeJW8milvLB5AFArF/PRW5ufmsk9WMpWZh66jOUKAAAA9DTBQQ+bnMyGVlCYbsUKqcxk1K4urWYD2dx0khok4kcrS0vhqqvaQrnS8db1rwUAAGBPExz0lo4SBxMzldB9pSwtRZ+Qnwqfl5jKh3sAAADsB4KDHlItRtP2bCkpUxBbLq1ZcbDjkjUNhVDgYFXY8QAAAMDeJzjoHdWFfDSLn93ipD0e3bE7od36LQgbszEBAABgvxMc9I7k6/9WvcPktIOuWxWqxal815ChVr53ppItndg0N2jUWFx7PAMAAAD7iOCgd2Ry84uFVsWB4uTyuq0Kq9UIpqql5eYBC0F8WGNDcrxia7tBrXy00R1XL2gOah25GH1ofbHQWeZAjAAAALB/9NXr9dBsmpubGx8fHxsbS6fTo6OjIyMjw8PDQ0NDg4ODAwMD/f390dQxDGXXiKb/SR7QGRY0xdURqq3TGAEAANizVlZWQmtb0ul0aDVZcQAAAAB0JTgAAAAAuhIcAAAAAF2pcQAAAAB7hxoHAAAAwNUjOAAAAAC6EhwAAAAAXQkOqJWP9jUdLddCLwAAAEQEB2Ry8/XYYiF0AAAAQJPgAAAAAOhKcAAAAAB0JTjoMdViqEYQK1ZDb6NQQVygYPV+e7mCuDca3FbNoO3RTSmCAAAAsH8JDnpJNINfmE7qEUSWS9n8VEcAUJmZ6JtKLSZ3FwvRVUc6EA2eKOeWW49uMQKoFvsmZg43Xho9mJqZkB0AAADsI4KDXpLJzc8eDu3oYraQSuUX2sOBwmI9DDh8opRdczNbWp7PZeJW8milvLB5AFArF/PRW5ufmsk9WMpWZh66jOUKAAAA9DTBQQ+bnMyGVlCYbsUKqcxk1K4urWYD2dx0khok4kcrS0vhqqvaQrnS8db1rwUAAGBPExz0lo4SBxMzldB9pSwtRZ+Qnwqfl5jKh3sAAADsB4KDHlItRtP2bCkpUxBbLq1ZcbDjkjUNhVDgYFXY8QAAAMDeJzjoHdWFfDSLn93ipD0e3bE7od36LQgbszEBAABgvxMc9I7k6/9WvcPktIOuWxWqxal815ChVr53ppItndg0N2jUWFx7PAMAAAD7iOCgd2Ry84uFVsWB4uTyuq0Kq9UIpqql5eYBC0F8WGNDcrxia7tBrXy00R1XL2gOah25GH1ofbHQWeZAjAAAALB/9NXr9dBsmpubGx8fHxsbS6fTo6OjIyMjw8PDQ0NDg4ODAwMD/f390dQxDGXXiKb/SR7QGRY0xdURqq3TGAEAANizVlZWQmtb0ul0aDVZcQAAAAB0JTgAAAAAuhIcAAAAAF2pcQAAAAB7hxoHAAAAwNUjOAAAAAC6EhwAAAAAXQkOqJWP9jUdLddCLwAAAEQEB2Ry8/XYYiF0AAAAQJPgAAAAAOhKcAAAAAB0JTjoMdViqEYQK1ZDb6NQQVygYPV+e7mCuDca3FbNoO3RTSmCAAAAsH8JDnpJNINfmE7qEUSWS9n8VEcAUJmZ6JtKLSZ3FwvRVUc6EA2eKOeWW49uMQKoFvsmZg43Xho9mJqZkB0AAADsI4KDXpLJzc8eDu3oYraQSuUX2sOBwmI9DDh8opRdczNbWp7PZeJW8milvLB5AFArF/PRW5ufmsk9WMpWZh66jOUKAAAA9DTBQQ+bnMyGVlCYbsUKqcxk1K4urWYD2dx0khok4kcrS0vhqqvaQrnS8db1rwUAAGBPExz0lo4SBxMzldB9pSwtRZ+Qnwqfl5jKh3sAAADsB4KDHlItRtP2bCkpUxBbLq1ZcbDjkjUNhVDgYFXY8QAAAMDeJzjoHdWFfDSLn93ipD0e3bE7od36LQgbszEBAABgvxMc9I7k6/9WvcPktIOuWxWqxal815ChVr53ppItndg0N2jUWFx7PAMAAAD7iOCgd2Ry84uFVsWB4uTyuq0Kq9UIpqql5eYBC0F8WGNDcrxia7tBrXy00R1XL2gOah25GH1ofbHQWeZAjAAAALB/9NXr9dBsmpubGx8fHxsbS6fTo6OjIyMjw8PDQ0NDg4ODAwMD/f390dQxDGXXiKb/SR7QGRY0xdURqq3TGAEAANizVlZWQmtb0ul0aDVZcQAAAAB0JTgAAAAAuhIcAAAAAF2pcQAAAAB7hxoHAAAAwNUjOAAAAAC6EhwAAAAAXQkOqJWP9jUdLddCLwAAAEQEB2Ry8/XYYiF0AAAAQJPgAAAAAOhKcAAAAAB0JTjoMdViqEYQK1ZDb6NQQVygYPV+e7mCuDca3FbNoO3RTSmCAAAAsH8JDnpJNINfmE7qEUSWS9n8VEcAUJmZ6JtKLSZ3FwvRVUc6EA2eKOeWW49uMQKoFvsmZg43Xho9mJqZkB0AAADsI4KDXpLJzc8eDu3oYraQSuUX2sOBwmI9DDh8opRdczNbWp7PZeJW8milvLB5AFArF/PRW5ufmsk9WMpWZh66jOUKAAAA9DTBQQ+bnMyGVlCYbsUKqcxk1K4urWYD2dx0khok4kcrS0vhqqvaQrnS8db1rwUAAGBPExz0lo4SBxMzldB9pSwtRZ+Qnwqfl5jKh3sAAADsB4KDHlItRtP2bCkpUxBbLq1ZcbDjkjUNhVDgYFXY8QAAAMDeJzjoHdWFfDSLn93ipD0e3bE7od36LQgbszEBAABgvxMc9I7k6/9WvcPktIOuWxWqxal815ChVr53ppItndg0N2jUWFx7PAMAAAD7iOCgd2Ry84uFVsWB4uTyuq0Kq9UIpqql5eYBC0F8WGNDcrxia7tBrXy00R1XL2gOah25GH1ofbHQWeZAjAAAALB/9NXr9dBsmpubGx8fHxsbS6fTo6OjIyMjw8PDQ0NDg4ODAwMD/f390dQxDGXXiKb/SR7QGRY0xdURqq3TGAEAANizVlZWQmtb0ul0aDVZcQAAAAB0JTgAAAAAuhIcAAAAAF2pcQAAAAB7hxoHAAAAwNUjOAAAAAC6EhwAAAAAXQkOqJWP9jUdLddCLwAAAEQEB2Ry8/XYYiF0AAAAQJPgAAAAAOhKcAAAAAB0JTjoMdViqEYQK1ZDb6NQQVygYPV+e7mCuDca3FbNoO3RTSmCAAAAsH8JDnpJNINfmE7qEUSWS9n8VEcAUJmZ6JtKLSZ3FwvRVUc6EA2eKOeWW49uMQKoFvsmZg43Xho9mJqZkB0AAADsI4KDXpLJzc8eDu3oYraQSuUX2sOBwmI9DDh8opRdczNbWp7PZeJW8milvLB5AFArF/PRW5ufmsk9WMpWZh66jOUKAAAA9DTBQQ+bnMyGVlCYbsUKqcxk1K4urWYD2dx0khok4kcrS0vhqqvaQrnS8db1rwUAAGBPExz0lo4SBxMzldB9pSwtRZ+Qnwqfl5jKh3sAAADsB4KDHlItRtP2bCkpUxBbLq1ZcbDjkjUNhVDgYFXY8QAAAMDeJzjoHdWFfDSLn93ipD0e3bE7od36LQgbszEBAABgvxMc9I7k6/9WvcPktIOuWxWqxal815ChVr53ppItndg0N2jUWFx7PAMAAAD7iOCgd2Ry84uFVsWB4uTyuq0Kq9UIpqql5eYBC0F8WGNDcrxia7tBrXy00R1XL2gOah25GH1ofbHQWeZAjAAAALB/9NXr9dBsmpubGx8fHxsbS6fTo6OjIyMjw8PDQ0NDg4ODAwMD/f390dQxDGXXiKb/SR7QGRY0xdURqq3TGAEAANizVlZWQmtb0ul0aDVZcQAAAAB0JTgAAAAAuhIcAAAAAF2pcQAAAAB7hxoHAAAAwNUjOAAAAAC6EhwAAAAAXQkOqJWP9jUdLddCLwAAAEQEB2Ry8/XYYiF0AAAAQJPgAAAAAOhKcAAAAAB0JTjoMdViqEYQK1ZDb6NQQVygYPV+e7mCuDca3FbNoO3RTSmCAAAAsH8JDnpJNINfmE7qEUSWS9n8VEcAUJmZ6JtKLSZ3FwvRVUc6EA2eKOeWW49uMQKoFvsmZg43Xho9mJqZkB0AAADsI4KDXpLJzc8eDu3oYraQSuUX2sOBwmI9DDh8opRdczNbWp7PZeJW8milvLB5AFArF/PRW5ufmsk9WMpWZh66jOUKAAAA9DTBQQ+bnMyGVlCYbsUKqcxk1K4urWYD2dx0khok4kcrS0vhqqvaQrnS8db1rwUAAGBPExz0lo4SBxMzldB9pSwtRZ+Qnwqfl5jKh3sAAADsB4KDHlItRtP2bCkpUxBbLq1ZcbDjkjUNhVDgYFXY8QAAAMDeJzjoHdWFfDSLn93ipD0e3bE7od36LQgbszEBAABgvxMc9I7k6/9WvcPktIOuWxWqxal815ChVr53ppItndg0N2jUWFx7PAMAAAD7iOCgd2Ry84uFVsWB4uTyuq0Kq9UIpqql5eYBC0F8WGNDcrxia7tBrXy00R1XL2gOah25GH1ofbHQWeZAjAAAALB/9NXr9dBsmpubGx8fHxsbS6fTo6OjIyMjw8PDQ0NDg4ODAwMD/f390dQxDGXXiKb/SR7QGRY0xdURqq3TGAEAANizVlZWQmtb0ul0aDVZcQAAAAB0JTgAAAAAuhIcAAAAAF2pcQAAAAB7hxoHAAAAwNUjOAAAAAC6EhwAAAAAXQkOqJWP9jUdLddCLwAAAEQEB2Ry8/XYYiF0AAAAQJPgAAAAAOhKcAAAAAB0JTjoMdViqEYQK1ZDb6NQQVygYPV+e7mCuDca3FbNoO3RTSmCAAAAsH8JDnpJNINfmE7qEUSWS9n8VEcAUJmZ6JtKLSZ3FwvRVUc6EA2eKOeWW49uMQKoFvsmZg43Xho9mJqZkB0AAADsI4KDXpLJzc8eDu3oYraQSuUX2sOBwmI9DDh8opRdczNbWp7PZeJW8milvLB5AFArF/PRW5ufmsk9WMpWZh66jOUKAAAA9DTBQQ+bnMyGVlCYbsUKqcxk1K4urWYD2dx0khok4kcrS0vhqqvaQrnS8db1rwUAAGBPExz0lo4SBxMzldB9pSwtRZ+Qnwqfl5jKh3sAAADsB4KDHlItRtP2bCkpUxBbLq1ZcbDjkjUNhVDgYFXY8QAAAMDeJzjoHdWFfDSLn93ipD0e3bE7od36LQgbszEBAABgvxMc9I7k6/9WvcPktIOuWxWqxal815ChVr53ppItndg0N2jUWFx7PAMAAAD7iOCgd2Ry84uFVsWB4uTyuq0Kq9UIpqql5eYBC0F8WGNDcrxia7tBrXy00R1XL2gOah25GH1ofbHQWeZAjAAAALB/9NXr9dBsmpubGx8fHxsbS6fTo6OjIyMjw8PDQ0NDg4ODAwMD/f390dQxDGXXiKb/SR7QGRY0xdURqq3TGAEAANizVlZWQmtb0ul0aDVZcQAAAAB0JTgAAAAAuhIcAAAAAF2pcQAAAAB7hxoHAAAAwNUjOAAAAAC6EhwAAAAAXQkOqJWP9jUdLddCLwAAAEQEB2Ry8/XYYiF0AAAAQJPgAAAAAOhKcAAAAAB0JTjoMdViqEYQK1ZDb6NQQVygYPV+e7mCuDca3FbNoO3RTSmCAAAAsH8JDnpJNINfmE7qEUSWS9n8VEcAUJmZ6JtKLSZ3FwvRVUc6EA2eKOeWW49uMQKoFvsmZg43Xho9mJqZkB0AAADsI4KDXpLJzc8eDu3oYraQSuUX2sOBwmI9DDh8opRdczNbWp7PZeJW8milvLB5AFArF/PRW5ufmsk9WMpWZh66jOUKAAAA9DTBQQ+bnMyGVlCYbsUKqcxk1K4urWYD2dx0khok4kcrS0vhqqvaQrnS8db1rwUAAGBPExz0lo4SBxMzldB9pSwtRZ+Qnwqfl5jKh3sAAADsB4KDHlItRtP2bCkpUxBbLq1ZcbDjkjUNhVDgYFXY8QAAAMDeJzjoHdWFfDSLn93ipD0e3bE7od36LQgbszEBAABgvxMc9I7k6/9WvcPktIOuWxWqxal815ChVr53ppItndg0N2jUWFx7PAMAAAD7iOCgd2Ry84uFVsWB4uTyuq0Kq9UIpqql5eYBC0F8WGNDcrxia7tBrXy00R1XL2gOah25GH1ofbHQWeZAjAAAALB/9NXr9dBsmpubGx8fHxsbS6fTo6OjIyMjw8PDQ0NDg4ODAwMD/f390dQxDGXXiKb/SR7QGRY0xdURqq3TGAEAANizVlZWQmtb0ul0aDVZcQAAAAB0JTgAAAAAuhIcAAAAAF2pcQAAAAB7hxoHAAAAwNUjOAAAAAC6EhwAAAAAXQkOqJWP9jUdLddCLwAAAEQEB2Ry8/XYYiF0AAAAQJPgAAAAAOhKcAAAAAB0JTjoMdViqEYQK1ZDb6NQQVygYPV+e7mCuDca3FbNoO3RTSmCAAAAsH8JDnpJNINfmE7qEUSWS9n8VEcAUJmZ6JtKLSZ3FwvRVUc6EA2eKOeWW49uMQKoFvsmZg43Xho9mJqZkB0AAADsI4KDXpLJzc8eDu3oYraQSuUX2sOBwmI9DDh8opRdczNbWp7PZeJW8milvLB5AFArF/PRW5ufmsk9WMpWZh66jOUKAAAA9DTBQQ+bnMyGVlCYbsUKqcxk1K4urWYD2dx0khok4kcrS0vhqqvaQrnS8db1rwUAAGBPExz0lo4SBxMzldB9pSwtRZ+Qnwqfl5jKh3sAAADsB4KDHlItRtP2bCkpUxBbLq1ZcbDjkjUNhVDgYFXY8QAAAMDeJzjoHdWFfDSLn93ipD0e3bE7od36LQgbszEBAABgvxMc9I7k6/9WvcPktIOuWxWqxal815ChVr53ppItndg0N2jUWFx7PAMAAAD7iOCgd2Ry84uFVsWB4uTyuq0Kq9UIpqql5eYBC0F8WGNDcrxia7tBrXy00R1XL2gOah25GH1ofbHQWeZAjAAAALB/9NXr9dBsmpubGx8fHxsbS6fTo6OjIyMjw8PDQ0NDg4ODAwMD/f390dQxDGXXiKb/SR7QGRY0xdURqq3TGAEAANizVlZWQmtb0ul0aDVZcQAAAAB0JTgAAAAAuhIcAAAAAF2pcQAAAAB7hxoHAAAAwNUjOAAAAAC6EhwAAAAAXQkOqJWP9jUdLddCLwAAAEQEB2Ry8/XYYiF0AAAAQJPgAAAAAOhKcAAAAAB0JTjoMdViqEYQK1ZDb6NQQVygYPV+e7mCuDca3FbNoO3RTSmCAAAAsH8JDnpJNINfmE7qEUSWS9n8VEcAUJmZ6JtKLSZ3FwvRVUc6EA2eKOeWW49uMQKoFvsmZg43Xho9mJqZkB0AAADsI4KDXpLJzc8eDu3oYraQSuUX2sOBwmI9DDh8opRdczNbWp7PZeJW8milvLB5AFArF/PRW5ufmsk9WMpWZh66jOUKAAAA9DTBQQ+bnMyGVlCYbsUKqcxk1K4urWYD2dx0khok4kcrS0vhqqvaQrnS8db1rwUAAGBPExz0lo4SBxMzldB9pSwtRZ+Qnwqfl5jKh3sAAADsB4KDHlItRtP2bCkpUxBbLq1ZcbDjkjUNhVDgYFXY8QAAAMDeJzjoHdWFfDSLn93ipD0e3bE7od36LQgbszEBAABgvxMc9I7k6/9WvcPktIOuWxWqxal815ChVr53ppItndg0N2jUWFx7PAMAAAD7iOCgd2Ry84uFVsWB4uTyuq0Kq9UIpqql5eYBC0F8WGNDcrxia7tBrXy00R1XL2gOah25GH1ofbHQWeZAjAAAALB/9NXr9dBsmpubGx8fHxsbS6fTo6OjIyMjw8PDQ0NDg4ODAwMD/f390dQxDGXXiKb/SR7QGRY0xdURqq3TGAEAANizVlZWQmtb0ul0aDVZcQAAAAB0JTgAAAAAuhIcAAAAAF2pcQAAAAB7hxoHAAAAwNUjOAAAAAC6EhwAAAAAXQkOqJWP9jUdLddCLwAAAEQEB2Ry8/XYYiF0AAAAQJNTFWiqFvumqqXl+VwmdAAAANBz1p+q8La3vS201vmlX/ql0GpyqgIAAADsL+vTgYZu/WsIDnpMtdgoRpAoVkNvo1BBXKBg9X57uYK4NxrcVs2g7dFNKYIAAADQ29ZnBFtMDSKCg14SzeAXppN6BJHlUjY/1REAVGYm+qZSi8ndxUJ01ZEORIMnyrnl1qNbjACqxb6JmcONl0YPpmYmZAcAAAC9pz0p2HpqEBEc9JJMbn72cGhHF7OFVCq/0B4OFBbrYcDhE6XsmpvZVv2C5NFKeWHzAKBWLuajtzY/NZN7sJStzDx0GcsVAAAA2CUaecFlpQaRDYoj/vIv/3KjOGLk+uuvby+OGGksWA9DeUXVyv/otW859Ft/HU/r29sN1WL/d5z/2Od/Lc4K2tuJ9cM3GLThsA1GAQAAsGt84QtfCK1t2VJxxMai9Eaj/TLy13/9141LXiGLxf5Vr31LpfUX1PgbCu2G9p72dmJdR2R938Wl6BN+/DvC5yW+48c3eBIAAIBdIpna7aQNVhycPn26sdwgnU6vWXHgOMZX1PmfueaOn3jT3J/8+3sa3/bXHv4n3/jWQ49/7UcPdbYb4tHnw+D2dmL98A0GbTwMAACAXezLX/5yaG3L+hUHGwQHH/3oR8fGxsbHx0dHR6+//vrrrrvu2muvHRoaGkgIDl4x508dmH7g5MKl+5uz+NrZYweP397oaG8n4tFPnL545u44Bui4iKwbHVs7KLZRHwAAALvXV7/61dDali0FBx/5yEcaKw5awcHw8PA111yjxsEr7LmPz/yt7/8PP/nIyr/8+9HVb/+b9Bt+Mvp3uE5u/v1wL9xtDm1c/va/+6PSm18TXyVjU63Lps5BQeeHAgAAsMu9zN0KWwoOHnzwwWhcIzgYGRm57rrrhhKDg4PJJncrDl45v/P+V/3D/6PR/Ie/8Ac/m3rXt/zg3/2Pf/aOvxdN8H/t+Lf84H9s3IpFt0//o1YC0PZc4l81HkqsfTLR8fhLPQ0AAMCuEs3fQ2tbthQcfOADH4jGNZYbRK699trWioOBgQErDnanP/3ED/y9H/4785+77++Ejg6/9+HXH/29D/7OR9706tABAADA3jQ2NhZa27Kl4GBubu7LX/5yIzW47rrrDhw4cM011wwlNQ6sONi1/uyTP/xd77y19F//2W2ho8OTv/hNM0+971MffOOrQgcAAAB702tf+9rQ2pYtBQcXL1783d/93b/4i79o7FO49tprr0m0goMwjt3khf/0rjc+8C3/9vzbviV0dPiDXzr0v/3ByU/+7PfcEDoAAADYm2655ZbQ2pYtBQcAAAAADZYPAAAAAF0JDgAAAICuBAcAAABAV4IDAAAAoCvBAQAAANCV4AAAAADoSnAAAAAAdNV31698KTQTPzT0ydACAAAA9rdXvepVa4ODR95yXWgBAAAA+56tCgAAAEBXggMAAACgK8EBAAAA0EUq9f8DfMVyE9PlcT4AAAAASUVORK5CYII=)"
   ]
  },
  {
   "cell_type": "markdown",
   "metadata": {},
   "source": [
    "#### EX2:用 ```python``` 畫直角三角形。"
   ]
  },
  {
   "cell_type": "code",
   "execution_count": 1,
   "metadata": {},
   "outputs": [
    {
     "name": "stdout",
     "output_type": "stream",
     "text": [
      "* \n",
      "** \n",
      "*** \n",
      "**** \n"
     ]
    }
   ],
   "source": [
    "i = 1\n",
    "while i <= 4:\n",
    "    print(\"*\" * i, end = \"\") # end = \"\": 叫 python 不要換行。\n",
    "    print(\" \") # 沒點完一行的 \"*\"，就換行。\n",
    "    i += 1"
   ]
  },
  {
   "cell_type": "markdown",
   "metadata": {},
   "source": [
    "## 兩個搭配語法: ```break``` 與 ```continue```:"
   ]
  },
  {
   "cell_type": "code",
   "execution_count": null,
   "metadata": {},
   "outputs": [],
   "source": []
  }
 ],
 "metadata": {
  "kernelspec": {
   "display_name": "Python 3",
   "language": "python",
   "name": "python3"
  },
  "language_info": {
   "codemirror_mode": {
    "name": "ipython",
    "version": 3
   },
   "file_extension": ".py",
   "mimetype": "text/x-python",
   "name": "python",
   "nbconvert_exporter": "python",
   "pygments_lexer": "ipython3",
   "version": "3.7.4"
  }
 },
 "nbformat": 4,
 "nbformat_minor": 4
}
