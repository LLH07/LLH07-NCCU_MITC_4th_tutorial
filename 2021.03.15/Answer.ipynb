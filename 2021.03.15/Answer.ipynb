{
 "cells": [
  {
   "cell_type": "code",
   "execution_count": 1,
   "metadata": {
    "scrolled": true
   },
   "outputs": [
    {
     "ename": "NameError",
     "evalue": "name 'pd' is not defined",
     "output_type": "error",
     "traceback": [
      "\u001b[1;31m---------------------------------------------------------------------------\u001b[0m",
      "\u001b[1;31mNameError\u001b[0m                                 Traceback (most recent call last)",
      "\u001b[1;32m<ipython-input-1-e1cf1d55d6f4>\u001b[0m in \u001b[0;36m<module>\u001b[1;34m\u001b[0m\n\u001b[1;32m----> 1\u001b[1;33m \u001b[0mdf\u001b[0m \u001b[1;33m=\u001b[0m \u001b[0mpd\u001b[0m\u001b[1;33m.\u001b[0m\u001b[0mread_csv\u001b[0m\u001b[1;33m(\u001b[0m\u001b[1;34mr\"C:\\Users\\User\\MITC_lecture_notes\\2021.03.15\\country_vaccinations.csv\"\u001b[0m\u001b[1;33m)\u001b[0m\u001b[1;33m\u001b[0m\u001b[1;33m\u001b[0m\u001b[0m\n\u001b[0m",
      "\u001b[1;31mNameError\u001b[0m: name 'pd' is not defined"
     ]
    }
   ],
   "source": [
    "df = pd.read_csv(r\"C:\\Users\\User\\MITC_lecture_notes\\2021.03.15\\country_vaccinations.csv\")\n",
    "filt = (df['country'] == 'Japan')\n",
    "df2 = df[filt]\n",
    "df2.set_index('daily_vaccinations')\n",
    "plt.plot(df2['date'], df2['people_vaccinated'])\n"
   ]
  },
  {
   "cell_type": "code",
   "execution_count": null,
   "metadata": {},
   "outputs": [],
   "source": []
  },
  {
   "cell_type": "code",
   "execution_count": null,
   "metadata": {},
   "outputs": [],
   "source": [
    "a = df['vaccines'].value_counts()"
   ]
  },
  {
   "cell_type": "code",
   "execution_count": null,
   "metadata": {},
   "outputs": [],
   "source": []
  },
  {
   "cell_type": "code",
   "execution_count": null,
   "metadata": {},
   "outputs": [],
   "source": [
    " # 用 data frame 的 .pct_change() 來看今日收盤是否大於昨日收盤\n",
    "    df['Daily Return'] = df['Adj Close'].pct_change() \n",
    "    # dont forget np.where() is identical to Excel's IF function\n",
    "    df['Direction'] = np.where(df['Daily Return']>0, 1, -1)\n",
    "    df['Direction'][0] = 0 # 第一天的 OBV 必須是 0\n",
    "    df['Vol Adjusted'] = df['Direction'] * df['Volume']\n",
    "    df['OBV'] = df['Vol Adjusted'].cumsum() # use .cumsum() to calculate cumulative sum\n"
   ]
  },
  {
   "cell_type": "code",
   "execution_count": null,
   "metadata": {},
   "outputs": [],
   "source": [
    "fig = plt.figure(figsize=[8, 8])\n",
    "\n",
    "ax0 = fig.add_subplot(211)\n",
    "ax0.plot(df['Date'], df['Adj Close'], color='blue', label='Stock price of 2330.TW')\n",
    "\n",
    "ax0.legend(loc='best')\n",
    "\n",
    "ax1 = fig.add_subplot(212)\n",
    "ax1.plot(df['OBV'], color='green', label='MACD line')\n",
    "\n",
    "ax1.legend(loc='best')"
   ]
  }
 ],
 "metadata": {
  "kernelspec": {
   "display_name": "Python 3",
   "language": "python",
   "name": "python3"
  },
  "language_info": {
   "codemirror_mode": {
    "name": "ipython",
    "version": 3
   },
   "file_extension": ".py",
   "mimetype": "text/x-python",
   "name": "python",
   "nbconvert_exporter": "python",
   "pygments_lexer": "ipython3",
   "version": "3.7.9"
  }
 },
 "nbformat": 4,
 "nbformat_minor": 4
}
