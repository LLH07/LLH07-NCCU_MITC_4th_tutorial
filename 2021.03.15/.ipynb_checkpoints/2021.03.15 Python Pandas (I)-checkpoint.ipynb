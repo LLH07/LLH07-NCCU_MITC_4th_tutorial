{
 "cells": [
  {
   "cell_type": "markdown",
   "metadata": {},
   "source": [
    "LLH, 2021.03.15 @NCCU MITC"
   ]
  },
  {
   "cell_type": "markdown",
   "metadata": {},
   "source": [
    "pandas 最重要的兩個資料型態: ```Series``` 與 ```Data Frame```:  \n",
    "- ```Series```: 索引標籤和實際值的陣列組合 (其實就是一個字典)\n",
    "- ```Data Frame```: 多個 ```Series``` 的組合"
   ]
  },
  {
   "cell_type": "code",
   "execution_count": null,
   "metadata": {},
   "outputs": [],
   "source": [
    "import pandas as pd\n",
    "import numpy as np\n",
    "import matplotlib.pyplot as plt"
   ]
  },
  {
   "cell_type": "code",
   "execution_count": null,
   "metadata": {},
   "outputs": [],
   "source": [
    "%matplotlib inline"
   ]
  },
  {
   "cell_type": "markdown",
   "metadata": {},
   "source": [
    "### 1. ```Series``` 與 ```Data Frame```: "
   ]
  },
  {
   "cell_type": "code",
   "execution_count": null,
   "metadata": {},
   "outputs": [],
   "source": [
    "person = {'name':'Mike', 'age':21, 'nationality':'Taiwan'}"
   ]
  },
  {
   "cell_type": "code",
   "execution_count": null,
   "metadata": {},
   "outputs": [],
   "source": [
    "s = pd.Series(person)"
   ]
  },
  {
   "cell_type": "code",
   "execution_count": null,
   "metadata": {},
   "outputs": [],
   "source": [
    "type(s)"
   ]
  },
  {
   "cell_type": "code",
   "execution_count": null,
   "metadata": {},
   "outputs": [],
   "source": [
    "s['name']"
   ]
  },
  {
   "cell_type": "code",
   "execution_count": null,
   "metadata": {},
   "outputs": [],
   "source": [
    "people = {'no':[1, 2, 3, 4, 5, 6, 7], \n",
    "          'name':['Mike', 'Jason', 'Merry', 'Eric', 'Sandy', 'Bob', 'Andy'], \n",
    "          'age':[21, 30, 12, 25, 18, 32, 9], \n",
    "          'nationality':['Taiwan', 'USA', 'Japan', 'USA', 'Thailand', 'Taiwan', 'USA']}"
   ]
  },
  {
   "cell_type": "code",
   "execution_count": null,
   "metadata": {},
   "outputs": [],
   "source": [
    "df = pd.DataFrame(people)"
   ]
  },
  {
   "cell_type": "code",
   "execution_count": null,
   "metadata": {
    "scrolled": false
   },
   "outputs": [],
   "source": [
    "df"
   ]
  },
  {
   "cell_type": "code",
   "execution_count": null,
   "metadata": {},
   "outputs": [],
   "source": [
    "type(df)"
   ]
  },
  {
   "cell_type": "code",
   "execution_count": null,
   "metadata": {},
   "outputs": [],
   "source": [
    "type(df['name'])"
   ]
  },
  {
   "cell_type": "markdown",
   "metadata": {},
   "source": [
    "### 2. ```Data Frame``` 取值 (```iloc()``` 與 ```loc()```):"
   ]
  },
  {
   "cell_type": "code",
   "execution_count": null,
   "metadata": {},
   "outputs": [],
   "source": [
    "df"
   ]
  },
  {
   "cell_type": "code",
   "execution_count": null,
   "metadata": {},
   "outputs": [],
   "source": [
    "df['name'][2]"
   ]
  },
  {
   "cell_type": "code",
   "execution_count": null,
   "metadata": {},
   "outputs": [],
   "source": [
    "df.iloc[1]"
   ]
  },
  {
   "cell_type": "code",
   "execution_count": null,
   "metadata": {},
   "outputs": [],
   "source": [
    "df.iloc[[0, 2]]"
   ]
  },
  {
   "cell_type": "code",
   "execution_count": null,
   "metadata": {
    "scrolled": false
   },
   "outputs": [],
   "source": [
    "df.loc[[0, 2], ['name', 'age']]"
   ]
  },
  {
   "cell_type": "code",
   "execution_count": null,
   "metadata": {},
   "outputs": [],
   "source": [
    "df.loc[2, 'age']"
   ]
  },
  {
   "cell_type": "markdown",
   "metadata": {},
   "source": [
    "取得特定行 (<font color='blue'>column</font>)資料:"
   ]
  },
  {
   "cell_type": "code",
   "execution_count": null,
   "metadata": {},
   "outputs": [],
   "source": [
    "df['name'] # same as df.name"
   ]
  },
  {
   "cell_type": "markdown",
   "metadata": {},
   "source": [
    "### 3. 設定 ```Data Frame``` 編號"
   ]
  },
  {
   "cell_type": "code",
   "execution_count": null,
   "metadata": {
    "scrolled": true
   },
   "outputs": [],
   "source": [
    "df"
   ]
  },
  {
   "cell_type": "code",
   "execution_count": null,
   "metadata": {
    "scrolled": true
   },
   "outputs": [],
   "source": [
    "df.set_index('no')"
   ]
  },
  {
   "cell_type": "code",
   "execution_count": null,
   "metadata": {},
   "outputs": [],
   "source": []
  },
  {
   "cell_type": "markdown",
   "metadata": {},
   "source": [
    "更改 index 後再查看一次 ```df```，發現資料並沒有被更新。  \n",
    "原因是資料實際上沒有被更改，如果希望永久更改 ```df```，則要把 ```inplace``` 參數設為 ```True```"
   ]
  },
  {
   "cell_type": "code",
   "execution_count": null,
   "metadata": {},
   "outputs": [],
   "source": []
  },
  {
   "cell_type": "markdown",
   "metadata": {},
   "source": [
    "若想將 index 恢復原狀，則可以用 ```.reset_index()```，一樣要記得提供 ```inplace``` 參數"
   ]
  },
  {
   "cell_type": "code",
   "execution_count": null,
   "metadata": {},
   "outputs": [],
   "source": []
  },
  {
   "cell_type": "markdown",
   "metadata": {},
   "source": [
    "查看 ```Data Frame``` 的 index 與 columns:"
   ]
  },
  {
   "cell_type": "code",
   "execution_count": null,
   "metadata": {},
   "outputs": [],
   "source": [
    "df.index"
   ]
  },
  {
   "cell_type": "code",
   "execution_count": null,
   "metadata": {},
   "outputs": [],
   "source": [
    "df.columns"
   ]
  },
  {
   "cell_type": "markdown",
   "metadata": {},
   "source": [
    "### 4. 增加資料至 ```Data Frame```"
   ]
  },
  {
   "cell_type": "code",
   "execution_count": null,
   "metadata": {},
   "outputs": [],
   "source": [
    "df['job'] = ['teacher', 'engineer', 'lawyer', 'soldier', 'doctor', 'teaher', 'student']"
   ]
  },
  {
   "cell_type": "code",
   "execution_count": null,
   "metadata": {
    "scrolled": true
   },
   "outputs": [],
   "source": [
    "df"
   ]
  },
  {
   "cell_type": "markdown",
   "metadata": {},
   "source": [
    "### 5. ```value_count()``` 與 ```value_counts()```"
   ]
  },
  {
   "cell_type": "code",
   "execution_count": null,
   "metadata": {
    "scrolled": true
   },
   "outputs": [],
   "source": [
    "df"
   ]
  },
  {
   "cell_type": "code",
   "execution_count": null,
   "metadata": {},
   "outputs": [],
   "source": [
    "df['nationality'].value_counts()"
   ]
  },
  {
   "cell_type": "markdown",
   "metadata": {},
   "source": [
    "### 6. 與 conditional operator 結合: $&, |, ~, >, <$"
   ]
  },
  {
   "cell_type": "code",
   "execution_count": null,
   "metadata": {
    "scrolled": true
   },
   "outputs": [],
   "source": [
    "df['age'] > 20"
   ]
  },
  {
   "cell_type": "code",
   "execution_count": null,
   "metadata": {},
   "outputs": [],
   "source": [
    "filt = df['age'] > 20"
   ]
  },
  {
   "cell_type": "code",
   "execution_count": null,
   "metadata": {},
   "outputs": [],
   "source": [
    "type(filt)"
   ]
  },
  {
   "cell_type": "code",
   "execution_count": null,
   "metadata": {
    "scrolled": true
   },
   "outputs": [],
   "source": [
    "df[filt]"
   ]
  },
  {
   "cell_type": "code",
   "execution_count": null,
   "metadata": {
    "scrolled": true
   },
   "outputs": [],
   "source": [
    "df.loc[filt, 'job']"
   ]
  },
  {
   "cell_type": "code",
   "execution_count": null,
   "metadata": {},
   "outputs": [],
   "source": [
    "filt2 = (df['age'] > 20) & (df['nationality'] != 'Taiwan')"
   ]
  },
  {
   "cell_type": "code",
   "execution_count": null,
   "metadata": {},
   "outputs": [],
   "source": [
    "df[filt2]"
   ]
  },
  {
   "cell_type": "markdown",
   "metadata": {},
   "source": [
    "### 7. 引入外部資料"
   ]
  },
  {
   "cell_type": "markdown",
   "metadata": {},
   "source": [
    "上面的例子是我們手動輸入資料並產生 ```Data Frame```      \n",
    "但大多時候我們有現成的資料"
   ]
  },
  {
   "cell_type": "markdown",
   "metadata": {},
   "source": [
    "用 ```pandas``` 做股票分析 (資料: ```2330.TW.csv```)"
   ]
  },
  {
   "cell_type": "code",
   "execution_count": null,
   "metadata": {},
   "outputs": [],
   "source": [
    "ls"
   ]
  },
  {
   "cell_type": "code",
   "execution_count": null,
   "metadata": {},
   "outputs": [],
   "source": [
    "ohlcv = pd.read_csv(r\"C:\\Users\\User\\MITC_lecture_notes\\2021.03.15\\2330.TW.csv\")"
   ]
  },
  {
   "cell_type": "code",
   "execution_count": null,
   "metadata": {},
   "outputs": [],
   "source": [
    "ohlcv"
   ]
  },
  {
   "cell_type": "markdown",
   "metadata": {},
   "source": [
    "有時我們只需要知道資料是完整的，不用把所有資料列出來，此時可以用 ```df.head()```"
   ]
  },
  {
   "cell_type": "code",
   "execution_count": null,
   "metadata": {},
   "outputs": [],
   "source": []
  },
  {
   "cell_type": "markdown",
   "metadata": {},
   "source": [
    "刪除不必要的 columns: ```del```"
   ]
  },
  {
   "cell_type": "code",
   "execution_count": null,
   "metadata": {},
   "outputs": [],
   "source": [
    "del ohlcv['Close']"
   ]
  },
  {
   "cell_type": "markdown",
   "metadata": {},
   "source": [
    "查看資料的各種統計量: ```df.describe()```"
   ]
  },
  {
   "cell_type": "code",
   "execution_count": null,
   "metadata": {},
   "outputs": [],
   "source": []
  },
  {
   "cell_type": "code",
   "execution_count": null,
   "metadata": {},
   "outputs": [],
   "source": [
    "ohlcv['Adj Close'].mean()"
   ]
  },
  {
   "cell_type": "code",
   "execution_count": null,
   "metadata": {},
   "outputs": [],
   "source": [
    "ohlcv['Adj Close'].std() "
   ]
  },
  {
   "cell_type": "code",
   "execution_count": null,
   "metadata": {},
   "outputs": [],
   "source": [
    "ohlcv.sort_values(by='Volume', ascending=False)"
   ]
  },
  {
   "cell_type": "markdown",
   "metadata": {},
   "source": [
    "#### MACD (Moving Average Convergence Divergence)"
   ]
  },
  {
   "cell_type": "markdown",
   "metadata": {},
   "source": [
    "$MACD\\ line = EMA_{26} - EMA_{12}$  \n",
    "$Signal\\ line = Moving\\ Average\\ of\\ MACD_{9}$\n",
    "    \n",
    "Basic Strategy:   \n",
    "- 黃金交叉: 當 $MACD$ 由下往上穿越 $Signal\\ line$，代表多頭形成  \n",
    "- 死亡交叉: 當 $MACD$ 由上往下穿越 $Signal\\ line$，代表空頭形成"
   ]
  },
  {
   "cell_type": "code",
   "execution_count": null,
   "metadata": {},
   "outputs": [],
   "source": [
    "df = ohlcv.copy() # 複製一份資料，並在複製的那份作操作"
   ]
  },
  {
   "cell_type": "code",
   "execution_count": null,
   "metadata": {},
   "outputs": [],
   "source": [
    "# calculate 12 days' EMA, if total day is less than 12, the value will all be NaN\n",
    "df[\"MA_Fast\"] = df[\"Adj Close\"].ewm(span=12, min_periods=12).mean() \n",
    "df[\"MA_Slow\"] = df[\"Adj Close\"].ewm(span=26, min_periods=26).mean() "
   ]
  },
  {
   "cell_type": "code",
   "execution_count": null,
   "metadata": {},
   "outputs": [],
   "source": [
    "df[\"MACD\"] = df[\"MA_Fast\"] - df[\"MA_Slow\"]\n",
    "df[\"Signal\"] = df[\"MACD\"].ewm(span=9, min_periods=9).mean()"
   ]
  },
  {
   "cell_type": "markdown",
   "metadata": {},
   "source": [
    "在處理每個 ```Data Frame``` 時，都要注意是否有某些資料點缺失。"
   ]
  },
  {
   "cell_type": "code",
   "execution_count": null,
   "metadata": {},
   "outputs": [],
   "source": [
    "df.dropna()"
   ]
  },
  {
   "cell_type": "markdown",
   "metadata": {},
   "source": [
    "包裝成一個 function:"
   ]
  },
  {
   "cell_type": "code",
   "execution_count": null,
   "metadata": {},
   "outputs": [],
   "source": [
    "def MACD(DF, a, b, c): # a, b, c is the custom parameters\n",
    "    df = DF.copy()\n",
    "    df[\"MA_Fast\"] = df[\"Adj Close\"].ewm(span=a, min_periods=a).mean()\n",
    "    df[\"MA_Slow\"] = df[\"Adj Close\"].ewm(span=b, min_periods=b).mean()\n",
    "    df[\"MACD\"] = df[\"MA_Fast\"] - df[\"MA_Slow\"]\n",
    "    df[\"Signal\"] = df[\"MACD\"].ewm(span=c, min_periods=c).mean()\n",
    "    df.dropna()\n",
    "    return df"
   ]
  },
  {
   "cell_type": "markdown",
   "metadata": {},
   "source": [
    "將資料視覺化，看看成果如何"
   ]
  },
  {
   "cell_type": "code",
   "execution_count": null,
   "metadata": {},
   "outputs": [],
   "source": [
    "macd = MACD(df, 12, 26, 9)"
   ]
  },
  {
   "cell_type": "code",
   "execution_count": null,
   "metadata": {},
   "outputs": [],
   "source": [
    "macd"
   ]
  },
  {
   "cell_type": "code",
   "execution_count": null,
   "metadata": {},
   "outputs": [],
   "source": [
    "macd.iloc[:, [8, 9]]"
   ]
  },
  {
   "cell_type": "code",
   "execution_count": null,
   "metadata": {
    "scrolled": true
   },
   "outputs": [],
   "source": [
    "macd.iloc[:, [8, 9]].plot()"
   ]
  },
  {
   "cell_type": "code",
   "execution_count": null,
   "metadata": {
    "scrolled": true
   },
   "outputs": [],
   "source": [
    "fig = plt.figure(figsize=[7, 7])\n",
    "\n",
    "ax0 = fig.add_subplot(211)\n",
    "ax0.plot(macd['Adj Close'], color='blue', label='Stock price of 2330.TW')\n",
    "\n",
    "ax0.legend(loc='best')\n",
    "\n",
    "ax1 = fig.add_subplot(212)\n",
    "ax1.plot(macd['MACD'], color='green', label='MACD line')\n",
    "ax1.plot(macd['Signal'], color='red', label='Signal line')\n",
    "\n",
    "ax1.legend(loc='best')"
   ]
  },
  {
   "cell_type": "markdown",
   "metadata": {},
   "source": [
    "### 7. 將 ```Data Frame``` 存入本地端"
   ]
  },
  {
   "cell_type": "code",
   "execution_count": null,
   "metadata": {},
   "outputs": [],
   "source": [
    "macd.to_csv(\"macd_2330\")"
   ]
  },
  {
   "cell_type": "code",
   "execution_count": null,
   "metadata": {},
   "outputs": [],
   "source": [
    "ls"
   ]
  },
  {
   "cell_type": "markdown",
   "metadata": {},
   "source": [
    "### 8. 課堂練習:"
   ]
  },
  {
   "cell_type": "markdown",
   "metadata": {},
   "source": [
    "a. ```country_vaccinations.csv``` ([資料來源](https://www.kaggle.com/gpreda/covid-world-vaccination-progress)) 是各國 COVID-19 疫苗每日施打狀況的統計，你可以:  \n",
    "1. 找出日本的每日疫苗施打數並將圖畫出來\n",
    "2. 統計出各公司生產的疫苗的市占率 "
   ]
  },
  {
   "cell_type": "markdown",
   "metadata": {},
   "source": [
    "b. 更多指標! [On Balance Volume (OBV)](https://www.moneydj.com/kmdj/wiki/wikiviewer.aspx?keyid=1caf93e4-a640-422a-8db1-d20574d9f163)  \n",
    "- 上升中的 OBV 代表未來股價可能上升，反之亦然。    \n",
    "- OBV 公式:  \n",
    "    - 如果今天收盤價 > 昨日收盤價: 今日 OBV = 昨日 OBV + 今日交易量 (volume)\n",
    "    - 如果今天收盤價 < 昨日收盤價: 今日 OBV = 昨日 OBV - 今日交易量 (volume)\n",
    "    - 如果今天收盤價 = 昨日收盤價: 今日 OBV = 昨日 OBV  \n",
    "---\n",
    "用同樣的 ```2330.TW.csv``` 檔案，你可以幫忙算出 OBV 值嗎?"
   ]
  },
  {
   "cell_type": "code",
   "execution_count": null,
   "metadata": {},
   "outputs": [],
   "source": []
  }
 ],
 "metadata": {
  "kernelspec": {
   "display_name": "Python 3",
   "language": "python",
   "name": "python3"
  },
  "language_info": {
   "codemirror_mode": {
    "name": "ipython",
    "version": 3
   },
   "file_extension": ".py",
   "mimetype": "text/x-python",
   "name": "python",
   "nbconvert_exporter": "python",
   "pygments_lexer": "ipython3",
   "version": "3.7.9"
  }
 },
 "nbformat": 4,
 "nbformat_minor": 4
}
