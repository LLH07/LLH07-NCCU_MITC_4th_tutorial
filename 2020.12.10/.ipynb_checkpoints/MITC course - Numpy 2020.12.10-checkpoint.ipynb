{
 "cells": [
  {
   "cell_type": "markdown",
   "metadata": {},
   "source": [
    "### 使用 package 的第一步: 導入"
   ]
  },
  {
   "cell_type": "code",
   "execution_count": null,
   "metadata": {},
   "outputs": [],
   "source": [
    "import numpy as np"
   ]
  },
  {
   "cell_type": "markdown",
   "metadata": {},
   "source": [
    "### 創建一個 ```numpy array```: "
   ]
  },
  {
   "cell_type": "code",
   "execution_count": null,
   "metadata": {},
   "outputs": [],
   "source": [
    "a = np.array([i for i in range(20)])\n",
    "a"
   ]
  },
  {
   "cell_type": "markdown",
   "metadata": {},
   "source": [
    "![array & list 差異](data:image/png;base64,iVBORw0KGgoAAAANSUhEUgAAA4IAAAFoCAYAAAACSUWsAAAgAElEQVR4Ae3dXcgtVR0w8O3LuYtKrZtEIrIuIqIo64AVZJBWSgR+nDQQwShPQUJm6bHoIrU0e0PpwyIhJDqVgl2ofUFKZqBFGBVdmCIheWOWhtfn5f+8zWnNembv2bNnf8ya+Q2csz9mzcx//dY8M/s/az5OOHbs2LGZgQABAgQIECBAgAABAgQmI/B/JlNTFSVAgAABAgQIECBAgACBPQGJoBWBAAECBAgQIECAAAECExOQCE6swVWXAAECBAgQIECAAAECEkHrAAECBAgQIECAAAECBCYmcKCpvu/+1O1NX/uOAAECBAisLPCr/3vZytOOfUL73bG3sPoRIEBgNwKL9r16BHfTJpZKgAABAgQIECBAgACBnQlIBHdGb8EECBAgQIAAAQIECBDYjUDjqaFpKFdeeE760XsCBAgQILC0wFd/fO/SZRX8/wL2u9YEAgQIEOgjsOy+V49gH2XTEiBAgAABAgQIECBAoEABiWCBjSZkAgQIECBAgAABAgQI9BGQCPbRMy0BAgQIECBAgAABAgQKFJAIFthoQiZAgAABAgQIECBAgEAfAYlgHz3TEiBAgAABAgQIECBAoEABiWCBjSZkAgQIECBAgAABAgQI9BGQCPbRMy0BAgQIECBAgAABAgQKFJAIFthoQiZAgAABAgQIECBAgEAfAYlgHz3TEiBAgAABAgQIECBAoEABiWCBjSZkAgQIECBAgAABAgQI9BGQCPbRMy0BAgQIECBAgAABAgQKFJAIFthoQiZAgAABAgQIECBAgEAfAYlgHz3TEiBAgAABAgQIECBAoEABiWCBjSZkAgQIECBAgAABAgQI9BGQCPbRMy0BAgQIECBAgAABAgQKFJAIFthoQiZAgAABAgQIECBAgEAfAYlgHz3TEiBAgAABAgQIECBAoEABiWCBjSZkAgQIECBAgAABAgQI9BGQCPbRMy0BAgQIECBAgAABAgQKFJAIFthoQiZAgAABAgQIECBAgEAfAYlgHz3TEiBAgAABAgQIECBAoEABiWCBjSZkAgQIECBAgAABAgQI9BGQCPbRMy0BAgQIECBAgAABAgQKFJAIFthoQiZAgAABAgQIECBAgEAfAYlgHz3TEiBAgAABAgQIECBAoEABiWCBjSZkAgQIECBAgAABAgQI9BGQCPbRMy0BAgQIECBAgAABAgQKFJAIFthoQiZAgAABAgQIECBAgEAfAYlgHz3TEiBAgAABAgQIECBAoEABiWCBjSZkAgQIECBAgAABAgQI9BGQCPbRMy0BAgQIECBAgAABAgQKFJAIFthoQiZAgAABAgQIECBAgEAfAYlgHz3TEiBAgAABAgQIECBAoEABiWCBjSZkAgQIECBAgAABAgQI9BGQCPbRMy0BAgQIECBAgAABAgQKFJAIFthoQiZAgAABAgQIECBAgEAfAYlgHz3TEiBAgAABAgQIECBAoEABiWCBjSZkAgQIECBAgAABAgQI9BGQCPbRMy0BAgQIECBAgAABAgQKFJAIFthoQiZAgAABAgQIECBAgEAfAYlgHz3TEiBAgAABAgQIECBAoEABiWCBjSZkAgQIECBAgAABAgQI9BGQCPbRMy0BAgQIECBAgAABAgQKFJAIFthoQiZAgAABAgQIECBAgEAfAYlgHz3TEiBAgAABAgQIECBAoECBAwXGPKqQX/TwK3ZSnxcOPr2T5VooAQIECBAgQIAAAQK7F9AjuPs2EAEBAgQIECBAgAABAgS2KqBHcKvc8xf2rivmj1vnmAduWefczIsAAQIECBAgQIAAgRIF9AiW2GpiJkCAAAECBAgQIECAQA8BiWAPPJMSIECAAAECBAgQIECgRAGJYImtJmYCBAgQIECAAAECBAj0EJAI9sAzKQECBAgQIECAAAECBEoUkAiW2GpiJkCAAAECBAgQIECAQA8BiWAPPJMSIECAAAECBAgQIECgRAGJYImtJmYCBAgQIECAAAECBAj0EJAI9sAzKQECBAgQIECAAAECBEoUkAiW2GpiJkCAAAECBAgQIECAQA8BiWAPPJMSIECAAAECBAgQIECgRAGJYImtJmYCBAgQIECAAAECBAj0EDjQY1qTEiBAoJPAix5+Rafy6yz8wsGn1zk78yJAgAABAgQIFC2gR7Do5hM8AQIECBAgQIAAAQIEugvoEexuZgoCBHoKvOuKnjPoMPkDt3QorCgBAgQIECBAYCICegQn0tCqSYAAAQIECBAgQIAAgUpAIlhJeCVAgAABAgQIECBAgMBEBCSCE2lo1SRAgAABAgQIECBAgEAlIBGsJLwSIECAAAECBAgQIEBgIgISwYk0tGoSIECAAAECBAgQIECgEpAIVhJeCRAgQIAAAQIECBAgMBEBieBEGlo1CRAgQIAAAQIECBAgUAlIBCsJrwQIECBAgAABAgQIEJiIgERwIg2tmgQIECBAgAABAgQIEKgEJIKVhFcCBAgQIECAAAECBAhMREAiOJGGVk0CBAgQIECAAAECBAhUAhLBSsIrAQIECBAgQIAAAQIEJiJwYCL1HHw1H7hl8CEKkAABAgQIECBAgACBkQjoERxJQ6oGAQIECBAgQIAAAQIElhXQI7is1IbKvXDw6Q3N2WwJECBAgAABAgQIECDQLKBHsNnFtwQIECBAgAABAgQIEBitgERwtE2rYgQIECBAgAABAgQIEGgWkAg2u/iWAAECBAgQIECAAAECoxWQCI62aVWMAAECBAgQIECAAAECzQISwWYX3xIgQIAAAQIECBAgQGC0AhLB0TatihEgQIAAAQIECBAgQKBZQCLY7OJbAgQIECBAgAABAgQIjFZAIjjaplUxAgQIECBAgAABAgQINAtIBJtdfEuAAAECBAgQIECAAIHRCkgER9u0KkaAAAECBAgQIECAAIFmAYlgs4tvCRAgQIAAAQIECBAgMFqBA6OtmYoRIDBYgQduGWxoAiNAYAmBFz38iiVKKVKSwAsHny4pXLESILAGAT2Ca0A0CwIECBAgQIAAAQIECJQkoEewpNYSK4HCBRxxLrwBhU8gE3jXFdkXG/xYnUkw5mXuso4bbDqzJkBgoAJ6BAfaMMIiQIAAAQIECBAgQIDApgQkgpuSNV8CBAgQIECAAAECBAgMVEAiONCGERYBAgQIECBAgAABAgQ2JSAR3JSs+RIgQIAAAQIECBAgQGCgAhLBgTaMsAgQIECAAAECBAgQILApAYngpmTNlwABAgQIECBAgAABAgMVkAgOtGGERYAAAQIECBAgQIAAgU0JSAQ3JWu+BAgQIECAAAECBAgQGKiARHCgDSMsAgQIECBAgAABAgQIbEpAIrgpWfMlQIAAAQIECBAgQIDAQAUkggNtGGERIECAAAECBAgQIEBgUwISwU3Jmi8BAgQIECBAgAABAgQGKiARHGjDCIsAAQIECBAgQIAAAQKbEpAIbkrWfAkQIECAAAECBAgQIDBQAYngQBtGWAQIECBAgAABAgQIENiUgERwU7LmS4AAAQIECBAgQIAAgYEKSAQH2jDCIkCAAAECBAgQIECAwKYEJIKbkjVfAgQIECBAgAABAgQIDFRAIjjQhhEWAQIECBAgQIAAAQIENiUgEdyUrPkSIECAAAECBAgQIEBgoAISwYE2jLAIECBAgAABAgQIECCwKQGJ4KZkzZcAAQIECBAgQIAAAQIDFZAIDrRhhEWAAAECBAgQIECAAIFNCUgENyVrvgQIECBAgAABAgQIEBiogERwoA0jLAIECBAgQIAAAQIECGxKQCK4KVnzJUCAAAECBAgQIECAwEAFDgw0LmERIECAAAECAxd44JbtBziFZe6ijttvSUskQGDXAnoEd90Clk+AAAECBAgQIECAAIEtC+gR3DK4xREgQIAAgdIFXjj4dOlVED8BAgQmL6BHcPKrAAACBAgQIECAAAECBKYmIBGcWourLwECBAgQIECAAAECkxeQCE5+FQBAgAABAgQIECBAgMDUBCSCU2tx9SVAgAABAgQIECBAYPICEsHJrwIACBAgQIAAAQIECBCYmoBEcGotrr4ECBAgQIAAAQIECExeQCI4+VUAAAECBAgQIECAAAECUxOQCE6txdWXAAECBAgQIECAAIHJC0gEJ78KACBAgAABAgQIECBAYGoCEsGptbj6EiBAgAABAgQIECAweQGJ4ORXAQAECBAgQIAAAQIECExNQCI4tRZXXwIECBAgQIAAAQIEJi8gEZz8KgCAAAECBAgQIECAAIGpCUgEp9bi6kuAAAECBAgQIECAwOQFJIKTXwUAECBAgAABAgQIECAwNQGJ4NRaXH0JECBAgAABAgQIEJi8gERw8qsAAAIECBAgQIAAAQIEpiYgEZxai6svAQIECBAgQIAAAQKTF5AITn4VAECAAAECBAgQIECAwNQEJIJTa3H1JUCAAAECBAgQIEBg8gISwcmvAgAIECBAgAABAgQIEJiagERwai2uvgQIECBAgAABAgQITF5AIjj5VQAAAQIECBAgQIAAAQJTE5AITq3F1ZcAAQIECBAgQIAAgckLSAQnvwoAIECAAAECBAgQIEBgagISwam1uPoSIECAAAECBAgQIDB5AYng5FcBAAQIECBAgAABAgQITE1AIji1FldfAgQIECBAgAABAgQmLyARnPwqAIAAAQIECBAgQIAAgakJSASn1uLqS4AAAQIECBAgQIDA5AUkgpNfBQAQIECAAAECBAgQIDA1AYng1FpcfQkQIECAAAECBAgQmLyARHDyqwAAAgQIECBAgAABAgSmJiARnFqLqy8BAgQIECBAgAABApMXODB5AQBrE3jRw69Y27y6zuiFg093nUR5AgQIECBAgAABApMV0CM42aZXcQIECBAgQIAAAQIEpiqgR3CqLb/Ber/rig3OPJv1A7dkX/hIgAABAgQIECBAgECrgB7BViIFCBAgQIAAAQIECBAgMC4BieC42lNtCBAgQIAAAQIECBAg0CogEWwlUoAAAQIECBAgQIAAAQLjEpAIjqs91YYAAQIECBAgQIAAAQKtAhLBViIFCBAgQIAAAQIECBAgMC4BieC42lNtCBAgQIAAAQIECBAg0CogEWwlUoAAAQIECBAgQIAAAQLjEpAIjqs91YYAAQIECBAgQIAAAQKtAhLBViIFCBAgQIAAAQIECBAgMC4BieC42lNtCBAgQIAAAQIECBAg0CogEWwlUoAAAQIECBAgQIAAAQLjEpAIjqs91YYAAQIECBAgQIAAAQKtAhLBViIFCBAgQIAAAQIECBAgMC4BieC42lNtCBAgQIAAAQIECBAg0CogEWwlUoAAAQIECBAgQIAAAQLjEpAIjqs91YYAAQIECBAgQIAAAQKtAhLBViIFCBAgQIAAAQIECBAgMC4BieC42lNtCBAgQIAAAQIECBAg0CogEWwlUoAAAQIECBAgQIAAAQLjEpAIjqs91YYAAQIECBAgQIAAAQKtAhLBViIFCBAgQIAAAQIECBAgMC4BieC42lNtCBAgQIAAAQIECBAg0CogEWwlUoAAAQIECBAgQIAAAQLjEpAIjqs91YYAAQIECBAgQIAAAQKtAhLBViIFCBAgQIAAAQIECBAgMC6BA+OqjtoMQeCBW4YQhRgIECBAgAABAgQIEJgnoEdwnozvCRAgQIAAAQIECBAgMFIBPYIjbdhdVOuFg0/vYrGWSYAAAQIECBAgQIBARwE9gh3BFCdAgAABAgQIECBAgEDpAhLB0ltQ/AQIECBAgAABAgQIEOgoIBHsCKY4AQIECBAgQIAAAQIESheQCJbeguInQIAAAQIECBAgQIBARwGJYEcwxQkQIECAAAECBAgQIFC6gESw9BYUPwECBAgQIECAAAECBDoKSAQ7gilOgAABAgQIECBAgACB0gUkgqW3oPgJECBAgAABAgQIECDQUUAi2BFMcQIECBAgQIAAAQIECJQucKD0CnSN/0UPv6LrJGsp/8LBp9cyHzMhQIAAAQIECBAgQIBAXwE9gn0FTU+AAAECBAgQIECAAIHCBCbXI1i1z7uuqN5t9vWBWzY7f3MnQIAAAQIECBAgQIBAVwE9gl3FlCdAgAABAgQIECBAgEDhAhLBwhtQ+AQIECBAgAABAgQIEOgqIBHsKqY8AQIECBAgQIAAAQIECheQCBbegMInQIAAAQIECBAgQIBAVwGJYFcx5QkQIECAAAECBAgQIFC4gESw8AYUPgECBAgQIECAAAECBLoKSAS7iilPgAABAgQIECBAgACBwgUkgoU3oPAJECBAgAABAgQIECDQVUAi2FVMeQIECBAgQIAAAQIECBQuIBEsvAGFT4AAAQIECBAgQIAAga4CEsGuYsoTIECAAAECBAgQIECgcAGJYOENKHwCBAgQIECAAAECBAh0FZAIdhVTngABAgQIECBAgAABAoULSAQLb0DhEyBAgAABAgQIECBAoKuARLCrmPIECBAgQIAAAQIECBAoXEAiWHgDCp8AAQIECBAgQIAAAQJdBSSCXcWUJ0CAAAECBAgQIECAQOECEsHCG1D4BAgQIECAAAECBAgQ6CogEewqpjwBAgQIECBAgAABAgQKF5AIFt6AwidAgAABAgQIECBAgEBXAYlgVzHlCRAgQIAAAQIECBAgULiARLDwBhQ+AQIECBAgQIAAAQIEugpIBLuKKU+AAAECBAgQIECAAIHCBSSChTeg8AkQIECAAAECBAgQINBVQCLYVUx5AgQIECBAgAABAgQIFC4gESy8AYVPgAABAgQIECBAgACBrgIHuk4wlvIP3DKWmqgHAQIECBAgQIAAAQIEugnoEezmpTQBAgQIECBAgAABAgSKF5hcj+ALB58uvtFUgAABAgQIECBAgAABAn0E9Aj20TMtAQIECBAgQIAAAQIEChSQCBbYaEImQIAAAQIECBAgQIBAHwGJYB890xIgQIAAAQIECBAgQKBAAYlggY0mZAIECBAgQIAAAQIECPQRkAj20TMtAQIECBAgQIAAAQIEChSQCBbYaEImQIAAAQIECBAgQIBAHwGJYB890xIgQIAAAQIECBAgQKBAAYlggY0mZAIECBAgQIAAAQIECPQRkAj20TMtAQIECBAgQIAAAQIEChSQCBbYaEImQIAAAQIECBAgQIBAHwGJYB890xIgQIAAAQIECBAgQKBAAYlggY0mZAIECBAgQIAAAQIECPQRkAj20TMtAQIECBAgQIAAAQIEChSQCBbYaEImQIAAAQIECBAgQIBAHwGJYB890xIgQIAAAQIECBAgQKBAAYlggY0mZAIECBAgQIAAAQIECPQRkAj20TMtAQIECBAgQIAAAQIEChSQCBbYaEImQIAAAQIECBAgQIBAHwGJYB890xIgQIAAAQIECBAgQKBAAYlggY0mZAIECBAgQIAAAQIECPQRkAj20TMtAQIECBAgQIAAAQIEChSQCBbYaEImQIAAAQIECBAgQIBAHwGJYB890xIgQIAAAQIECBAgQKBAAYlggY0mZAIECBAgQIAAAQIECPQRkAj20TMtAQIECBAgQIAAAQIEChSQCBbYaEImQIAAAQIECBAgQIBAHwGJYB890xIgQIAAAQIECBAgQKBAAYlggY0mZAIECBAgQIAAAQIECPQRkAj20TMtAQIECBAgQIAAAQIEChSQCBbYaEImQIAAAQIECBAgQIBAHwGJYB890xIgQIAAAQIECBAgQKBAAYlggY0mZAIECBAgQIAAAQIECPQRkAj20TMtAQIECBAgQIAAAQIEChSQCBbYaEImQIAAAQIECBAgQIBAHwGJYB890xIgQIAAAQIECBAgQKBAAYlggY0mZAIECBAgQIAAAQIECPQRkAj20TMtAQIECBAgQIAAAQIEChSQCBbYaEImQIAAAQIECBAgQIBAHwGJYB890xIgQIAAAQIECBAgQKBAAYlggY0mZAIECBAgQIAAAQIECPQRkAj20TMtAQIECBAgQIAAAQIEChSQCBbYaEImQIAAAQIECBAgQIBAHwGJYB890xIgQIAAAQIECBAgQKBAAYlggY0mZAIECBAgQIAAAQIECPQRkAj20TMtAQIECBAgQIAAAQIEChSQCBbYaEImQIAAAQIECBAgQIBAHwGJYB890xIgQIAAAQIECBAgQKBAAYlggY0mZAIECBAgQIAAAQIECPQRONA28Vd/fG9bEeMJECBAgACBNQnY764J0mwIECBAYKGAHsGFPEYSIECAAAECBAgQIEBgfAISwfG1qRoRIECAAAECBAgQIEBgocAJx44dO7awhJEECBAgQIAAAQIECBAgMCoBPYKjak6VIUCAAAECBAgQIECAQLuARLDdSAkCBAgQIECAAAECBAiMSkAiOKrmVBkCBAgQIECAAAECBAi0C0gE242UIECAAAECBAgQIECAwKgEJIKjak6VIUCAAAECBAgQIECAQLuARLDdSAkCBAgQIECAAAECBAiMSkAiOKrmVBkCBAgQIECAAAECBAi0C0gE242UIECAAAECBAgQIECAwKgEJIKjak6VIUCAAAECBAgQIECAQLuARLDdSAkCBAgQIECAAAECBAiMSkAiOKrmVBkCBAgQIECAAAECBAi0C0gE242UIECAAAECBAgQIECAwKgEJIKjak6VIUCAAAECBAgQIECAQLuARLDdSAkCBAgQIECAAAECBAiMSkAiOKrmVBkCBAgQIECAAAECBAi0C0gE242UIECAAAECBAgQIECAwKgEJIKjak6VIUCAAAECBAgQIECAQLuARLDdSAkCBAgQIECAAAECBAiMSkAiOKrmVBkCBAgQIECAAAECBAi0C0gE242UIECAAAECBAgQIECAwKgEJIKjak6VIUCAAAECBAgQIECAQLuARLDdSAkCBAgQIECAAAECBAiMSkAiOKrmVBkCBAgQIECAAAECBAi0C0gE242UIECAAAECBAgQIECAwKgEJIKjak6VIUCAAAECBAgQIECAQLuARLDdSAkCBAgQIECAAAECBAiMSkAiOKrmVBkCBAgQIECAAAECBAi0CxxoL6IEgeUE/vnPf87uuuuu2XPPPTd76UtfOjv//PNnL3vZy5abWCkCBAgQIECAAAECBLYmoEdwa9TDW9ATTzwxe81rXjM74YQT9v59/OMf7xXkJz7xidnll18+++xnP7v3Gp/HNtx0003HvSq3ea/vfe97Zx/60Idm3/72t2d//OMfx0ahPgQIFCiQb/dj+xXbqlW2UTHNySefvLdNjNf77ruvQJHthbzs/iP2y9EmUT7aayzDvHVvLPUbWz2a2mve751qnb322mv3tgPRMWAoROCYYbICDz744LHZbHb839lnn93LIqZP53fSSSf1mt8QJ07r1/X96aeffuzo0aNDrJaYCBCYiMCNN95Y205X27HTTjvt2DPPPNNJId+HxLwN8wUq666vsW99/PHH58+4kDFHjhxpXPfuvffeQmowrTDnbSuWWX/j99/hw4dHsd6OvdX1CBaSsJcY5mmnnbaVsOOoVXVUOo5WRQ/cEIff//73s4suumj21re+daWj75uoUyl2m6i7eRIg8D+Bxx9/fHb77bf/7wvvBiPw85//fHb66acPZr+xKsyPfvSjxknvuOOOxu99Wa7Av/71r9m3vvWtWfwOjJ7toQzx+6vq1YwztgyzmWsErQVrE7j00ktnjzzyyCw2ACeddNLsyiuvXNu8F83oH//4x94yqzJ333337GMf+1j1caOvDz74YOP8n3rqqdmf/vSn2S9+8YtZJIDpEJ/PPPPM2f333z974xvfmI7a+vtd2m29shZIgMBCgTitP67tfvWrX72wnJHrEWjafzz//POzhx56aBZJUyTn1RD71aHsN6qYurzGacNpfdJpo67f+MY33FMgRRng+8OHD88uvvjixsh++9vfzv7whz/s/eaJdTUdYrvy5JNPzr75zW+mX+/kffp7LNa7H/7whzuJY0gLlQgOqTUKjyWOrkztCMs73vGOua0WFtdff/3eUdzYEMZR3Woofade1cMrAQJlC8QR+/QH+pEjR/w42lKTztt/vP/979/bd8TZLXHdfTXEfiP2JT/72c+qr4p5veeee47HGgeKzzrrrL1kt/oybjS3rQO41TK9dhN41ateNZu3zlbfVzcNvOaaa2oH6KN3MIYhJIPdaj3+0k4NHX8bq+GOBaLXL3bcR48erUUSO/Xzzjtv5qLqGosPBAhsUeC6666rLS2Okv/mN7+pfefDbgQiMbrxxhtrC48Diqvc2Kc2ky1/iH1clQjEouMg6SWXXFKL4rvf/W7tsw9lCsSd4mO9feyxx/ZOZ05rEevAUC/dSeOc2nuJ4NRaXH13JhA7vzwZdF3OzprDggkQmM1mp5566ixO+UqHPDlMx3m/XYHLLrts71KLdKnp2SXp90N9/8tf/rIW2rnnnjuLXs/0PgJxyl5cs24Yh0AkhHEAPK5tTYfoKXTwOxXZ/XuJ4O7bQAQTEohk8NChQ7Uaf/nLX7ZhrIn4QIDANgU+/elP1xYXiYZrZ2okO/sQP6jf9ra31ZYf11uVNHzve987Hm6cFhpJYAz5vtDNio4zjeJNrLt5T2+cCaWdh9W8EsFhtUfR0cTF4OndO5d5plQcGYofHPHMpHTauKtT3N0pnm0Y4/MjSFG+uvPTO9/5zppb/IipxqWvfZ+TWFtIjw833HBDberYMOZHTGsF/vshTgeKu29F3dPnP0Ydw27Z506t225dcTXV2XcECGxeIG4Ok/cKfu5zn1v7gtPtVpftcTybrNqWx7ZuUc9RWjYOvKVDnPIay033NdV+ZtE8q31UFUO8xnY0TnPL903p8tb1/t3vfndtVmms8T6tT8TVdUjvpBjv1zlEfGkPZrqeXXjhhbVFxWnJXYa87ukps/H7I93XxbrXtM5FuapdwzEdYn+b28w7tTFiiXGxzqXTVPOOWGLdXOXsQZcAABTESURBVHTadV6fobVlarPs+7g0Jm3zmO473/lO6+TVb8Nos7QdK88wjnFtB6yiDatp4jUf0nHV+1hX5g3rimve/Hfy/difj6F+8wXyZ0D1fY5g/syZtmdKxbOD4lkzyzyT5tChQ7WKLDNNXqZv/SKAfJ61oDp8iPqk88rrl87qtttuOxbP+ErLt72P5zXNG9qmbRrfZLfuuObF63sCBNYnkG+nYz8QQzxDMN8et23D831IW/l029K0TZlXyyibTlvF3FQ+LVstI57Bl36fzit9n8cfy2nb9sb4Rx99tCmUfd+ly4r3yw758/fi+WzV0NRuy8YT84j9cBrXon1Rtcwur/n6lseW+3Z5pmC+/lXrRfikdUrf58vP44u6hWk89zedrnqfPx85ljmvbDVN/hrrYtMzO4fWlrlN/vex7HoQ5rlB3g7VvOJvNf99lE+bf170N7jM330+v/icD+uOK5//Lj/rEdxJ+m2hcRTnnHPOqd1VapHKv//979ro9NqC2ogFH0488cQFY7c76oMf/GBtgfOOhMYRzrhrXHpXv9qEcz5Er2McfWwa1mG3ibiaYvUdAQLbEYjTuK6++urawsZw2npsq+I6pbRXqlbJ5EPckbPq8YnXONukbdsb4+OxDpvsGYzHEKVD3L2xGqLd8p7Pqg5VmUWv6d08o1y+b1o07TLj0t6f2Pfkj0y66qqrarPJ46mNXOJD9BKlN6bJJ/nPf/6Tf1X7HO0YPVDpYwbSAnEGTzp84AMfmFs2LZe+j3Wxqbdv6G2Z1qHL+2jz/HfHvL/HuGvxvN9D85ZZ/Q1Gj2o+rPIonDh9OR/WHVc+/11+9viIXepPdNmxoc1P0Yg7o5199tnHdxJR5q9//essnk0TO5L8jzl2jPEMvBj+8pe/1G6xHTv9r33ta/t0TznllH3f7eqL173udfsWHT9Y8p1kvtOKjWlcV/GGN7xh7yYP1Ux++tOf7nvuVCSD73vf+/bd7nkddpuIq6qLVwIEdiPwmc98Zm97WyU/8aP385//fLG3fP/b3/62l6RVP97jB16cphbbxRhiu5mfqh83s4htcZpMxHY3bqATN9aJ5/zdeuuttcRyk07x4zZPSs4444zaChLPdkvjjQOty9ymP/az6XTh8573vKc27z4fwrFal2I++TWB8V2+vIj9i1/84krPFIw2ShOM+C1wwQUX7FXhzjvv3HNs+x3w4Q9/uOYdMb/5zW+ePffcc40JSrVuxULCL5Ly2I+//vWv31tu/Be/UeJaubQd432cthh/c+kw1LZMY1zlfbRFui7EMwebhvygf+WfrvPxnOaf/OQntfaIdojflfmjVWJdSp99mF9K1PQszxe/+MX7Qlt3XPsWsMsvdtkdadm7FchPq6hOo1k1qmVPIzh69GjtNIE4xbDPsO56LIolP4VgUdm2cfm8qtNa0unidIQoF6e6zDuVoirfdDpLegpRVS59XdVu03GlMXpPgMD6BPLtdL7dybfPsf2Jv/emId9+tJ06lm7zuuxv8tO78pjT2PKy1TLj+6bT8fI6VOWr13mn2eeOUb5p/mls1Tyr13TcvPd5feI0uKZhlVMs87Zu2180LXfRd/kpmvPWo/zUyohrmWFR2y37u6KpHaN94hTQRetZFV+4Rxstc0pr7jH0tsxt2v6+K5Om13xeYdY0hFG4xDrQ9veUr7/RbvPWsWpZ1d9e9Vp93/a66bjalr/J8U4N3WUWPtFl//3vf6/VPD1yVhvhw15PaFyaGEd3897CnKfpDl1Np0rk063yOXpohxjXKnUxDQEC/xOIHo04OyMd8jM40nElvI9ewOgpiG1kPsSDsPObWVRl4nE/119/ffWx9ho9Ofnpbg8//HCtTJ8P0VsXbZH2cMX85j3aIz/F8o477mhdfPSqpEPac5J+v+r79EYe0SOUn9lTzffKK6+s3u69pncZrY1Y8kO0W5+H00fP3v3337/vbJqmxUevc6xb1Z1Qm8pU38V+POZdDWkPWfVdvA6xLdP4Nvk+jMI01v2mv9d02VEm72WuzhRLy63j/VDjWkfdJILrUDSPXgJxqo1hPQJ5spj/iFjPUrrPZahxda+JKQiMXyC/Y2hsRxbd7XDIIpHUxo+4RUNTAnTbbbftu/Yun0f+I/TPf/5zXmTh5zDN/0XyFIn3a1/72tqpbzGjSFjjx2/TkJ9iGddZRTI5b4hx6bVYkdRGUryuIeqRnjb5kY98ZO6s89hjfVv1IOYio7kBZCNifcn3WVmRlT/mjwJp+rvKPXbdlitXdgsTxmm76RCXEw1hGGpcTTYSwSYV321U4JWvfGVt/l/4whcW7rBqhX1oFciP5rdOsKUCQ41rS9W3GALFCDT1kl166aXFxJ8Gmie16bjqfVMCtEyP0tvf/vZqFiu9xvVK+b+LLrpo77q9NImKmUeCsyihjd62PDFd9FiifFw+7UoVSibKexvz5CYputfzky8/jy8tP+99JLNxTVifIeKYl2z3mW81bf4okOr79HVobZnGNrT36bWDQ4ptqHE1GUkEm1R8t1GB2CGkp0fERdNx9DOOIC46grnRoMycAAECBI4L5A+Zj9PY0lP9jhec8JuXvOQltdpv4kHvkdzce++9C5PAKoj8jp9f/epXq1H7XvPTLy+77LJ9ZVb9Iu9tjORq3mmh1TIuueSS6u3e61e+8pXa52U+xPPf2k4nbJtP3pPTVn5T44fSlpuqn/kOR8BdQ4fTFpOJJDbU3//+9/ceH1FVOo5+xpHQ6q5bcTR2U6dmVMss8TXuwhanzfzqV7/aS5rTu5Dtsj5DjWuXJpZNoGSB+OEed3OORypUQ5yyGAfy+v7YruY3ttdVT2dMHWIfGKcPvuUtb5lFj+My155V00dPVrRR1ZsY+4eIKU/C4rv0soFF1+9V8+7yetddd9WK50lNbeR/P0Q9o+5V7HHgIfYrJf0OCNfoyYzrC+Muk6lxU50XfTeUtlwU46bHxQGF8Pz1r3+9tx4/8sgjx9ePTS970fyHGteimBeNkwgu0jFuYwKx0Y/b9sbpRukF07ETiNtZx7/YOcVF5Js8TWNjFWyZcdN1AU2nJ1Wzue+++2af/OQna1bVuF2+DjWuXZpYNoGxCEQvUTxLsPpxHq+33377vlvej6W+265H3HBr3UPsL9NHQkRSlj+iID/tctH1e6vEF49KSIfoOW3a56Vl4n0kwGnyFM9DXHQ6bD79rj5HwhoHTNLY1xHLENpyHfWIecTB63RYdIpsJFrx2Jp0PU6n3dX7ocbV18OpoX0FTb+yQCQ+cXeouMNXJH35EEczo5cwHrwaf4BjGuK5QumQ330uHRdHeM8555zBJYFDjSu1854AgdUFoucv/yE+hofMry4y/CnzaxvTB7pX0eeJ2vnnn1+N6v0aSVF+pkrsv/JrIZs+54lUCaciR4xvetOb1p4ERkPsui17rwzJDKI3Lx3ye0VU42L9iUuFhpYEDjWuyq3Pq0Swj55p1yIQR71+97vfzR599NHZkSNHatcPxgJi5xDJ4JiGfEd81llnNVYvjojmG8S46Uokz+EVR5Tzf9u4KctQ42pE9CUBAisLxPY5PVAVvYJxtN4wTIE4lTI9sFqdYllFG6cvpolaXL+3zlN9f/zjH1eL6v0a61qcdTLUIZKDOFidDvG3EnecjTOe8n1zfI7TrZcddt2Wy8bZVi7asDqroCqb3z01vo8D/uedd16tbJwuHL8Lw/OZZ57ZZ9r0QPhqGet6HWpc66qfRHBdkubTWyA2evHMpscee2zfxjJ2XJF8jGHId8RRp3PPPbexatdcc03t+9iJxDOL4sfZLq+dGGpcNSwfCBBYi0B+Y5E4OBXbsT5D3kPQZ16mrQvkp3qm+878tND8Ji31OXX/lD6SovvU+6dY5nmI+6fazjdf+tKXaguKpDqeJRk9eYsu9ahN1PJhl23ZEtrSo++5555a2XnXpMZpzOmlQpFUx2+/+F0Ynus8YFELqOXDUONqCXvp0RLBpakU3JZA/LHHNQ1xVC0d7r777vRjse/jlMp0iI1d0w0B4pqK9ChalMuv9Ujns633Q41rW/W3HAJTE4gfYfmZBjfffHMvhnTb1mtGJt4nkJ/qmZ5imd6NM3pbmvY9+2a45BfR85P+kI8f/E29You+izukpkPbM/TSstt+nye9N9xww9qTlV215bos4/dCflZT3Puhach/41133XX7bnTUNN2mvxtqXOuqt0RwXZLms3aB/Pz4tS9gBzOMI7P5dRCxsVtmiFtjD3EYalxDtBITgVIF8msF48ddfq1zW93iYFY6xKl1bUOU0XvYplQfHwdTo3eqGqpTLMMyTdTizJJ1DnnPT96btcyyIjHN15P8LqTLzGcXZfK7s64jhl215Tpij1Mq8+ePRtsuu96deuqp6whj7fMYalyrVlQiuKqc6TYusOoNYladbtMVuvbaa2eXX355bTFxxHTZjWJtwjkf4ohsnx9Nm7LrG9ec6vqaAIEtCcSP3LhWJx3yU8TTcU3v02vXYnzb9WSRuJx55pm1MyOa5uu7/QL5KZ9ximXuvc6DrbHvyHt+8t6s/VE2f5MmsVEiv6a+earhfxvr85133tk50G23ZecAGyaIuh48eLB24CGK3XrrrQ2lV/sq1rmvf/3rq03836k28ZtnHXH1qlTHiSWCHcEU7y9w8skn7z3rqO0ak/yGBPFcpaYhPxc/zimPjdAQhtggxGk50WsWp42kQ5yWk59ako4/5ZRT0o97PYmL6hW9jXF3ti6nXK1it424ahX3gQCBQQh86lOfqt3Mq8u2JioQSV06xDZx3jYttmeSwFSr2/u8Zy32Nen+Jnpm1nmdeX7tYZ+b0Fx44YW1ysY+ve33Qm2CLX3Iey7TazHzEOIUyVifoy5dh223Zdf40vLx9xyXv8SdVNPe5ygTB5IWnYqc96guSvJifYibCKbrdBrHvPf5Ke7L9DZvI6558W7je88R3IZyIcuIRzncdNNNS0cbz5ha5eLd+PEQRw7jXxwhvuCCC2ZnnHHG8eXG6UZxBDDfYMby5g0xn7R8bHDjVKbown/qqaf2Hkj67LPP7iVl8+axyvfzvJ588sm9HVd+Gmi1jEgC46Gz+QamGh+vMS42Wuk8qnpVD3WORDMuTo+jbGm5dD5t77vabSuutriNJ0BguwKxvb/66qtrD5nvEkH0EEUvYppAxg/Gw4cP790wK543F9vruDlNuj3Lt1FdljnlspGMpQcg0x/mH/3oR9dKk99QaJmHyM8LIBLUSLLSeOP5lXHTkCENYRjPD6yGOOPnueeem8V6Xu3bIwH8wQ9+sK+3tJpm2ddttuW8mPJnAablYlz8hkzbLB0ff+Nt7XfxxRfXnKokL7YZ1UGLSDRj25A+3zRdTtv76FBIty1Vm8Vv0Oeff3720EMP7SWXUZdq2EZc1bJ28nrMMFmBBx98MJ5mu/K/G2+8sWYXn9P55eOrwmmZZd8fPXq0mrzxNca3zevss89unLbLl23LWGb8oUOHjj3zzDNLLfbRRx89dtJJJ7XWLV3u4cOHa+XbFrSK3TbiaovbeAIEugvk2+nYD3QdTjvttNo2ptr+zNvmp/O/9957G6et5pG/xvYs31ctijm28+k8FpVN40qniffLDHlcbfuYVZaxTBzzyjz++OM1i3T5MW5dQ9Nylt3HzYshX09jncuHrv759PE5X84y63A1n6jj6aefPtc49a7e5/vnZdfPJuNqnutsy6puTTbV8rq8xu+X+Jtfdsh92pYV/mkbtLXfIsd0WXm8m44rX942Pzs1dCfp97QXmt8NdJFG9JzFXcTarqOL8XHEadFw4oknLhq98XHRuxfPvIlTRZftSY2jYNFzmJ+C0hRslIn5x9GrLsMqdtuIq0sdlCVAYHsCee9PlyXHqWHxHNTYti8aqm1/fpOaRdMYVxeIXqnoTc2H2BdVPVb5uFU+r/O00Gr5+fWF0dMU15oPaYj9eDzOKT/dsCnGWJ/jt8+q6/O22rIp9lW+i/rG467icWCLTgfN5x0++bXIeZnqc5QL/2V/T8V04Rjbn0VD07Zp03Etimfj47aZdVrW8ATyo6fpEZG29/lRnvic9l7l49Pax5G022677Vj0jqVHc2KZceQvvo+eqq5HFWOZMW0aR8w/juas46hZfvRwnlEsP2xjuVGPvssOh5hPzDOtW2pV+aa9dU1HUaty+esqdtuIK4/TZwIEVhdIt9OxLYntxSpDbI9i+1JtA+N9l+1clD1y5Mi+7X9s42LfkG77823aouWk2+io36Kyab3T/VDEsMyQxhUOEfeiIeZbecXytjFEe1fLrF6j7dY5RDtW8w7zZXu52mKIfXk133iNuqRDtG26DkYcXYf076FpGcvOL+YT8abxhEXT+lyV6fr3t422TOub+6Ztkb+P9TnqGn9/62j/+NuK30/p32UsM5YR7Zz+Xae9dcuu29X8q7aIecf7aMNF8VfTbSqu1H9b70+IBW0827QAAgQIECBAgACBrQrEdeQvf/nLjy8zejuil6ZLL8rxib3ZqYC23Cn/aBfu1NDRNq2KESBAgAABAlMWyO+KGJcCSALLXCO0ZZntNvSo9QgOvYXER4AAAQIECBBYQSAeXZTeyTGuI88fG7TCbE2yAwFtuQP0CSxSj+AEGlkVCRAgQIAAgWkJxM1V0iQwbigmCSxzHdCWZbZbCVFLBEtoJTESIECAAAECBDoIxPNl0+Gqq65KP3pfkIC2LKixCgvVqaGFNZhwCRAgQIAAAQKLBJ544ol9jx2K3sF1PjZi0fKNW5+AtlyfpTntF9AjuN/ENwQIECBAgACBYgVuvvnmWuyHDh2SBNZEyvmgLctpqxIjlQiW2GpiJkCAAAECBAjMEXj22WePj4lrA6+55prjn70pS0BbltVepUXr1NDSWky8BAgQIECAAAECBAgQ6CmgR7AnoMkJECBAgAABAgQIECBQmoBEsLQWEy8BAgQIECBAgAABAgR6CkgEewKanAABAgQIECBAgAABAqUJSARLazHxEiBAgAABAgQIECBAoKeARLAnoMkJECBAgAABAgQIECBQmoBEsLQWEy8BAgQIECBAgAABAgR6Cvw/Mm/BEPEqomgAAAAASUVORK5CYII=)"
   ]
  },
  {
   "cell_type": "markdown",
   "metadata": {},
   "source": [
    "- numpy 的 ```array``` 在電腦記憶體裡是以連續的方式被儲存，所以讀取速度比 python 原生的 ```list``` 還快。  \n",
    "- 但相對的，```array``` 裡面的元素必須要同一型態。"
   ]
  },
  {
   "cell_type": "code",
   "execution_count": null,
   "metadata": {},
   "outputs": [],
   "source": [
    "a = a.reshape(5, 4)\n",
    "a"
   ]
  },
  {
   "cell_type": "markdown",
   "metadata": {},
   "source": [
    "#### ```numpy array``` 的各種屬性:"
   ]
  },
  {
   "cell_type": "code",
   "execution_count": null,
   "metadata": {},
   "outputs": [],
   "source": [
    "a.shape"
   ]
  },
  {
   "cell_type": "code",
   "execution_count": null,
   "metadata": {},
   "outputs": [],
   "source": [
    "a.ndim"
   ]
  },
  {
   "cell_type": "code",
   "execution_count": null,
   "metadata": {},
   "outputs": [],
   "source": [
    "a.size"
   ]
  },
  {
   "cell_type": "code",
   "execution_count": null,
   "metadata": {},
   "outputs": [],
   "source": [
    "a.dtype"
   ]
  },
  {
   "cell_type": "markdown",
   "metadata": {},
   "source": [
    "#### 維度:"
   ]
  },
  {
   "cell_type": "code",
   "execution_count": null,
   "metadata": {
    "scrolled": true
   },
   "outputs": [],
   "source": [
    "a = np.array([1, 2, 3, 4, 5])\n",
    "a"
   ]
  },
  {
   "cell_type": "code",
   "execution_count": null,
   "metadata": {},
   "outputs": [],
   "source": [
    "a.shape"
   ]
  },
  {
   "cell_type": "code",
   "execution_count": null,
   "metadata": {},
   "outputs": [],
   "source": [
    "a.ndim"
   ]
  },
  {
   "cell_type": "code",
   "execution_count": null,
   "metadata": {},
   "outputs": [],
   "source": [
    "b = np.array([ [1, 2, 3, 4, 5] ])\n",
    "b.ndim"
   ]
  },
  {
   "cell_type": "code",
   "execution_count": null,
   "metadata": {},
   "outputs": [],
   "source": [
    "b.shape"
   ]
  },
  {
   "cell_type": "markdown",
   "metadata": {},
   "source": [
    "```(幾個 row, 幾個 column)```: 橫的是 row，直的是 column。"
   ]
  },
  {
   "cell_type": "markdown",
   "metadata": {},
   "source": [
    "```b``` 則是 <font color='blue'> 1 row 5 column </font> :  \n",
    "$ b = \\begin{bmatrix} 1&2&3&4&5 \\end{bmatrix}$"
   ]
  },
  {
   "cell_type": "markdown",
   "metadata": {},
   "source": [
    "#### 找到一個 array 裡的特定元素:"
   ]
  },
  {
   "cell_type": "code",
   "execution_count": null,
   "metadata": {},
   "outputs": [],
   "source": [
    "c = np.array([1, 4, 8, 16, 32])"
   ]
  },
  {
   "cell_type": "code",
   "execution_count": null,
   "metadata": {},
   "outputs": [],
   "source": [
    "c[2]"
   ]
  },
  {
   "cell_type": "code",
   "execution_count": null,
   "metadata": {},
   "outputs": [],
   "source": [
    "d = np.array([[1, 2, 0, 54], [-1, 7, 11, -8]])"
   ]
  },
  {
   "cell_type": "markdown",
   "metadata": {},
   "source": [
    "$ d = \\begin{bmatrix} 1&2&0&54\\\\-1&7&11&-8 \\end{bmatrix}$"
   ]
  },
  {
   "cell_type": "code",
   "execution_count": null,
   "metadata": {},
   "outputs": [],
   "source": [
    "d.shape"
   ]
  },
  {
   "cell_type": "code",
   "execution_count": null,
   "metadata": {
    "scrolled": true
   },
   "outputs": [],
   "source": [
    "d[0, 2]"
   ]
  },
  {
   "cell_type": "code",
   "execution_count": null,
   "metadata": {},
   "outputs": [],
   "source": [
    "d[0:2, 3]"
   ]
  },
  {
   "cell_type": "code",
   "execution_count": null,
   "metadata": {
    "scrolled": true
   },
   "outputs": [],
   "source": [
    "d[1, 0:4]"
   ]
  },
  {
   "cell_type": "markdown",
   "metadata": {},
   "source": [
    "也可以用條件篩選:"
   ]
  },
  {
   "cell_type": "code",
   "execution_count": null,
   "metadata": {},
   "outputs": [],
   "source": [
    "d[d < 0]"
   ]
  },
  {
   "cell_type": "markdown",
   "metadata": {},
   "source": [
    "### 特殊形狀的 array:"
   ]
  },
  {
   "cell_type": "code",
   "execution_count": null,
   "metadata": {},
   "outputs": [],
   "source": [
    "np.ones((4, 5))"
   ]
  },
  {
   "cell_type": "code",
   "execution_count": null,
   "metadata": {
    "scrolled": true
   },
   "outputs": [],
   "source": [
    "np.zeros((4, 5))"
   ]
  },
  {
   "cell_type": "markdown",
   "metadata": {},
   "source": [
    "### ```numpy``` 常用的一些方法:"
   ]
  },
  {
   "cell_type": "markdown",
   "metadata": {},
   "source": [
    "#### 從樣本中取值:"
   ]
  },
  {
   "cell_type": "markdown",
   "metadata": {},
   "source": [
    "- ```.random.randn()```: 從標準常態分布中取值，括號內放你要取幾個值(以及其維度)。\n",
    "- ```.random.rand()```: 從隨機樣本```[0, 1)``` 中取值。\n",
    "- ```.random.randint(a, b, size=(b, c))```: 在 ```[a, b)``` 中取出總共 ```b*c``` 個整數。"
   ]
  },
  {
   "cell_type": "code",
   "execution_count": null,
   "metadata": {},
   "outputs": [],
   "source": [
    "np.random.randn(5)"
   ]
  },
  {
   "cell_type": "code",
   "execution_count": null,
   "metadata": {},
   "outputs": [],
   "source": [
    "np.random.rand(2, 3)"
   ]
  },
  {
   "cell_type": "code",
   "execution_count": null,
   "metadata": {},
   "outputs": [],
   "source": [
    "np.random.randint(100, size = 5)"
   ]
  },
  {
   "cell_type": "code",
   "execution_count": null,
   "metadata": {},
   "outputs": [],
   "source": [
    "np.random.randint(1, 11, size = (2, 5))"
   ]
  },
  {
   "cell_type": "markdown",
   "metadata": {},
   "source": [
    "### array 運算:\n"
   ]
  },
  {
   "cell_type": "markdown",
   "metadata": {},
   "source": [
    "加，減，乘，除都跟 ```python``` 的運用方法一樣:"
   ]
  },
  {
   "cell_type": "code",
   "execution_count": null,
   "metadata": {},
   "outputs": [],
   "source": [
    "a = np.array([[1, 3, 3], [4, 5, 6]])"
   ]
  },
  {
   "cell_type": "code",
   "execution_count": null,
   "metadata": {},
   "outputs": [],
   "source": [
    "a.shape"
   ]
  },
  {
   "cell_type": "code",
   "execution_count": null,
   "metadata": {},
   "outputs": [],
   "source": [
    "b = np.array([[1, 6, 3], [-1, 5, 4]])"
   ]
  },
  {
   "cell_type": "markdown",
   "metadata": {},
   "source": [
    "$ a = \\begin{bmatrix} 1&3&3\\\\4&5&6 \\end{bmatrix}$ $ b = \\begin{bmatrix} 1&6&3\\\\-1&5&4 \\end{bmatrix}$"
   ]
  },
  {
   "cell_type": "code",
   "execution_count": null,
   "metadata": {},
   "outputs": [],
   "source": [
    "a + b"
   ]
  },
  {
   "cell_type": "code",
   "execution_count": null,
   "metadata": {},
   "outputs": [],
   "source": [
    "a / b"
   ]
  },
  {
   "cell_type": "code",
   "execution_count": null,
   "metadata": {},
   "outputs": [],
   "source": [
    "a * b"
   ]
  },
  {
   "cell_type": "markdown",
   "metadata": {},
   "source": [
    "當然，除了基本的運算，```numpy``` 也有內建多種科學運算，比如:"
   ]
  },
  {
   "cell_type": "code",
   "execution_count": null,
   "metadata": {},
   "outputs": [],
   "source": [
    "np.square(a) # same as a * a"
   ]
  },
  {
   "cell_type": "code",
   "execution_count": null,
   "metadata": {},
   "outputs": [],
   "source": [
    "np.exp(a)"
   ]
  },
  {
   "cell_type": "markdown",
   "metadata": {},
   "source": [
    "求基本的統計數據:"
   ]
  },
  {
   "cell_type": "code",
   "execution_count": null,
   "metadata": {},
   "outputs": [],
   "source": [
    "a.max()"
   ]
  },
  {
   "cell_type": "code",
   "execution_count": null,
   "metadata": {},
   "outputs": [],
   "source": [
    "a.min()"
   ]
  },
  {
   "cell_type": "code",
   "execution_count": null,
   "metadata": {},
   "outputs": [],
   "source": [
    "a.sum()"
   ]
  },
  {
   "cell_type": "markdown",
   "metadata": {},
   "source": [
    "##### 求某一列(row) 或 某一行(column) 的最大值:  \n",
    "提供參數 ```axis```:```axis = 0``` 代表 column，```axis = 1``` 代表 row。"
   ]
  },
  {
   "cell_type": "code",
   "execution_count": null,
   "metadata": {},
   "outputs": [],
   "source": [
    "a.max(axis = 1) \n",
    "# 求 a 的各個 row 最大值。"
   ]
  },
  {
   "cell_type": "code",
   "execution_count": null,
   "metadata": {},
   "outputs": [],
   "source": [
    "a.max(axis = 0)\n",
    "# 求 a 的各個 column 最大值。"
   ]
  }
 ],
 "metadata": {
  "kernelspec": {
   "display_name": "Python 3",
   "language": "python",
   "name": "python3"
  },
  "language_info": {
   "codemirror_mode": {
    "name": "ipython",
    "version": 3
   },
   "file_extension": ".py",
   "mimetype": "text/x-python",
   "name": "python",
   "nbconvert_exporter": "python",
   "pygments_lexer": "ipython3",
   "version": "3.7.4"
  }
 },
 "nbformat": 4,
 "nbformat_minor": 4
}
